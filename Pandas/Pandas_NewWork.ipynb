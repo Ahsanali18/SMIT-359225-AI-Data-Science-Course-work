{
 "cells": [
  {
   "cell_type": "code",
   "execution_count": 1,
   "id": "4626a77d-3f89-494d-9ef6-c34c921b36bf",
   "metadata": {},
   "outputs": [],
   "source": [
    "import pandas as pd"
   ]
  },
  {
   "cell_type": "code",
   "execution_count": 2,
   "id": "9ec2c255-828d-4ef3-96b4-c56ace7d1fd7",
   "metadata": {},
   "outputs": [],
   "source": [
    "# student_df = pd.read_csv(\"student_marks.csv\")"
   ]
  },
  {
   "cell_type": "code",
   "execution_count": 3,
   "id": "74922234-1289-48a7-bf68-bc41ae5cbf32",
   "metadata": {},
   "outputs": [],
   "source": [
    "# df_students.rename(columns = {\"quiz_1\":\"mini_exam_1\",\"quiz_2\":\"mini_exam_2\",\"quiz_3\":\"mini_exam_3\"},inplace = True)"
   ]
  },
  {
   "cell_type": "code",
   "execution_count": 4,
   "id": "9bdd2bab-ef23-486c-8c5f-955b21873068",
   "metadata": {},
   "outputs": [],
   "source": [
    "# new_df = df_students.iloc[:10]"
   ]
  },
  {
   "cell_type": "code",
   "execution_count": 5,
   "id": "45741f8e-a851-475d-8afa-02f867202328",
   "metadata": {},
   "outputs": [],
   "source": [
    "# To concatenate the two data frames\n",
    "# pd.concate([df_students,new_df],axis=0,ignore_index = True)"
   ]
  },
  {
   "cell_type": "code",
   "execution_count": 6,
   "id": "69c5eb96-b289-4e35-81b2-7a5d7288a8f9",
   "metadata": {},
   "outputs": [
    {
     "data": {
      "text/html": [
       "<div>\n",
       "<style scoped>\n",
       "    .dataframe tbody tr th:only-of-type {\n",
       "        vertical-align: middle;\n",
       "    }\n",
       "\n",
       "    .dataframe tbody tr th {\n",
       "        vertical-align: top;\n",
       "    }\n",
       "\n",
       "    .dataframe thead th {\n",
       "        text-align: right;\n",
       "    }\n",
       "</style>\n",
       "<table border=\"1\" class=\"dataframe\">\n",
       "  <thead>\n",
       "    <tr style=\"text-align: right;\">\n",
       "      <th></th>\n",
       "      <th>product_id</th>\n",
       "      <th>product_name</th>\n",
       "      <th>category</th>\n",
       "      <th>price</th>\n",
       "    </tr>\n",
       "  </thead>\n",
       "  <tbody>\n",
       "    <tr>\n",
       "      <th>0</th>\n",
       "      <td>P001</td>\n",
       "      <td>Stage</td>\n",
       "      <td>Clothing</td>\n",
       "      <td>534.93</td>\n",
       "    </tr>\n",
       "    <tr>\n",
       "      <th>1</th>\n",
       "      <td>P002</td>\n",
       "      <td>Least</td>\n",
       "      <td>Accessories</td>\n",
       "      <td>56.56</td>\n",
       "    </tr>\n",
       "    <tr>\n",
       "      <th>2</th>\n",
       "      <td>P003</td>\n",
       "      <td>Number</td>\n",
       "      <td>Home</td>\n",
       "      <td>339.92</td>\n",
       "    </tr>\n",
       "    <tr>\n",
       "      <th>3</th>\n",
       "      <td>P004</td>\n",
       "      <td>Evening</td>\n",
       "      <td>Clothing</td>\n",
       "      <td>138.74</td>\n",
       "    </tr>\n",
       "    <tr>\n",
       "      <th>4</th>\n",
       "      <td>P005</td>\n",
       "      <td>Protect</td>\n",
       "      <td>Footwear</td>\n",
       "      <td>68.06</td>\n",
       "    </tr>\n",
       "    <tr>\n",
       "      <th>...</th>\n",
       "      <td>...</td>\n",
       "      <td>...</td>\n",
       "      <td>...</td>\n",
       "      <td>...</td>\n",
       "    </tr>\n",
       "    <tr>\n",
       "      <th>95</th>\n",
       "      <td>P096</td>\n",
       "      <td>Service</td>\n",
       "      <td>Footwear</td>\n",
       "      <td>872.76</td>\n",
       "    </tr>\n",
       "    <tr>\n",
       "      <th>96</th>\n",
       "      <td>P097</td>\n",
       "      <td>Away</td>\n",
       "      <td>Home</td>\n",
       "      <td>932.46</td>\n",
       "    </tr>\n",
       "    <tr>\n",
       "      <th>97</th>\n",
       "      <td>P098</td>\n",
       "      <td>Decision</td>\n",
       "      <td>Accessories</td>\n",
       "      <td>567.31</td>\n",
       "    </tr>\n",
       "    <tr>\n",
       "      <th>98</th>\n",
       "      <td>P099</td>\n",
       "      <td>So</td>\n",
       "      <td>Electronics</td>\n",
       "      <td>698.17</td>\n",
       "    </tr>\n",
       "    <tr>\n",
       "      <th>99</th>\n",
       "      <td>P100</td>\n",
       "      <td>Everything</td>\n",
       "      <td>Home</td>\n",
       "      <td>922.89</td>\n",
       "    </tr>\n",
       "  </tbody>\n",
       "</table>\n",
       "<p>100 rows × 4 columns</p>\n",
       "</div>"
      ],
      "text/plain": [
       "   product_id product_name     category   price\n",
       "0        P001        Stage     Clothing  534.93\n",
       "1        P002        Least  Accessories   56.56\n",
       "2        P003       Number         Home  339.92\n",
       "3        P004      Evening     Clothing  138.74\n",
       "4        P005      Protect     Footwear   68.06\n",
       "..        ...          ...          ...     ...\n",
       "95       P096      Service     Footwear  872.76\n",
       "96       P097         Away         Home  932.46\n",
       "97       P098     Decision  Accessories  567.31\n",
       "98       P099           So  Electronics  698.17\n",
       "99       P100   Everything         Home  922.89\n",
       "\n",
       "[100 rows x 4 columns]"
      ]
     },
     "execution_count": 6,
     "metadata": {},
     "output_type": "execute_result"
    }
   ],
   "source": [
    "orders = pd.read_csv(\"orders.csv\",parse_dates = [\"order_date\"])\n",
    "products = pd.read_csv(\"products.csv\")\n",
    "products"
   ]
  },
  {
   "cell_type": "code",
   "execution_count": 7,
   "id": "75f6b4b8-18b4-4192-9e64-3b28d05ef711",
   "metadata": {},
   "outputs": [
    {
     "data": {
      "text/plain": [
       "order_id               object\n",
       "customer_id            object\n",
       "product_id             object\n",
       "quantity                int64\n",
       "order_date     datetime64[ns]\n",
       "dtype: object"
      ]
     },
     "execution_count": 7,
     "metadata": {},
     "output_type": "execute_result"
    }
   ],
   "source": [
    "orders.dtypes"
   ]
  },
  {
   "cell_type": "code",
   "execution_count": 8,
   "id": "751cffa5-35db-4863-827b-684b819db2ce",
   "metadata": {},
   "outputs": [],
   "source": [
    "orders_merge = orders.merge(products[[\"product_id\",\"product_name\",\"price\"]], on=\"product_id\", how = \"left\")"
   ]
  },
  {
   "cell_type": "code",
   "execution_count": 9,
   "id": "d107ba0c-9dc8-40b8-ad5a-eff55f227009",
   "metadata": {},
   "outputs": [],
   "source": [
    "orders_merge[\"total_price\"]= orders_merge[\"quantity\"]*orders_merge[\"price\"]"
   ]
  },
  {
   "cell_type": "code",
   "execution_count": 10,
   "id": "ef55bc33-e28f-4e61-94d3-1e540f30cfbb",
   "metadata": {},
   "outputs": [
    {
     "data": {
      "text/html": [
       "<div>\n",
       "<style scoped>\n",
       "    .dataframe tbody tr th:only-of-type {\n",
       "        vertical-align: middle;\n",
       "    }\n",
       "\n",
       "    .dataframe tbody tr th {\n",
       "        vertical-align: top;\n",
       "    }\n",
       "\n",
       "    .dataframe thead th {\n",
       "        text-align: right;\n",
       "    }\n",
       "</style>\n",
       "<table border=\"1\" class=\"dataframe\">\n",
       "  <thead>\n",
       "    <tr style=\"text-align: right;\">\n",
       "      <th></th>\n",
       "      <th>order_id</th>\n",
       "      <th>customer_id</th>\n",
       "      <th>product_id</th>\n",
       "      <th>quantity</th>\n",
       "      <th>order_date</th>\n",
       "      <th>product_name</th>\n",
       "      <th>price</th>\n",
       "      <th>total_price</th>\n",
       "    </tr>\n",
       "  </thead>\n",
       "  <tbody>\n",
       "    <tr>\n",
       "      <th>0</th>\n",
       "      <td>O00001</td>\n",
       "      <td>C0333</td>\n",
       "      <td>P022</td>\n",
       "      <td>1</td>\n",
       "      <td>2022-01-09</td>\n",
       "      <td>Tax</td>\n",
       "      <td>185.33</td>\n",
       "      <td>185.33</td>\n",
       "    </tr>\n",
       "    <tr>\n",
       "      <th>1</th>\n",
       "      <td>O00002</td>\n",
       "      <td>C0068</td>\n",
       "      <td>P090</td>\n",
       "      <td>1</td>\n",
       "      <td>2022-01-27</td>\n",
       "      <td>Perform</td>\n",
       "      <td>947.55</td>\n",
       "      <td>947.55</td>\n",
       "    </tr>\n",
       "    <tr>\n",
       "      <th>2</th>\n",
       "      <td>O00003</td>\n",
       "      <td>C0483</td>\n",
       "      <td>P021</td>\n",
       "      <td>1</td>\n",
       "      <td>2022-01-17</td>\n",
       "      <td>Art</td>\n",
       "      <td>938.65</td>\n",
       "      <td>938.65</td>\n",
       "    </tr>\n",
       "    <tr>\n",
       "      <th>3</th>\n",
       "      <td>O00004</td>\n",
       "      <td>C0214</td>\n",
       "      <td>P076</td>\n",
       "      <td>4</td>\n",
       "      <td>2022-01-07</td>\n",
       "      <td>Amount</td>\n",
       "      <td>154.17</td>\n",
       "      <td>616.68</td>\n",
       "    </tr>\n",
       "    <tr>\n",
       "      <th>4</th>\n",
       "      <td>O00005</td>\n",
       "      <td>C0411</td>\n",
       "      <td>P073</td>\n",
       "      <td>4</td>\n",
       "      <td>2022-01-12</td>\n",
       "      <td>Second</td>\n",
       "      <td>131.85</td>\n",
       "      <td>527.40</td>\n",
       "    </tr>\n",
       "    <tr>\n",
       "      <th>...</th>\n",
       "      <td>...</td>\n",
       "      <td>...</td>\n",
       "      <td>...</td>\n",
       "      <td>...</td>\n",
       "      <td>...</td>\n",
       "      <td>...</td>\n",
       "      <td>...</td>\n",
       "      <td>...</td>\n",
       "    </tr>\n",
       "    <tr>\n",
       "      <th>2579</th>\n",
       "      <td>O02580</td>\n",
       "      <td>C0237</td>\n",
       "      <td>P098</td>\n",
       "      <td>5</td>\n",
       "      <td>2024-12-22</td>\n",
       "      <td>Decision</td>\n",
       "      <td>567.31</td>\n",
       "      <td>2836.55</td>\n",
       "    </tr>\n",
       "    <tr>\n",
       "      <th>2580</th>\n",
       "      <td>O02581</td>\n",
       "      <td>C0236</td>\n",
       "      <td>P007</td>\n",
       "      <td>1</td>\n",
       "      <td>2024-12-05</td>\n",
       "      <td>Finish</td>\n",
       "      <td>325.74</td>\n",
       "      <td>325.74</td>\n",
       "    </tr>\n",
       "    <tr>\n",
       "      <th>2581</th>\n",
       "      <td>O02582</td>\n",
       "      <td>C0029</td>\n",
       "      <td>P035</td>\n",
       "      <td>1</td>\n",
       "      <td>2024-12-12</td>\n",
       "      <td>First</td>\n",
       "      <td>362.04</td>\n",
       "      <td>362.04</td>\n",
       "    </tr>\n",
       "    <tr>\n",
       "      <th>2582</th>\n",
       "      <td>O02583</td>\n",
       "      <td>C0171</td>\n",
       "      <td>P077</td>\n",
       "      <td>1</td>\n",
       "      <td>2024-12-16</td>\n",
       "      <td>Government</td>\n",
       "      <td>233.11</td>\n",
       "      <td>233.11</td>\n",
       "    </tr>\n",
       "    <tr>\n",
       "      <th>2583</th>\n",
       "      <td>O02584</td>\n",
       "      <td>C0421</td>\n",
       "      <td>P038</td>\n",
       "      <td>5</td>\n",
       "      <td>2024-12-01</td>\n",
       "      <td>Black</td>\n",
       "      <td>817.52</td>\n",
       "      <td>4087.60</td>\n",
       "    </tr>\n",
       "  </tbody>\n",
       "</table>\n",
       "<p>2584 rows × 8 columns</p>\n",
       "</div>"
      ],
      "text/plain": [
       "     order_id customer_id product_id  quantity order_date product_name  \\\n",
       "0      O00001       C0333       P022         1 2022-01-09          Tax   \n",
       "1      O00002       C0068       P090         1 2022-01-27      Perform   \n",
       "2      O00003       C0483       P021         1 2022-01-17          Art   \n",
       "3      O00004       C0214       P076         4 2022-01-07       Amount   \n",
       "4      O00005       C0411       P073         4 2022-01-12       Second   \n",
       "...       ...         ...        ...       ...        ...          ...   \n",
       "2579   O02580       C0237       P098         5 2024-12-22     Decision   \n",
       "2580   O02581       C0236       P007         1 2024-12-05       Finish   \n",
       "2581   O02582       C0029       P035         1 2024-12-12        First   \n",
       "2582   O02583       C0171       P077         1 2024-12-16   Government   \n",
       "2583   O02584       C0421       P038         5 2024-12-01        Black   \n",
       "\n",
       "       price  total_price  \n",
       "0     185.33       185.33  \n",
       "1     947.55       947.55  \n",
       "2     938.65       938.65  \n",
       "3     154.17       616.68  \n",
       "4     131.85       527.40  \n",
       "...      ...          ...  \n",
       "2579  567.31      2836.55  \n",
       "2580  325.74       325.74  \n",
       "2581  362.04       362.04  \n",
       "2582  233.11       233.11  \n",
       "2583  817.52      4087.60  \n",
       "\n",
       "[2584 rows x 8 columns]"
      ]
     },
     "execution_count": 10,
     "metadata": {},
     "output_type": "execute_result"
    }
   ],
   "source": [
    "orders_merge"
   ]
  },
  {
   "cell_type": "code",
   "execution_count": 11,
   "id": "69ddf249-b9f5-4e72-896b-9a8d66bfce5b",
   "metadata": {},
   "outputs": [],
   "source": [
    "total_sales_in_2022 = orders_merge[orders_merge.order_date.dt.year == 2022].total_price.sum()"
   ]
  },
  {
   "cell_type": "code",
   "execution_count": 13,
   "id": "06761306-2d27-4597-9584-db5907ff4087",
   "metadata": {},
   "outputs": [
    {
     "data": {
      "text/plain": [
       "1357500.38"
      ]
     },
     "execution_count": 13,
     "metadata": {},
     "output_type": "execute_result"
    }
   ],
   "source": [
    "total_sales_in_2022"
   ]
  },
  {
   "cell_type": "code",
   "execution_count": 16,
   "id": "d8daf446-9af0-4714-87be-1ed760f6ad06",
   "metadata": {},
   "outputs": [],
   "source": [
    "data  = [[2.5,4.7,-6.9],[8.-5,9.7,2.0]]\n",
    "mydf = pd.DataFrame(data)"
   ]
  },
  {
   "cell_type": "code",
   "execution_count": 17,
   "id": "04297dd6-6d6d-4d94-ace5-c268e8fa9fcd",
   "metadata": {},
   "outputs": [
    {
     "data": {
      "text/html": [
       "<div>\n",
       "<style scoped>\n",
       "    .dataframe tbody tr th:only-of-type {\n",
       "        vertical-align: middle;\n",
       "    }\n",
       "\n",
       "    .dataframe tbody tr th {\n",
       "        vertical-align: top;\n",
       "    }\n",
       "\n",
       "    .dataframe thead th {\n",
       "        text-align: right;\n",
       "    }\n",
       "</style>\n",
       "<table border=\"1\" class=\"dataframe\">\n",
       "  <thead>\n",
       "    <tr style=\"text-align: right;\">\n",
       "      <th></th>\n",
       "      <th>0</th>\n",
       "      <th>1</th>\n",
       "      <th>2</th>\n",
       "    </tr>\n",
       "  </thead>\n",
       "  <tbody>\n",
       "    <tr>\n",
       "      <th>0</th>\n",
       "      <td>2.5</td>\n",
       "      <td>4.7</td>\n",
       "      <td>-6.9</td>\n",
       "    </tr>\n",
       "    <tr>\n",
       "      <th>1</th>\n",
       "      <td>3.0</td>\n",
       "      <td>9.7</td>\n",
       "      <td>2.0</td>\n",
       "    </tr>\n",
       "  </tbody>\n",
       "</table>\n",
       "</div>"
      ],
      "text/plain": [
       "     0    1    2\n",
       "0  2.5  4.7 -6.9\n",
       "1  3.0  9.7  2.0"
      ]
     },
     "execution_count": 17,
     "metadata": {},
     "output_type": "execute_result"
    }
   ],
   "source": [
    "mydf"
   ]
  },
  {
   "cell_type": "code",
   "execution_count": 18,
   "id": "a2e7b4e4-dc08-473c-952f-40ec9e900e29",
   "metadata": {},
   "outputs": [
    {
     "data": {
      "text/html": [
       "<div>\n",
       "<style scoped>\n",
       "    .dataframe tbody tr th:only-of-type {\n",
       "        vertical-align: middle;\n",
       "    }\n",
       "\n",
       "    .dataframe tbody tr th {\n",
       "        vertical-align: top;\n",
       "    }\n",
       "\n",
       "    .dataframe thead th {\n",
       "        text-align: right;\n",
       "    }\n",
       "</style>\n",
       "<table border=\"1\" class=\"dataframe\">\n",
       "  <thead>\n",
       "    <tr style=\"text-align: right;\">\n",
       "      <th></th>\n",
       "      <th>0</th>\n",
       "      <th>1</th>\n",
       "      <th>2</th>\n",
       "    </tr>\n",
       "  </thead>\n",
       "  <tbody>\n",
       "    <tr>\n",
       "      <th>0</th>\n",
       "      <td>2.5</td>\n",
       "      <td>4.7</td>\n",
       "      <td>6.9</td>\n",
       "    </tr>\n",
       "    <tr>\n",
       "      <th>1</th>\n",
       "      <td>3.0</td>\n",
       "      <td>9.7</td>\n",
       "      <td>2.0</td>\n",
       "    </tr>\n",
       "  </tbody>\n",
       "</table>\n",
       "</div>"
      ],
      "text/plain": [
       "     0    1    2\n",
       "0  2.5  4.7  6.9\n",
       "1  3.0  9.7  2.0"
      ]
     },
     "execution_count": 18,
     "metadata": {},
     "output_type": "execute_result"
    }
   ],
   "source": [
    "mydf.abs()"
   ]
  },
  {
   "cell_type": "code",
   "execution_count": 19,
   "id": "77c3d9ae-bbdb-4b59-a179-ecbb523521f3",
   "metadata": {},
   "outputs": [
    {
     "data": {
      "text/plain": [
       "0    True\n",
       "1    True\n",
       "2    True\n",
       "dtype: bool"
      ]
     },
     "execution_count": 19,
     "metadata": {},
     "output_type": "execute_result"
    }
   ],
   "source": [
    "mydf.all()"
   ]
  },
  {
   "cell_type": "code",
   "execution_count": 21,
   "id": "789ace3e-2333-4784-b9ac-6df6abcd8f2a",
   "metadata": {},
   "outputs": [],
   "source": [
    "# mydf.append()  #to add the cell/column to our dataset"
   ]
  },
  {
   "cell_type": "code",
   "execution_count": 23,
   "id": "03e888f5-8f55-4930-9d37-217ed51e6ef5",
   "metadata": {},
   "outputs": [],
   "source": [
    "mydf[3] = [1,2]"
   ]
  },
  {
   "cell_type": "code",
   "execution_count": 24,
   "id": "0b864a70-98a4-424b-a4e8-0b90a30b0241",
   "metadata": {},
   "outputs": [
    {
     "data": {
      "text/html": [
       "<div>\n",
       "<style scoped>\n",
       "    .dataframe tbody tr th:only-of-type {\n",
       "        vertical-align: middle;\n",
       "    }\n",
       "\n",
       "    .dataframe tbody tr th {\n",
       "        vertical-align: top;\n",
       "    }\n",
       "\n",
       "    .dataframe thead th {\n",
       "        text-align: right;\n",
       "    }\n",
       "</style>\n",
       "<table border=\"1\" class=\"dataframe\">\n",
       "  <thead>\n",
       "    <tr style=\"text-align: right;\">\n",
       "      <th></th>\n",
       "      <th>0</th>\n",
       "      <th>1</th>\n",
       "      <th>2</th>\n",
       "      <th>3</th>\n",
       "    </tr>\n",
       "  </thead>\n",
       "  <tbody>\n",
       "    <tr>\n",
       "      <th>0</th>\n",
       "      <td>2.5</td>\n",
       "      <td>4.7</td>\n",
       "      <td>-6.9</td>\n",
       "      <td>1</td>\n",
       "    </tr>\n",
       "    <tr>\n",
       "      <th>1</th>\n",
       "      <td>3.0</td>\n",
       "      <td>9.7</td>\n",
       "      <td>2.0</td>\n",
       "      <td>2</td>\n",
       "    </tr>\n",
       "  </tbody>\n",
       "</table>\n",
       "</div>"
      ],
      "text/plain": [
       "     0    1    2  3\n",
       "0  2.5  4.7 -6.9  1\n",
       "1  3.0  9.7  2.0  2"
      ]
     },
     "execution_count": 24,
     "metadata": {},
     "output_type": "execute_result"
    }
   ],
   "source": [
    "mydf"
   ]
  },
  {
   "cell_type": "code",
   "execution_count": 26,
   "id": "b322d0ed-a331-4868-a016-44db4b92d2f8",
   "metadata": {},
   "outputs": [
    {
     "data": {
      "text/plain": [
       "Index(['order_id', 'customer_id', 'product_id', 'quantity', 'order_date'], dtype='object')"
      ]
     },
     "execution_count": 26,
     "metadata": {},
     "output_type": "execute_result"
    }
   ],
   "source": [
    "orders.columns"
   ]
  },
  {
   "cell_type": "code",
   "execution_count": 33,
   "id": "39315963-3776-4e01-baf3-51084502ce69",
   "metadata": {},
   "outputs": [
    {
     "data": {
      "text/html": [
       "<div>\n",
       "<style scoped>\n",
       "    .dataframe tbody tr th:only-of-type {\n",
       "        vertical-align: middle;\n",
       "    }\n",
       "\n",
       "    .dataframe tbody tr th {\n",
       "        vertical-align: top;\n",
       "    }\n",
       "\n",
       "    .dataframe thead th {\n",
       "        text-align: right;\n",
       "    }\n",
       "</style>\n",
       "<table border=\"1\" class=\"dataframe\">\n",
       "  <thead>\n",
       "    <tr style=\"text-align: right;\">\n",
       "      <th></th>\n",
       "      <th>0</th>\n",
       "      <th>1</th>\n",
       "      <th>2</th>\n",
       "    </tr>\n",
       "  </thead>\n",
       "  <tbody>\n",
       "    <tr>\n",
       "      <th>0</th>\n",
       "      <td>5</td>\n",
       "      <td>2</td>\n",
       "      <td>3</td>\n",
       "    </tr>\n",
       "    <tr>\n",
       "      <th>1</th>\n",
       "      <td>8</td>\n",
       "      <td>7</td>\n",
       "      <td>8</td>\n",
       "    </tr>\n",
       "  </tbody>\n",
       "</table>\n",
       "</div>"
      ],
      "text/plain": [
       "   0  1  2\n",
       "0  5  2  3\n",
       "1  8  7  8"
      ]
     },
     "execution_count": 33,
     "metadata": {},
     "output_type": "execute_result"
    }
   ],
   "source": [
    "df1 = pd.DataFrame([[1,2,3],[6,7,8]])     #Help us to combine multiple datasets based on certain condition\n",
    "df2 = pd.DataFrame([[5,6,7],[8,2,1]])\n",
    "\n",
    "def my_function(a,b):\n",
    "    return a if (a.sum() > b.sum()) else b\n",
    "        \n",
    "df1.combine(df2,my_function)"
   ]
  },
  {
   "cell_type": "code",
   "execution_count": 37,
   "id": "b210903f-4dca-44fb-bb92-c29094a34db1",
   "metadata": {},
   "outputs": [
    {
     "name": "stdout",
     "output_type": "stream",
     "text": [
      "   0  1  2\n",
      "0  1  2  3\n",
      "1  6  7  8\n",
      "   0  1  2\n",
      "0  5  6  7\n",
      "1  8  2  1\n",
      "     0          1          2      \n",
      "  self other self other self other\n",
      "0    1     5    2     6    3     7\n",
      "1    6     8    7     2    8     1\n"
     ]
    }
   ],
   "source": [
    "print(df1)\n",
    "print(df2)\n",
    "print(df1.compare(df2))"
   ]
  },
  {
   "cell_type": "code",
   "execution_count": 40,
   "id": "48e98c18-92bd-4dc3-aac5-1a9ba633055b",
   "metadata": {},
   "outputs": [
    {
     "name": "stdout",
     "output_type": "stream",
     "text": [
      "   0  1  2\n",
      "0  1  2  3\n",
      "1  6  7  8\n"
     ]
    },
    {
     "data": {
      "text/html": [
       "<div>\n",
       "<style scoped>\n",
       "    .dataframe tbody tr th:only-of-type {\n",
       "        vertical-align: middle;\n",
       "    }\n",
       "\n",
       "    .dataframe tbody tr th {\n",
       "        vertical-align: top;\n",
       "    }\n",
       "\n",
       "    .dataframe thead th {\n",
       "        text-align: right;\n",
       "    }\n",
       "</style>\n",
       "<table border=\"1\" class=\"dataframe\">\n",
       "  <thead>\n",
       "    <tr style=\"text-align: right;\">\n",
       "      <th></th>\n",
       "      <th>0</th>\n",
       "      <th>1</th>\n",
       "      <th>2</th>\n",
       "    </tr>\n",
       "  </thead>\n",
       "  <tbody>\n",
       "    <tr>\n",
       "      <th>0</th>\n",
       "      <td>NaN</td>\n",
       "      <td>NaN</td>\n",
       "      <td>NaN</td>\n",
       "    </tr>\n",
       "    <tr>\n",
       "      <th>1</th>\n",
       "      <td>5.0</td>\n",
       "      <td>5.0</td>\n",
       "      <td>5.0</td>\n",
       "    </tr>\n",
       "  </tbody>\n",
       "</table>\n",
       "</div>"
      ],
      "text/plain": [
       "     0    1    2\n",
       "0  NaN  NaN  NaN\n",
       "1  5.0  5.0  5.0"
      ]
     },
     "execution_count": 40,
     "metadata": {},
     "output_type": "execute_result"
    }
   ],
   "source": [
    "print(df1)\n",
    "df1.diff()  # rowElement(n+1)-rowElement(n) Note: For row 0 it shows Nan values."
   ]
  },
  {
   "cell_type": "code",
   "execution_count": 46,
   "id": "18fa5a0a-4745-4c89-9c5f-f2dad128ad1b",
   "metadata": {},
   "outputs": [
    {
     "data": {
      "text/html": [
       "<div>\n",
       "<style scoped>\n",
       "    .dataframe tbody tr th:only-of-type {\n",
       "        vertical-align: middle;\n",
       "    }\n",
       "\n",
       "    .dataframe tbody tr th {\n",
       "        vertical-align: top;\n",
       "    }\n",
       "\n",
       "    .dataframe thead th {\n",
       "        text-align: right;\n",
       "    }\n",
       "</style>\n",
       "<table border=\"1\" class=\"dataframe\">\n",
       "  <thead>\n",
       "    <tr style=\"text-align: right;\">\n",
       "      <th></th>\n",
       "      <th>0</th>\n",
       "      <th>1</th>\n",
       "      <th>2</th>\n",
       "    </tr>\n",
       "  </thead>\n",
       "  <tbody>\n",
       "    <tr>\n",
       "      <th>0</th>\n",
       "      <td>NaN</td>\n",
       "      <td>NaN</td>\n",
       "      <td>NaN</td>\n",
       "    </tr>\n",
       "    <tr>\n",
       "      <th>1</th>\n",
       "      <td>NaN</td>\n",
       "      <td>NaN</td>\n",
       "      <td>NaN</td>\n",
       "    </tr>\n",
       "  </tbody>\n",
       "</table>\n",
       "</div>"
      ],
      "text/plain": [
       "    0   1   2\n",
       "0 NaN NaN NaN\n",
       "1 NaN NaN NaN"
      ]
     },
     "execution_count": 46,
     "metadata": {},
     "output_type": "execute_result"
    }
   ],
   "source": [
    "df1.diff(30)"
   ]
  },
  {
   "cell_type": "code",
   "execution_count": 48,
   "id": "e34832a2-cc28-45ff-8875-264e93e962c0",
   "metadata": {},
   "outputs": [
    {
     "data": {
      "text/plain": [
       "0"
      ]
     },
     "execution_count": 48,
     "metadata": {},
     "output_type": "execute_result"
    }
   ],
   "source": [
    "df1.duplicated().sum()   #Tell us the no.of rows that are duplicate/same in our dataset (Used to avoid biasness)"
   ]
  },
  {
   "cell_type": "code",
   "execution_count": 49,
   "id": "8b71d445-b9a7-4d58-b3f1-1c79d051a890",
   "metadata": {},
   "outputs": [],
   "source": [
    "# df_students.fill() #used to fill the 'null' values with the specified value. \n",
    "# df_students.fillna() #used to fill the 'Nan' values with the specified value."
   ]
  },
  {
   "cell_type": "code",
   "execution_count": 61,
   "id": "dbce16b4-24b8-4b6c-bc2b-dabab467f3ca",
   "metadata": {},
   "outputs": [],
   "source": [
    "# group_by(column_name)  \n",
    "# print(df_students.groupby([\"Pass\"]))"
   ]
  },
  {
   "cell_type": "code",
   "execution_count": 63,
   "id": "3a6d0a8c-2b4e-403a-81fc-ec9331d4a1b2",
   "metadata": {},
   "outputs": [],
   "source": [
    "# transform()  #works same as groupby function\n",
    "# df1.transform?"
   ]
  }
 ],
 "metadata": {
  "kernelspec": {
   "display_name": "Python 3 (ipykernel)",
   "language": "python",
   "name": "python3"
  },
  "language_info": {
   "codemirror_mode": {
    "name": "ipython",
    "version": 3
   },
   "file_extension": ".py",
   "mimetype": "text/x-python",
   "name": "python",
   "nbconvert_exporter": "python",
   "pygments_lexer": "ipython3",
   "version": "3.12.7"
  }
 },
 "nbformat": 4,
 "nbformat_minor": 5
}
