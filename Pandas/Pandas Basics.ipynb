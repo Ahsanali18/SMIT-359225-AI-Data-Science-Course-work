{
 "cells": [
  {
   "cell_type": "code",
   "execution_count": 36,
   "id": "cce20abd-7f04-4c4b-a6f9-ad87580a4be7",
   "metadata": {},
   "outputs": [],
   "source": [
    "# pip install pandas   #command to install the pandas library"
   ]
  },
  {
   "cell_type": "code",
   "execution_count": 6,
   "id": "aa29a0d3-f338-4c1a-a7b4-fdbb23f82541",
   "metadata": {},
   "outputs": [],
   "source": [
    "import numpy as np"
   ]
  },
  {
   "cell_type": "code",
   "execution_count": 7,
   "id": "c16ba841-1d81-4bd6-8469-e775e76dff1c",
   "metadata": {},
   "outputs": [],
   "source": [
    "import pandas as pd"
   ]
  },
  {
   "cell_type": "code",
   "execution_count": 8,
   "id": "92cc7040-5576-4f76-9b9a-fcf41df1d8df",
   "metadata": {},
   "outputs": [],
   "source": [
    "# pd.dataframe(data,index,columns,dtype,copy)"
   ]
  },
  {
   "cell_type": "code",
   "execution_count": 9,
   "id": "5ee16135-03d8-4ed8-a0ab-51ed66e46f7b",
   "metadata": {},
   "outputs": [],
   "source": [
    "a=[[1,2,3,4,5],[2,3,5,7,8]]"
   ]
  },
  {
   "cell_type": "code",
   "execution_count": 10,
   "id": "120946c2-45af-4796-a669-04790b0b0005",
   "metadata": {},
   "outputs": [
    {
     "data": {
      "text/plain": [
       "array([[1, 2, 3, 4, 5],\n",
       "       [2, 3, 5, 7, 8]])"
      ]
     },
     "execution_count": 10,
     "metadata": {},
     "output_type": "execute_result"
    }
   ],
   "source": [
    "numbers_array=np.array(a)\n",
    "numbers_array"
   ]
  },
  {
   "cell_type": "code",
   "execution_count": 11,
   "id": "f0fc403c-6616-490e-87a4-7d828f4d0905",
   "metadata": {},
   "outputs": [],
   "source": [
    "df=pd.DataFrame(a,columns=[\"a\",\"b\",\"c\",\"d\",\"e\"])   #columns is used to change the column names,index is used to change the row name"
   ]
  },
  {
   "cell_type": "code",
   "execution_count": 12,
   "id": "ce1485d7-dfc1-4cbc-94e9-a2002746e950",
   "metadata": {},
   "outputs": [],
   "source": [
    "df=pd.DataFrame(a,columns=[\"a\",\"b\",\"c\",\"d\",\"e\"], index=[\"first\",\"second\"])  "
   ]
  },
  {
   "cell_type": "code",
   "execution_count": 13,
   "id": "4514f322-0f20-43d0-8fbc-3a5c2bc37445",
   "metadata": {},
   "outputs": [
    {
     "name": "stdout",
     "output_type": "stream",
     "text": [
      "<class 'pandas.core.frame.DataFrame'>\n",
      "Index: 2 entries, first to second\n",
      "Data columns (total 5 columns):\n",
      " #   Column  Non-Null Count  Dtype\n",
      "---  ------  --------------  -----\n",
      " 0   a       2 non-null      int64\n",
      " 1   b       2 non-null      int64\n",
      " 2   c       2 non-null      int64\n",
      " 3   d       2 non-null      int64\n",
      " 4   e       2 non-null      int64\n",
      "dtypes: int64(5)\n",
      "memory usage: 96.0+ bytes\n",
      "None\n"
     ]
    }
   ],
   "source": [
    "print(df.info())  #We can change the data type of each and every column based on our preferences"
   ]
  },
  {
   "cell_type": "code",
   "execution_count": 14,
   "id": "c2444868-4b2b-4754-b473-b81509a11c98",
   "metadata": {},
   "outputs": [
    {
     "name": "stdout",
     "output_type": "stream",
     "text": [
      "<class 'pandas.core.frame.DataFrame'>\n"
     ]
    }
   ],
   "source": [
    "print(type(df))"
   ]
  },
  {
   "cell_type": "code",
   "execution_count": 15,
   "id": "98697fc4-71c5-4b78-9a7b-146fe9a46ec6",
   "metadata": {},
   "outputs": [
    {
     "name": "stdout",
     "output_type": "stream",
     "text": [
      "[{'name': 'ahsan', 'father name': 'xyz', 'final_marks': 85, 'grade': 'A'}, {'name': 'ahmed', 'father name': 'abc', 'final_marks': 90, 'grade': 'A'}, {'name': 'sachin', 'father name': 'pqr', 'final_marks': 'fail', 'grade': 'A+'}, {'name': 'ameet', 'father name': 'wxy', 'final_marks': 99, 'grade': 'A+'}, {'name': 'ritesh', 'father name': 'uwv', 'final_marks': 100, 'grade': 'A+'}]\n"
     ]
    }
   ],
   "source": [
    "student_details=[{\"name\":\"ahsan\",\"father name\":\"xyz\",\"final_marks\":85,\"grade\":\"A\"},\n",
    "                 {\"name\":\"ahmed\",\"father name\":\"abc\",\"final_marks\":90,\"grade\":\"A\"},\n",
    "                 {\"name\":\"sachin\",\"father name\":\"pqr\",\"final_marks\":\"fail\",\"grade\":\"A+\"},\n",
    "                 {\"name\":\"ameet\",\"father name\":\"wxy\",\"final_marks\":99,\"grade\":\"A+\"},\n",
    "                 {\"name\":\"ritesh\",\"father name\":\"uwv\",\"final_marks\":100,\"grade\":\"A+\"}\n",
    "                ]\n",
    "print(student_details)"
   ]
  },
  {
   "cell_type": "code",
   "execution_count": 16,
   "id": "2acf9d0d-6d77-4f8a-a696-07e58a206a34",
   "metadata": {},
   "outputs": [],
   "source": [
    "df2=pd.DataFrame(student_details)"
   ]
  },
  {
   "cell_type": "code",
   "execution_count": 17,
   "id": "2d79bdab-a80a-4f13-aaac-2c9fd198f4f2",
   "metadata": {},
   "outputs": [
    {
     "data": {
      "text/html": [
       "<div>\n",
       "<style scoped>\n",
       "    .dataframe tbody tr th:only-of-type {\n",
       "        vertical-align: middle;\n",
       "    }\n",
       "\n",
       "    .dataframe tbody tr th {\n",
       "        vertical-align: top;\n",
       "    }\n",
       "\n",
       "    .dataframe thead th {\n",
       "        text-align: right;\n",
       "    }\n",
       "</style>\n",
       "<table border=\"1\" class=\"dataframe\">\n",
       "  <thead>\n",
       "    <tr style=\"text-align: right;\">\n",
       "      <th></th>\n",
       "      <th>name</th>\n",
       "      <th>father name</th>\n",
       "      <th>final_marks</th>\n",
       "      <th>grade</th>\n",
       "    </tr>\n",
       "  </thead>\n",
       "  <tbody>\n",
       "    <tr>\n",
       "      <th>0</th>\n",
       "      <td>ahsan</td>\n",
       "      <td>xyz</td>\n",
       "      <td>85</td>\n",
       "      <td>A</td>\n",
       "    </tr>\n",
       "    <tr>\n",
       "      <th>1</th>\n",
       "      <td>ahmed</td>\n",
       "      <td>abc</td>\n",
       "      <td>90</td>\n",
       "      <td>A</td>\n",
       "    </tr>\n",
       "    <tr>\n",
       "      <th>2</th>\n",
       "      <td>sachin</td>\n",
       "      <td>pqr</td>\n",
       "      <td>fail</td>\n",
       "      <td>A+</td>\n",
       "    </tr>\n",
       "    <tr>\n",
       "      <th>3</th>\n",
       "      <td>ameet</td>\n",
       "      <td>wxy</td>\n",
       "      <td>99</td>\n",
       "      <td>A+</td>\n",
       "    </tr>\n",
       "    <tr>\n",
       "      <th>4</th>\n",
       "      <td>ritesh</td>\n",
       "      <td>uwv</td>\n",
       "      <td>100</td>\n",
       "      <td>A+</td>\n",
       "    </tr>\n",
       "  </tbody>\n",
       "</table>\n",
       "</div>"
      ],
      "text/plain": [
       "     name father name final_marks grade\n",
       "0   ahsan         xyz          85     A\n",
       "1   ahmed         abc          90     A\n",
       "2  sachin         pqr        fail    A+\n",
       "3   ameet         wxy          99    A+\n",
       "4  ritesh         uwv         100    A+"
      ]
     },
     "execution_count": 17,
     "metadata": {},
     "output_type": "execute_result"
    }
   ],
   "source": [
    "df2"
   ]
  },
  {
   "cell_type": "code",
   "execution_count": 18,
   "id": "a679cdb8-5943-4800-9ba1-a986818db1ec",
   "metadata": {},
   "outputs": [
    {
     "name": "stdout",
     "output_type": "stream",
     "text": [
      "<class 'pandas.core.frame.DataFrame'>\n",
      "RangeIndex: 5 entries, 0 to 4\n",
      "Data columns (total 4 columns):\n",
      " #   Column       Non-Null Count  Dtype \n",
      "---  ------       --------------  ----- \n",
      " 0   name         5 non-null      object\n",
      " 1   father name  5 non-null      object\n",
      " 2   final_marks  5 non-null      object\n",
      " 3   grade        5 non-null      object\n",
      "dtypes: object(4)\n",
      "memory usage: 292.0+ bytes\n"
     ]
    }
   ],
   "source": [
    "df2.info()"
   ]
  },
  {
   "cell_type": "code",
   "execution_count": 19,
   "id": "13efd9fd-067c-41c7-8e4d-81efcaeb0776",
   "metadata": {},
   "outputs": [],
   "source": [
    "df2[\"final_marks\"]=pd.to_numeric(df2[\"final_marks\"],errors=\"coerce\")\n",
    "# pd.to_numeric?"
   ]
  },
  {
   "cell_type": "code",
   "execution_count": 20,
   "id": "d2e295bc-068a-439b-99b7-7c50a7242b96",
   "metadata": {},
   "outputs": [
    {
     "data": {
      "text/html": [
       "<div>\n",
       "<style scoped>\n",
       "    .dataframe tbody tr th:only-of-type {\n",
       "        vertical-align: middle;\n",
       "    }\n",
       "\n",
       "    .dataframe tbody tr th {\n",
       "        vertical-align: top;\n",
       "    }\n",
       "\n",
       "    .dataframe thead th {\n",
       "        text-align: right;\n",
       "    }\n",
       "</style>\n",
       "<table border=\"1\" class=\"dataframe\">\n",
       "  <thead>\n",
       "    <tr style=\"text-align: right;\">\n",
       "      <th></th>\n",
       "      <th>name</th>\n",
       "      <th>father name</th>\n",
       "      <th>final_marks</th>\n",
       "      <th>grade</th>\n",
       "    </tr>\n",
       "  </thead>\n",
       "  <tbody>\n",
       "    <tr>\n",
       "      <th>0</th>\n",
       "      <td>ahsan</td>\n",
       "      <td>xyz</td>\n",
       "      <td>85.0</td>\n",
       "      <td>A</td>\n",
       "    </tr>\n",
       "    <tr>\n",
       "      <th>1</th>\n",
       "      <td>ahmed</td>\n",
       "      <td>abc</td>\n",
       "      <td>90.0</td>\n",
       "      <td>A</td>\n",
       "    </tr>\n",
       "    <tr>\n",
       "      <th>2</th>\n",
       "      <td>sachin</td>\n",
       "      <td>pqr</td>\n",
       "      <td>NaN</td>\n",
       "      <td>A+</td>\n",
       "    </tr>\n",
       "    <tr>\n",
       "      <th>3</th>\n",
       "      <td>ameet</td>\n",
       "      <td>wxy</td>\n",
       "      <td>99.0</td>\n",
       "      <td>A+</td>\n",
       "    </tr>\n",
       "    <tr>\n",
       "      <th>4</th>\n",
       "      <td>ritesh</td>\n",
       "      <td>uwv</td>\n",
       "      <td>100.0</td>\n",
       "      <td>A+</td>\n",
       "    </tr>\n",
       "  </tbody>\n",
       "</table>\n",
       "</div>"
      ],
      "text/plain": [
       "     name father name  final_marks grade\n",
       "0   ahsan         xyz         85.0     A\n",
       "1   ahmed         abc         90.0     A\n",
       "2  sachin         pqr          NaN    A+\n",
       "3   ameet         wxy         99.0    A+\n",
       "4  ritesh         uwv        100.0    A+"
      ]
     },
     "execution_count": 20,
     "metadata": {},
     "output_type": "execute_result"
    }
   ],
   "source": [
    "df2"
   ]
  },
  {
   "cell_type": "code",
   "execution_count": 21,
   "id": "3871e1e6-8707-4292-932c-f678ad4f2685",
   "metadata": {},
   "outputs": [
    {
     "data": {
      "text/plain": [
       "0     85.0\n",
       "1     90.0\n",
       "2      NaN\n",
       "3     99.0\n",
       "4    100.0\n",
       "Name: final_marks, dtype: float64"
      ]
     },
     "execution_count": 21,
     "metadata": {},
     "output_type": "execute_result"
    }
   ],
   "source": [
    "df2.final_marks  #to access the particular column with it's name"
   ]
  },
  {
   "cell_type": "code",
   "execution_count": 22,
   "id": "7fae0f74-4ce6-4158-a652-af41d5876ac0",
   "metadata": {},
   "outputs": [
    {
     "data": {
      "text/plain": [
       "name           ahsan\n",
       "father name      xyz\n",
       "final_marks     85.0\n",
       "grade              A\n",
       "Name: 0, dtype: object"
      ]
     },
     "execution_count": 22,
     "metadata": {},
     "output_type": "execute_result"
    }
   ],
   "source": [
    "df2.loc[0]  #to get the particular row with it's index also we can perform slicing here"
   ]
  },
  {
   "cell_type": "code",
   "execution_count": 23,
   "id": "d92e0e1c-79ea-4e9a-b08c-693d8b8ca9b7",
   "metadata": {},
   "outputs": [],
   "source": [
    "# df2.head  #prints the initial five rows from our data/dataset\n",
    "# df2.tail    #prints the last five rows from our data/dataset"
   ]
  },
  {
   "cell_type": "code",
   "execution_count": 24,
   "id": "21123481-f092-4a3c-8a6a-033888674c6d",
   "metadata": {},
   "outputs": [
    {
     "data": {
      "text/html": [
       "<div>\n",
       "<style scoped>\n",
       "    .dataframe tbody tr th:only-of-type {\n",
       "        vertical-align: middle;\n",
       "    }\n",
       "\n",
       "    .dataframe tbody tr th {\n",
       "        vertical-align: top;\n",
       "    }\n",
       "\n",
       "    .dataframe thead th {\n",
       "        text-align: right;\n",
       "    }\n",
       "</style>\n",
       "<table border=\"1\" class=\"dataframe\">\n",
       "  <thead>\n",
       "    <tr style=\"text-align: right;\">\n",
       "      <th></th>\n",
       "      <th>a</th>\n",
       "      <th>b</th>\n",
       "      <th>c</th>\n",
       "      <th>d</th>\n",
       "      <th>e</th>\n",
       "    </tr>\n",
       "  </thead>\n",
       "  <tbody>\n",
       "    <tr>\n",
       "      <th>first</th>\n",
       "      <td>1</td>\n",
       "      <td>2</td>\n",
       "      <td>3</td>\n",
       "      <td>4</td>\n",
       "      <td>5</td>\n",
       "    </tr>\n",
       "    <tr>\n",
       "      <th>second</th>\n",
       "      <td>2</td>\n",
       "      <td>3</td>\n",
       "      <td>5</td>\n",
       "      <td>7</td>\n",
       "      <td>8</td>\n",
       "    </tr>\n",
       "  </tbody>\n",
       "</table>\n",
       "</div>"
      ],
      "text/plain": [
       "        a  b  c  d  e\n",
       "first   1  2  3  4  5\n",
       "second  2  3  5  7  8"
      ]
     },
     "execution_count": 24,
     "metadata": {},
     "output_type": "execute_result"
    }
   ],
   "source": [
    "df"
   ]
  },
  {
   "cell_type": "code",
   "execution_count": 25,
   "id": "ddb16974-4e09-4350-815b-9741afb3c6c5",
   "metadata": {},
   "outputs": [
    {
     "data": {
      "text/html": [
       "<div>\n",
       "<style scoped>\n",
       "    .dataframe tbody tr th:only-of-type {\n",
       "        vertical-align: middle;\n",
       "    }\n",
       "\n",
       "    .dataframe tbody tr th {\n",
       "        vertical-align: top;\n",
       "    }\n",
       "\n",
       "    .dataframe thead th {\n",
       "        text-align: right;\n",
       "    }\n",
       "</style>\n",
       "<table border=\"1\" class=\"dataframe\">\n",
       "  <thead>\n",
       "    <tr style=\"text-align: right;\">\n",
       "      <th></th>\n",
       "      <th>a</th>\n",
       "      <th>b</th>\n",
       "      <th>c</th>\n",
       "      <th>d</th>\n",
       "      <th>e</th>\n",
       "      <th>f</th>\n",
       "    </tr>\n",
       "  </thead>\n",
       "  <tbody>\n",
       "    <tr>\n",
       "      <th>first</th>\n",
       "      <td>1</td>\n",
       "      <td>2</td>\n",
       "      <td>3</td>\n",
       "      <td>4</td>\n",
       "      <td>5</td>\n",
       "      <td>4</td>\n",
       "    </tr>\n",
       "    <tr>\n",
       "      <th>second</th>\n",
       "      <td>2</td>\n",
       "      <td>3</td>\n",
       "      <td>5</td>\n",
       "      <td>7</td>\n",
       "      <td>8</td>\n",
       "      <td>7</td>\n",
       "    </tr>\n",
       "  </tbody>\n",
       "</table>\n",
       "</div>"
      ],
      "text/plain": [
       "        a  b  c  d  e  f\n",
       "first   1  2  3  4  5  4\n",
       "second  2  3  5  7  8  7"
      ]
     },
     "execution_count": 25,
     "metadata": {},
     "output_type": "execute_result"
    }
   ],
   "source": [
    "df[\"f\"]=df[\"a\"]+df[\"c\"]\n",
    "df"
   ]
  },
  {
   "cell_type": "code",
   "execution_count": 26,
   "id": "6643d071-eb73-4a1f-b77a-28349484a827",
   "metadata": {},
   "outputs": [
    {
     "data": {
      "text/plain": [
       "(2, 6)"
      ]
     },
     "execution_count": 26,
     "metadata": {},
     "output_type": "execute_result"
    }
   ],
   "source": [
    "df.shape"
   ]
  },
  {
   "cell_type": "code",
   "execution_count": 27,
   "id": "26bdeaf8-3166-4b4b-a946-4adc7cfdc2a2",
   "metadata": {},
   "outputs": [
    {
     "data": {
      "text/plain": [
       "2"
      ]
     },
     "execution_count": 27,
     "metadata": {},
     "output_type": "execute_result"
    }
   ],
   "source": [
    "len(df)  # returns the no.of rows "
   ]
  },
  {
   "cell_type": "code",
   "execution_count": 28,
   "id": "ae6064dc-6d58-4524-b634-42c1e8730213",
   "metadata": {},
   "outputs": [
    {
     "data": {
      "text/plain": [
       "12"
      ]
     },
     "execution_count": 28,
     "metadata": {},
     "output_type": "execute_result"
    }
   ],
   "source": [
    "df.size  # returns the total no.of cells (2,6)= 2*6 = 12"
   ]
  },
  {
   "cell_type": "code",
   "execution_count": 29,
   "id": "1bf42708-b4c0-485b-b1bd-4143e704505d",
   "metadata": {},
   "outputs": [
    {
     "data": {
      "text/html": [
       "<div>\n",
       "<style scoped>\n",
       "    .dataframe tbody tr th:only-of-type {\n",
       "        vertical-align: middle;\n",
       "    }\n",
       "\n",
       "    .dataframe tbody tr th {\n",
       "        vertical-align: top;\n",
       "    }\n",
       "\n",
       "    .dataframe thead th {\n",
       "        text-align: right;\n",
       "    }\n",
       "</style>\n",
       "<table border=\"1\" class=\"dataframe\">\n",
       "  <thead>\n",
       "    <tr style=\"text-align: right;\">\n",
       "      <th></th>\n",
       "      <th>name</th>\n",
       "      <th>father name</th>\n",
       "      <th>final_marks</th>\n",
       "      <th>grade</th>\n",
       "    </tr>\n",
       "  </thead>\n",
       "  <tbody>\n",
       "    <tr>\n",
       "      <th>0</th>\n",
       "      <td>ahsan</td>\n",
       "      <td>xyz</td>\n",
       "      <td>85.0</td>\n",
       "      <td>A</td>\n",
       "    </tr>\n",
       "    <tr>\n",
       "      <th>1</th>\n",
       "      <td>ahmed</td>\n",
       "      <td>abc</td>\n",
       "      <td>90.0</td>\n",
       "      <td>A</td>\n",
       "    </tr>\n",
       "    <tr>\n",
       "      <th>2</th>\n",
       "      <td>sachin</td>\n",
       "      <td>pqr</td>\n",
       "      <td>NaN</td>\n",
       "      <td>A+</td>\n",
       "    </tr>\n",
       "    <tr>\n",
       "      <th>3</th>\n",
       "      <td>ameet</td>\n",
       "      <td>wxy</td>\n",
       "      <td>99.0</td>\n",
       "      <td>A+</td>\n",
       "    </tr>\n",
       "    <tr>\n",
       "      <th>4</th>\n",
       "      <td>ritesh</td>\n",
       "      <td>uwv</td>\n",
       "      <td>100.0</td>\n",
       "      <td>A+</td>\n",
       "    </tr>\n",
       "  </tbody>\n",
       "</table>\n",
       "</div>"
      ],
      "text/plain": [
       "     name father name  final_marks grade\n",
       "0   ahsan         xyz         85.0     A\n",
       "1   ahmed         abc         90.0     A\n",
       "2  sachin         pqr          NaN    A+\n",
       "3   ameet         wxy         99.0    A+\n",
       "4  ritesh         uwv        100.0    A+"
      ]
     },
     "execution_count": 29,
     "metadata": {},
     "output_type": "execute_result"
    }
   ],
   "source": [
    "df2"
   ]
  },
  {
   "cell_type": "code",
   "execution_count": 30,
   "id": "0a33355c-3a58-4b7a-b582-d28111d44f6d",
   "metadata": {},
   "outputs": [
    {
     "data": {
      "text/html": [
       "<div>\n",
       "<style scoped>\n",
       "    .dataframe tbody tr th:only-of-type {\n",
       "        vertical-align: middle;\n",
       "    }\n",
       "\n",
       "    .dataframe tbody tr th {\n",
       "        vertical-align: top;\n",
       "    }\n",
       "\n",
       "    .dataframe thead th {\n",
       "        text-align: right;\n",
       "    }\n",
       "</style>\n",
       "<table border=\"1\" class=\"dataframe\">\n",
       "  <thead>\n",
       "    <tr style=\"text-align: right;\">\n",
       "      <th></th>\n",
       "      <th>name</th>\n",
       "      <th>father name</th>\n",
       "      <th>final_marks</th>\n",
       "      <th>grade</th>\n",
       "      <th>class</th>\n",
       "    </tr>\n",
       "  </thead>\n",
       "  <tbody>\n",
       "    <tr>\n",
       "      <th>0</th>\n",
       "      <td>ahsan</td>\n",
       "      <td>xyz</td>\n",
       "      <td>85.0</td>\n",
       "      <td>A</td>\n",
       "      <td>12.0</td>\n",
       "    </tr>\n",
       "    <tr>\n",
       "      <th>1</th>\n",
       "      <td>ahmed</td>\n",
       "      <td>abc</td>\n",
       "      <td>90.0</td>\n",
       "      <td>A</td>\n",
       "      <td>11.0</td>\n",
       "    </tr>\n",
       "    <tr>\n",
       "      <th>2</th>\n",
       "      <td>sachin</td>\n",
       "      <td>pqr</td>\n",
       "      <td>NaN</td>\n",
       "      <td>A+</td>\n",
       "      <td>NaN</td>\n",
       "    </tr>\n",
       "    <tr>\n",
       "      <th>3</th>\n",
       "      <td>ameet</td>\n",
       "      <td>wxy</td>\n",
       "      <td>99.0</td>\n",
       "      <td>A+</td>\n",
       "      <td>NaN</td>\n",
       "    </tr>\n",
       "    <tr>\n",
       "      <th>4</th>\n",
       "      <td>ritesh</td>\n",
       "      <td>uwv</td>\n",
       "      <td>100.0</td>\n",
       "      <td>A+</td>\n",
       "      <td>10.0</td>\n",
       "    </tr>\n",
       "  </tbody>\n",
       "</table>\n",
       "</div>"
      ],
      "text/plain": [
       "     name father name  final_marks grade  class\n",
       "0   ahsan         xyz         85.0     A   12.0\n",
       "1   ahmed         abc         90.0     A   11.0\n",
       "2  sachin         pqr          NaN    A+    NaN\n",
       "3   ameet         wxy         99.0    A+    NaN\n",
       "4  ritesh         uwv        100.0    A+   10.0"
      ]
     },
     "execution_count": 30,
     "metadata": {},
     "output_type": "execute_result"
    }
   ],
   "source": [
    "df2[\"class\"]=pd.Series([12,11,10],index=[0,1,4]) #Series[\"single dimension data always\"]\n",
    "df2"
   ]
  },
  {
   "cell_type": "code",
   "execution_count": 31,
   "id": "1d807037-6e5b-440f-af4e-47f99358abd3",
   "metadata": {},
   "outputs": [],
   "source": [
    "# pd.read_csv?"
   ]
  },
  {
   "cell_type": "code",
   "execution_count": 32,
   "id": "ab045fb2-df26-4a4b-94d6-34bf41c37c7c",
   "metadata": {},
   "outputs": [],
   "source": [
    "dataFrame=pd.read_csv(\"calories.csv\")\n",
    "# pd.head(no.of rows)"
   ]
  },
  {
   "cell_type": "code",
   "execution_count": 33,
   "id": "94718cf6-6acd-479a-906d-504c179cd1db",
   "metadata": {},
   "outputs": [],
   "source": [
    "pd.options.display.max_rows=999999 #to print the complete rows of our dataset"
   ]
  },
  {
   "cell_type": "code",
   "execution_count": 34,
   "id": "cd050529-df82-4bb5-9071-63378de17aaf",
   "metadata": {},
   "outputs": [
    {
     "data": {
      "text/html": [
       "<div>\n",
       "<style scoped>\n",
       "    .dataframe tbody tr th:only-of-type {\n",
       "        vertical-align: middle;\n",
       "    }\n",
       "\n",
       "    .dataframe tbody tr th {\n",
       "        vertical-align: top;\n",
       "    }\n",
       "\n",
       "    .dataframe thead th {\n",
       "        text-align: right;\n",
       "    }\n",
       "</style>\n",
       "<table border=\"1\" class=\"dataframe\">\n",
       "  <thead>\n",
       "    <tr style=\"text-align: right;\">\n",
       "      <th></th>\n",
       "      <th>final_marks</th>\n",
       "      <th>class</th>\n",
       "    </tr>\n",
       "  </thead>\n",
       "  <tbody>\n",
       "    <tr>\n",
       "      <th>count</th>\n",
       "      <td>4.000000</td>\n",
       "      <td>3.0</td>\n",
       "    </tr>\n",
       "    <tr>\n",
       "      <th>mean</th>\n",
       "      <td>93.500000</td>\n",
       "      <td>11.0</td>\n",
       "    </tr>\n",
       "    <tr>\n",
       "      <th>std</th>\n",
       "      <td>7.234178</td>\n",
       "      <td>1.0</td>\n",
       "    </tr>\n",
       "    <tr>\n",
       "      <th>min</th>\n",
       "      <td>85.000000</td>\n",
       "      <td>10.0</td>\n",
       "    </tr>\n",
       "    <tr>\n",
       "      <th>25%</th>\n",
       "      <td>88.750000</td>\n",
       "      <td>10.5</td>\n",
       "    </tr>\n",
       "    <tr>\n",
       "      <th>50%</th>\n",
       "      <td>94.500000</td>\n",
       "      <td>11.0</td>\n",
       "    </tr>\n",
       "    <tr>\n",
       "      <th>75%</th>\n",
       "      <td>99.250000</td>\n",
       "      <td>11.5</td>\n",
       "    </tr>\n",
       "    <tr>\n",
       "      <th>max</th>\n",
       "      <td>100.000000</td>\n",
       "      <td>12.0</td>\n",
       "    </tr>\n",
       "  </tbody>\n",
       "</table>\n",
       "</div>"
      ],
      "text/plain": [
       "       final_marks  class\n",
       "count     4.000000    3.0\n",
       "mean     93.500000   11.0\n",
       "std       7.234178    1.0\n",
       "min      85.000000   10.0\n",
       "25%      88.750000   10.5\n",
       "50%      94.500000   11.0\n",
       "75%      99.250000   11.5\n",
       "max     100.000000   12.0"
      ]
     },
     "execution_count": 34,
     "metadata": {},
     "output_type": "execute_result"
    }
   ],
   "source": [
    "df2.describe()   #describes the complete data on the basis of columns\n",
    "# df.describe().loc[\"mean\"]\n",
    "# df.describe().loc[\"count\"]"
   ]
  },
  {
   "cell_type": "code",
   "execution_count": 37,
   "id": "e5efc3d9-246f-4493-85c4-e7b09fadd83d",
   "metadata": {},
   "outputs": [
    {
     "data": {
      "text/plain": [
       "1.5"
      ]
     },
     "execution_count": 37,
     "metadata": {},
     "output_type": "execute_result"
    }
   ],
   "source": [
    "df.a.mean()"
   ]
  },
  {
   "cell_type": "code",
   "execution_count": 39,
   "id": "24716395-162f-4ea0-8163-82c1215bf6ba",
   "metadata": {},
   "outputs": [],
   "source": [
    "# d.loc[\"50%\"]"
   ]
  }
 ],
 "metadata": {
  "kernelspec": {
   "display_name": "Python 3 (ipykernel)",
   "language": "python",
   "name": "python3"
  },
  "language_info": {
   "codemirror_mode": {
    "name": "ipython",
    "version": 3
   },
   "file_extension": ".py",
   "mimetype": "text/x-python",
   "name": "python",
   "nbconvert_exporter": "python",
   "pygments_lexer": "ipython3",
   "version": "3.12.7"
  }
 },
 "nbformat": 4,
 "nbformat_minor": 5
}
