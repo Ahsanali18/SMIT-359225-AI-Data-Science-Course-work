{
 "cells": [
  {
   "cell_type": "markdown",
   "id": "b0094e38-9452-488c-b8bd-aa206d4551e4",
   "metadata": {},
   "source": [
    "# Statistics\n",
    "\n",
    "Statistics can be broadly divided into two categories:\n",
    "\n",
    "---\n",
    "\n",
    "## 1. Descriptive Statistics\n",
    "Used for **summarizing, analyzing, and visualizing data**. Includes:\n",
    "\n",
    "- **Measures of Central Tendency**\n",
    "  - Mean  \n",
    "  - Median  \n",
    "  - Mode  \n",
    "\n",
    "- **Measures of Dispersion**\n",
    "  - Variance  \n",
    "  - Standard Deviation  \n",
    "\n",
    "- **Relationships**\n",
    "  - Correlation  \n",
    "  - Covariance  \n",
    "\n",
    "- **Visualization Tools**\n",
    "  - Histograms  \n",
    "  - PDF (Probability Density Function)  \n",
    "  - PMF (Probability Mass Function)  \n",
    "  - CDF (Cumulative Density Function)  \n",
    "  - Box Plot  \n",
    "\n",
    "- **Types of Analysis**\n",
    "  - Univariate Analysis  \n",
    "  - Bivariate Analysis  \n",
    "\n",
    "---\n",
    "\n",
    "## 2. Inferential Statistics\n",
    "Used for **drawing conclusions and testing hypotheses**. Includes:\n",
    "\n",
    "- Hypothesis Testing  \n",
    "- Z-Test  \n",
    "- T-Test\n",
    "- Chi-Square Test\n",
    "- Anova(F-Test)\n",
    "\n",
    "---\n"
   ]
  },
  {
   "cell_type": "markdown",
   "id": "7dbffd94-4304-4d0b-9bb4-f73878bb8538",
   "metadata": {},
   "source": [
    "# Variables\n",
    "\n",
    "## Types of Variables\n",
    "\n",
    "1. **Quantitative Variables**\n",
    "   - **Discrete Variable:** Takes distinct, separate values like: number of students, goals scored.  \n",
    "   - **Continuous Variable:** Can take any value within a range like: height, weight, temperature.  \n",
    "\n",
    "2. **Qualitative / Categorical Variables**\n",
    "   - Represent categories or labels like: gender, colors, yes/no responses.  \n",
    "\n",
    "---\n",
    "\n",
    "# Percentiles\n",
    "\n",
    "A **percentile** is a value below which a certain percentage of the observations lie.\n",
    "\n",
    "## Formulas\n",
    "\n",
    "- **Percentile Rank**  \n",
    "\n",
    "  Percentile Rank = (Number of values below/n) *100\n",
    "\n",
    "- Example:  \n",
    "  A **95th percentile** means that the person has performed better than 95% of others.\n",
    "\n",
    "- **Value at a given Percentile**  \n",
    "\n",
    "  Value = (Percentile/100)(n+1)\n",
    "\n",
    "\n",
    "  **Example:** What value exists at percentile rank of 25.\n",
    "---"
   ]
  },
  {
   "cell_type": "markdown",
   "id": "6a8e5069-c6a7-4dcf-ab21-c4d3cb40d5a8",
   "metadata": {},
   "source": [
    "# Finding Outliers\n",
    "\n",
    "Outliers can be detected using **fences** based on the Interquartile Range (IQR).\n",
    "\n",
    "---\n",
    "\n",
    "# Interquartile Range (IQR)\n",
    "\n",
    "## Definition\n",
    "The **Interquartile Range (IQR)** is a measure of statistical **dispersion**.  \n",
    "It represents the spread of the **middle 50% of the data**.  \n",
    "\n",
    "---\n",
    "\n",
    "## Formula\n",
    "IQR = Q3 - Q1\n",
    "\n",
    "- **Q1 (First Quartile / 25th Percentile):** Value below which 25% of the data lies.  \n",
    "- **Q3 (Third Quartile / 75th Percentile):** Value below which 75% of the data lies.  \n",
    "\n",
    "---\n",
    "\n",
    "## Concept\n",
    "- The IQR shows how spread out the central portion of the data is.  \n",
    "- It is **resistant to outliers**, making it a robust measure of variability.  \n",
    "- The range between **Q1 and Q3** contains the middle 50% of the observations.  \n",
    "\n",
    "---\n",
    "\n",
    "## Example\n",
    "Dataset: \\[ 2, 4, 5, 7, 8, 10, 12, 15 \\]  \n",
    "\n",
    "- \\( Q1 = 4.5 \\)  \n",
    "- \\( Q3 = 11 \\)  \n",
    "- \\( IQR = Q3 - Q1 = 11 - 4.5 = 6.5 \\)  \n",
    "Z\n",
    "So the middle 50% of the data lies between **4.5 and 11**.  \n",
    "\n",
    "\n",
    "## 1. Lower Fence (LF)\n",
    "- Minimum value below which all data points are considered outliers.  \n",
    "\n",
    "LF = Q1 - 1.5(IQR)\n",
    "\n",
    "\n",
    "---\n",
    "\n",
    "## 2. Higher Fence (HF)\n",
    "- Maximum value above which all data points are considered outliers.  \n",
    "\n",
    "HF = Q3 + 1.5(IQR)\n",
    "\n",
    "\n",
    "---\n",
    "\n",
    "Any data point **below LF** or **above HF** is treated as an outlier."
   ]
  },
  {
   "cell_type": "code",
   "execution_count": 1,
   "id": "a3d97873-614a-406b-92a8-ccced2227742",
   "metadata": {},
   "outputs": [],
   "source": [
    "import numpy as np\n",
    "import pandas as pd\n",
    "import matplotlib.pyplot as plt\n",
    "import seaborn as sns"
   ]
  },
  {
   "cell_type": "code",
   "execution_count": 3,
   "id": "ca7268b2-3dad-4a73-94b3-e6aa099e894d",
   "metadata": {},
   "outputs": [],
   "source": [
    "data = [1,4,5,7,3,9,100,5,8,105,5,8,8]  # Two outliers values: 100, 105"
   ]
  },
  {
   "cell_type": "code",
   "execution_count": 5,
   "id": "6186d0fd-d374-445e-8bcd-e6ee36c3b152",
   "metadata": {},
   "outputs": [
    {
     "data": {
      "image/png": "[encoded data removed]",
      "text/plain": [
       "<Figure size 640x480 with 1 Axes>"
      ]
     },
     "metadata": {},
     "output_type": "display_data"
    }
   ],
   "source": [
    "sns.boxplot(data)\n",
    "plt.show()"
   ]
  },
  {
   "cell_type": "code",
   "execution_count": 8,
   "id": "261c5f9a-0f23-4f25-9460-c3b5582c25c4",
   "metadata": {},
   "outputs": [
    {
     "name": "stdout",
     "output_type": "stream",
     "text": [
      "Variance: 1224.8520710059174\n",
      "Standard Deviation: 34.99788666485331\n",
      "Mean: 20.615384615384617\n",
      "IQR: 3.0\n",
      "5.0 8.0\n",
      "Lower Fence: 0.5\n",
      "Upper Fence: 12.5\n",
      "[1, 3, 4, 5, 5, 5, 7, 8, 8, 8, 9, 100, 105]\n"
     ]
    }
   ],
   "source": [
    "# Finding Quartiles\n",
    "q1,q3 = np.percentile(data,[25,75])\n",
    "iqr = q3-q1\n",
    "variance = np.var(data)\n",
    "standard_deviation = np.std(data)\n",
    "mean = np.mean(data)\n",
    "print(f\"Variance: {variance}\")\n",
    "print(f\"Standard Deviation: {standard_deviation}\")\n",
    "print(f\"Mean: {mean}\")\n",
    "print(f\"IQR: {iqr}\")\n",
    "print(q1,q3)\n",
    "\n",
    "print(f\"Lower Fence: {q1 - 1.5*iqr}\")\n",
    "print(f\"Upper Fence: {q3 + 1.5*iqr}\")\n",
    "print(sorted(data))"
   ]
  },
  {
   "cell_type": "code",
   "execution_count": 17,
   "id": "e807ceb7-c436-4d91-840e-9d72322bfb66",
   "metadata": {},
   "outputs": [
    {
     "name": "stdout",
     "output_type": "stream",
     "text": [
      "mean: 50.20497881604133\n",
      "variance: 107.78730579718636\n",
      "Standard Variation: 10.382066547522529\n"
     ]
    },
    {
     "data": {
      "image/png": "[encoded data removed]",
      "text/plain": [
       "<Figure size 640x480 with 1 Axes>"
      ]
     },
     "metadata": {},
     "output_type": "display_data"
    }
   ],
   "source": [
    "data1 = np.random.normal(loc = 50, scale = 10, size = 1000)\n",
    "mean1 = np.mean(data1)\n",
    "print(f\"mean: {mean}\")\n",
    "variance = np.var(data1)\n",
    "print(f\"variance: {variance}\")\n",
    "std = np.std(data1)\n",
    "threshold = 3 # 3rd std\n",
    "print(f\"Standard Variation: {std}\")\n",
    "#sns.boxplot(data1)\n",
    "outliers = []\n",
    "plt.axvline(mean, color = 'red')\n",
    "plt.axvline(mean+std, color = 'green')\n",
    "plt.axvline(mean-std, color = 'green')\n",
    "plt.axvline(mean+2*std, color = 'blue')\n",
    "plt.axvline(mean-2*std, color = 'blue')\n",
    "plt.axvline(mean+3*std, color = 'black')\n",
    "plt.axvline(mean-3*std, color = 'black')\n",
    "plt.axhline(y = variance/1000, color = 'r', linestyle = '--', linewidth = 4)\n",
    "# plt.hist(data1)\n",
    "sns.histplot(data1)\n",
    "plt.show()"
   ]
  },
  {
   "cell_type": "markdown",
   "id": "ae0dbaf6-46f6-4d57-b443-28d3859cfb75",
   "metadata": {},
   "source": [
    "## Z- Score"
   ]
  },
  {
   "cell_type": "code",
   "execution_count": 20,
   "id": "58ac7c79-8349-4ed1-b051-048eae702817",
   "metadata": {},
   "outputs": [
    {
     "name": "stdout",
     "output_type": "stream",
     "text": [
      "[16.79482169272974]\n"
     ]
    }
   ],
   "source": [
    "for index, element in enumerate(data1):\n",
    "    z_score = (element-mean1)/std\n",
    "    if np.abs(z_score) > threshold:\n",
    "        outliers.append(element)\n",
    "        print(data1[index])\n",
    "        data1[index] = mean1\n",
    "print(outliers)"
   ]
  },
  {
   "cell_type": "code",
   "execution_count": 21,
   "id": "68c67ad3-1e76-4928-8925-b9cdbfafbdda",
   "metadata": {},
   "outputs": [
    {
     "data": {
      "text/plain": [
       "<Axes: >"
      ]
     },
     "execution_count": 21,
     "metadata": {},
     "output_type": "execute_result"
    },
    {
     "data": {
      "image/png": "[encoded data removed]",
      "text/plain": [
       "<Figure size 640x480 with 1 Axes>"
      ]
     },
     "metadata": {},
     "output_type": "display_data"
    }
   ],
   "source": [
    "sns.boxplot(data1)"
   ]
  },
  {
   "cell_type": "code",
   "execution_count": 22,
   "id": "0c7a40a8-3b85-495d-8337-89f8f6e4aa67",
   "metadata": {},
   "outputs": [
    {
     "data": {
      "text/plain": [
       "<Axes: ylabel='Count'>"
      ]
     },
     "execution_count": 22,
     "metadata": {},
     "output_type": "execute_result"
    },
    {
     "data": {
      "image/png": "[encoded data removed]",
      "text/plain": [
       "<Figure size 640x480 with 1 Axes>"
      ]
     },
     "metadata": {},
     "output_type": "display_data"
    }
   ],
   "source": [
    "plt.axvline(mean, color= \"red\")\n",
    "plt.axvline(mean+std, color= \"green\")\n",
    "plt.axvline(mean-std, color= \"green\")\n",
    "plt.axvline(mean+2*std, color= \"blue\")\n",
    "plt.axvline(mean-2*std, color= \"blue\")\n",
    "plt.axvline(mean+3*std, color= \"orange\")\n",
    "plt.axvline(mean-3*std, color= \"orange\")\n",
    "sns.histplot(data1)"
   ]
  }
 ],
 "metadata": {
  "kernelspec": {
   "display_name": "Python 3 (ipykernel)",
   "language": "python",
   "name": "python3"
  },
  "language_info": {
   "codemirror_mode": {
    "name": "ipython",
    "version": 3
   },
   "file_extension": ".py",
   "mimetype": "text/x-python",
   "name": "python",
   "nbconvert_exporter": "python",
   "pygments_lexer": "ipython3",
   "version": "3.12.7"
  }
 },
 "nbformat": 4,
 "nbformat_minor": 5
}
