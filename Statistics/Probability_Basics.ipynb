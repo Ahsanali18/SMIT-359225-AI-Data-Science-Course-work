{
 "cells": [
  {
   "cell_type": "markdown",
   "id": "3f6bab2e-1d51-4a3f-ab12-ef1618e0fa90",
   "metadata": {},
   "source": [
    "# **PROBABLITY THEORY**\n",
    "\n",
    "## **Random Experiment**\n",
    "* An experiment is called random experiment if it satisfies the following two conditions:\n",
    "* 1. It has more than one possible outcome.\n",
    "* 2. It is not possible to predict the outcome in advance\n",
    "\n",
    "**For Example:**  Roll 2 six sided dice at once.\n",
    "\n",
    "## **Trial**\n",
    "Trial refers to a single execution of a random experiment. Each trial produces an outcome.\n",
    "\n",
    "## **Outcome**\n",
    "Outcome refers to a single possible result of a trial.\n",
    "\n",
    "## **Sample Space**\n",
    "* Sample Space of a random experiment is the set of all possible outcomes that can occur.\n",
    "* Generally, one random experiment will have one set of sample space.\n",
    "\n",
    "## **Event**\n",
    "* Event is a specific set of outcomes from a random experiment or process.\n",
    "* Essentially, it's a subset of the sample space.\n",
    "* An event can include a single outcome, or it can include multiple outcomes.\n",
    "* One random experiments can have multiple events."
   ]
  },
  {
   "cell_type": "markdown",
   "id": "30d1a7d0-cdc9-419a-8506-82e860bc2106",
   "metadata": {},
   "source": [
    "## Type of Events\n",
    "## **1. Simple Event:**\n",
    "* Also known as an elementary event, a simple event is an event that consists of exactly one outcome.\n",
    "* **For example:** When rolling a fair six-sided die, getting a 3 is a simple event.\n",
    "\n",
    "## **2. Compound Event:**\n",
    "* A compound event consists of two or more simple events.\n",
    "* **For example:** When rolling a die, the event \"rolling an odd number\" is a compound event because it consists of three simple events: rolling a 1, rolling a 3, or rolling a 5.\n",
    "  \n",
    "## **3. Independent Events:**\n",
    "* Two events are independent if the occurrence of one event does not affect the probability of the occurrence of the other event.\n",
    "* **For example:** If you flip a coin and roll a die, the outcome of the coin flip does not affect the outcome of the die roll.\n",
    "\n",
    "## **4. Dependent Events:**\n",
    "* Events are dependent if the occurrence of one event affect the probability of the occurrence of the other event.\n",
    "* **For example:** If you draw two cards from a deck without replacement, the outcome of the first draw affects the outcome of the second draw because there are fewer cards left in the deck.\n",
    "\n",
    "## **5. Mutually Exclusive Events:**\n",
    "* Two events are mutually exclusive (or disjoint) <br>if they cannot both occur at the\n",
    "same time.\n",
    "* **For example***, When rolling a die, the events \"roll a 2\" and \"roll a 4\" are mutually exclusive because a single roll of the die cannot result in both a 2 and a 4.\n",
    "  \n",
    "## **6. Exhaustive Events:**\n",
    "* A set of events is exhaustive if at least one of the events must occur when the experiment is performed.\n",
    "* **For example:** When rolling a die, the events \"roll an even number\" and \"roll an odd\n",
    "number\" are exhaustive because one or the other must occur on any roll.\n",
    "\n",
    "## **7. Impossible event and Certain Event:**\n",
    "* You have total of 10 bolls in a bag 4 are white and other are of black in color."
   ]
  },
  {
   "cell_type": "markdown",
   "id": "836a2b77-eb5e-4c88-9a60-e78c5c6ba573",
   "metadata": {},
   "source": [
    "## **What is Probability** \n",
    "* In simplest terms, probability is a measure of the likelihood that a particular event will occur.\n",
    "* It is a fundamental concept in statistics and is used to make predictions and informed decisions in a wide range of disciplines, including science, engineering, medicine, economics, and social sciences.\n",
    "  \n",
    "**Probability is usually expressed as a number between 0 and 1, inclusive:**\n",
    "\n",
    "* A probability of 0 means that an event will not happen.\n",
    "* A probability of 1 means that an event will certainly happen.\n",
    "* A probability of 0.5 means that an event will happen half the time (or that it is as likely to happen as not to happen).\n",
    "  \n",
    "#### **Probability: Used for predicting any event/outcome from a random experiment**\n",
    "* Multiple outcomes\n",
    "* Non-predictions\n",
    "\n",
    "\n",
    "## **Empirical Probability Vs Theoretical Probability**\n",
    "### **Empirical Probability**\n",
    "* Empirical probability, also known as experimental probability, is a probability measure that is based on observed data, rather than theoretical assumptions. \n",
    "* It's calculated as the ratio of the number of times a particular event occurs to the total number of trials.\n",
    "\n",
    "* No of times the event occurs/total no of trails\n",
    "* **For example:**\n",
    "1. Suppose that, in our 100 tosses, we get heads 55 times and tails 45 times. What is the empirical probability of getting a head.\n",
    "2. Let's say you have a bag with 50 marbles. Out of these 50 marbles, 20 are red, 15 are blue, and 15 are green. You start to draw marbles one at a time, replacing the marble back into the bag after each draw. After 200 draws, you find that you've drawn a red marble 80 times, a blue marble 70 times, and a green marble 50 times. What is the empirical probability of getting a red marble?\n",
    "\n",
    "\n",
    "## **Theoretical Probability**\n",
    "* Theoretical (or classical) probability is used when each outcome in a sample space is equally likely to occur.\n",
    "* If we denote an event of interest as Event A, we calculate the theoretical probability of that event as:\n",
    "\n",
    "* Theoretical Probability of Event A = Number of Favourable Outcomes (that is, outcomes in Event A) / Total Number of Outcomes in the Sample Space\n",
    "* Total no of events/total no of pssible outcomes\n",
    "* **For Example:**\n",
    "1. Consider a scenario of tossing a fair coin 3 times. Find the probability of getting exactly 2 heads.\n",
    "2. Consider a scenario of rolling 2 dice. What is the probability of getting a sum = 7"
   ]
  },
  {
   "cell_type": "code",
   "execution_count": 12,
   "id": "d6dfe0db-4ed2-4204-a319-decb2ffcdade",
   "metadata": {},
   "outputs": [],
   "source": [
    "import numpy as np\n",
    "import pandas as pd\n",
    "import matplotlib.pyplot as plt\n",
    "import seaborn as sns"
   ]
  },
  {
   "cell_type": "code",
   "execution_count": 13,
   "id": "17994c67-0845-4462-817e-65c6c10b7185",
   "metadata": {},
   "outputs": [],
   "source": [
    "# Sample Space: Set of all possible outcomes \n",
    "# Event: Specific set of outcomes/outcome from a random experiment\n",
    "# (Event subset of Sample space)\n",
    "# Example: Coin toss: Sample space = 2 (Head + Tail) and Event = 1 (Head/Tail)\n",
    "\n",
    "dice_roll = (1,2,3,4,5,6)\n",
    "dice_event = 3  # subset of sample space: dice_roll\n",
    "coin_toss = (\"H\",\"T\")\n",
    "coin_event = \"H\"  #subset of sample space : coin toss"
   ]
  },
  {
   "cell_type": "code",
   "execution_count": 14,
   "id": "e0f223fe-b7b0-414f-8758-269a6c9d0509",
   "metadata": {},
   "outputs": [],
   "source": [
    "# Coin is tossed for 2 times\n",
    "coin_toss_twice = (\"HH\",\"HT\",\"TH\",\"TT\")\n"
   ]
  },
  {
   "cell_type": "code",
   "execution_count": 15,
   "id": "2f5e220d-878c-4a16-81a4-25d81dcfe00f",
   "metadata": {},
   "outputs": [],
   "source": [
    "# Two bags: one = 5 white balls and 2nd bag => 2 black + 3 white\n",
    "# choose 1-1 ball from each bag\n",
    "# exhaustive event = from 1st bag 1-white ball is any how comes this is called exhaustive"
   ]
  },
  {
   "cell_type": "code",
   "execution_count": 16,
   "id": "1ee0c1fc-cc82-4a8a-8dd6-b8894c149666",
   "metadata": {},
   "outputs": [
    {
     "name": "stdout",
     "output_type": "stream",
     "text": [
      "Theoritical probability of H: 0.5\n",
      "Empericial Probability: 0.59\n"
     ]
    }
   ],
   "source": [
    "# Coin toss\n",
    "# Theoritical probability\n",
    "ss = (\"H\",\"T\")\n",
    "print(f\"Theoritical probability of H: {1/len(ss)}\")\n",
    "# toss a coin 100 times simulate in python\n",
    "sample_space = np.random.choice((\"H\",\"T\"),size=100)\n",
    "sample_space = pd.Series(sample_space)\n",
    "# emperical_probability = sample_space.value_counts()[\"H\"]/len(sample_space)  \n",
    "emperical_probability = sample_space.value_counts(normalize=True)[\"H\"]\n",
    "print(f\"Empericial Probability: {emperical_probability}\")"
   ]
  },
  {
   "cell_type": "code",
   "execution_count": 17,
   "id": "3940761d-7fc0-4e34-916f-8b15ddb0d06a",
   "metadata": {},
   "outputs": [
    {
     "name": "stdout",
     "output_type": "stream",
     "text": [
      "Theoritical Probability of blue ball: 0.2777777777777778\n"
     ]
    }
   ],
   "source": [
    "# coin toss\n",
    "# theoritical probability\n",
    "# ss = {'H','T'}\n",
    "# print(f\"Theoritical Probability of H: {1/len(ss)}\")\n",
    "# toss a coin 100 times simulate in python\n",
    "ss1 = np.random.choice(['H','T'], size = 100)\n",
    "ss1 = pd.Series(ss1)\n",
    "# print(f\" Emerical probability {ss1.value_counts(normalize = True)['H']}\")\n",
    "\n",
    "# Scenario: A bag has 3 red balls, 5 blue balls, 2 green balls.\n",
    "# Theoritical Probability of picking a blue ball.\n",
    "# Emperical: Simulate drawing 10000 balls randomly. extimate the probability and compare with others.\n",
    "ss = ['red']*3+['blue']*5+['green']*10\n",
    "ss = pd.Series(ss)\n",
    "print(f\"Theoritical Probability of blue ball: {ss.value_counts()['blue']/len(ss)}\")\n",
    "trails = 10000\n",
    "round_value = np.random.choice(ss,size = trails)\n",
    "round_value = pd.Series(round_value)\n"
   ]
  },
  {
   "cell_type": "code",
   "execution_count": 25,
   "id": "c01f100a-dd84-4f66-afb4-577db6f7dfa6",
   "metadata": {},
   "outputs": [
    {
     "name": "stdout",
     "output_type": "stream",
     "text": [
      "Theoritical Probability of Red balls: 0.3\n",
      "Theoritical Probability of Blue balls: 0.5\n",
      "Theoritical Probability of Green balls: 0.2\n",
      "Emprical Probability of red balls: 0.309\n",
      "Emprical Probability of red balls: 0.479\n",
      "Emprical Probability of red balls: 0.212\n",
      "Emperical Probability of R: 0.31\n",
      "Emperical Probability of B: 0.48\n",
      "Emperical Probability of G: 0.21\n"
     ]
    },
    {
     "data": {
      "image/png": "[encoded data removed]",
      "text/plain": [
       "<Figure size 640x480 with 1 Axes>"
      ]
     },
     "metadata": {},
     "output_type": "display_data"
    }
   ],
   "source": [
    "# Scenario: A bag has 3 red balls, 5 blue balls, 2 green balls \n",
    "# Find out: Theoritical Probability of picking a blue ball\n",
    "# Find out: Empirical Probability to simulate the drawing of 1000 balls randomly, estimate the probability and compare with others\n",
    "\n",
    "balls = (\"R\",\"R\",\"R\",\"B\",\"B\",\"B\",\"B\",\"B\",\"G\",\"G\")\n",
    "balls = pd.Series(balls)\n",
    "print(f\"Theoritical Probability of Red balls: {balls.value_counts()[\"R\"]/len(balls)}\")\n",
    "print(f\"Theoritical Probability of Blue balls: {balls.value_counts()[\"B\"]/len(balls)}\")\n",
    "print(f\"Theoritical Probability of Green balls: {balls.value_counts()[\"G\"]/len(balls)}\")\n",
    "\n",
    "trials = 1000\n",
    "sample_space_balls = np.random.choice((balls),size=trials)\n",
    "sample_space_balls = pd.Series(sample_space_balls)\n",
    "\n",
    "# Method-1\n",
    "red_balls = sample_space_balls.value_counts(normalize=True)[\"R\"]\n",
    "blue_balls = sample_space_balls.value_counts(normalize=True)[\"B\"]\n",
    "green_balls = sample_space_balls.value_counts(normalize=True)[\"G\"]\n",
    "print(f\"Emprical Probability of red balls: {red_balls}\")\n",
    "print(f\"Emprical Probability of red balls: {blue_balls}\")\n",
    "print(f\"Emprical Probability of red balls: {green_balls}\")\n",
    "\n",
    "# Method-2\n",
    "for ball in balls.unique():\n",
    "    print(f\"Emperical Probability of {ball}: {sample_space_balls.value_counts(normalize=True)[ball]:.2f}\")\n",
    "sns.barplot(x= sample_space_balls.value_counts(normalize = True).index, y=sample_space_balls.value_counts(normalize=True).values, hue = sample_space_balls.value_counts(normalize=True).index)\n",
    "sns.lineplot(balls.value_counts()/len(balls), color = \"r\", marker = \"o\")\n",
    "plt.show()"
   ]
  },
  {
   "cell_type": "markdown",
   "id": "e25e1e67-4f55-4594-8d3a-dfe92078bc82",
   "metadata": {},
   "source": [
    "## **Random Variable**\n",
    "In the context of probability theory, a random variable is a function that maps the outcomes of a random process (known as the sample space) to a set of real numbers.\n",
    "1. Input: The input to the function is an outcome from the sample space of a random process.\n",
    "2. Output: The output of the function is a real number that we assign to each possible outcome.\n",
    "\n",
    "The transformation from input to output in the function of a random variable is determined by how we choose to define the random variable. And the choice of how to define a random variable often depends on the specific aspects of the random process (or event) that you're interested in studying.\n",
    "\n",
    "## Probability Distribution of a Random Variable\n",
    "A probability distribution is a list of all of the possible outcomes of a random variable along with their corresponding probability values."
   ]
  }
 ],
 "metadata": {
  "kernelspec": {
   "display_name": "Python 3 (ipykernel)",
   "language": "python",
   "name": "python3"
  },
  "language_info": {
   "codemirror_mode": {
    "name": "ipython",
    "version": 3
   },
   "file_extension": ".py",
   "mimetype": "text/x-python",
   "name": "python",
   "nbconvert_exporter": "python",
   "pygments_lexer": "ipython3",
   "version": "3.12.7"
  }
 },
 "nbformat": 4,
 "nbformat_minor": 5
}
