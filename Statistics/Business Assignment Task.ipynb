{
 "cells": [
  {
   "cell_type": "code",
   "execution_count": 36,
   "id": "70af620c-84c9-4745-bda6-4fc26b1e0396",
   "metadata": {},
   "outputs": [],
   "source": [
    "# import numpy as np\n",
    "# import math\n",
    "\n",
    "# data = np.loadtxt('InvestmentDataset.csv', delimiter=',', dtype=object)\n",
    "# data = data[1:]\n",
    "\n",
    "# # Initial investment\n",
    "# initial_investment = 5000\n",
    "\n",
    "# # Calculate total investment\n",
    "# total_investment = initial_investment + np.sum(data[:, 2].astype(float))\n",
    "\n",
    "# # Calculate profit for each year\n",
    "# profits = []\n",
    "# for i in range(len(data)):\n",
    "#     if i == 0:\n",
    "#         profit = float(data[i, 3]) - initial_investment\n",
    "#     else:\n",
    "#         profit = float(data[i, 3]) - float(data[i-1, 3]) - float(data[i, 2])\n",
    "#     profits.append(profit)\n",
    "\n",
    "\n",
    "# # Calculate arithmetic mean\n",
    "# # print(\"A.M\",sum(profits))\n",
    "# arithmetic_mean = np.mean(profits)\n",
    "\n",
    "# profit_percentages=np.char.replace(data[:,1].astype(str),'%','').astype(float)\n",
    "# profit_rates=profit_percentages/100\n",
    "# geometric_mean=(np.prod(1+profit_rates)**(1/len(profit_rates)))-1\n",
    "\n",
    "# # Identify loss and profit making years\n",
    "# loss_making_years = [int(data[i, 0]) for i in range(len(profits)) if profits[i] < 0]\n",
    "# profit_making_years = [int(data[i, 0]) for i in range(len(profits)) if profits[i] >= 0]\n",
    "\n",
    "# # Calculate total amount in bank\n",
    "# total_amount = float(data[-1, 3])\n",
    "\n",
    "# # Output\n",
    "# print(f\"Initial Investment: ${initial_investment}\")\n",
    "# print(f\"Total Profit Per Interval of Every year (GMean): {geometric_mean * 100:.2f}%\")\n",
    "# print(f\"Arithmetic Mean: ${arithmetic_mean:.2f}\")  #8.6000001\n",
    "# print(f\"Total Amount in my Bank: ${total_amount:.2f}\")\n",
    "# print(f\"Total Investment: ${total_investment:.2f}\")\n",
    "# print(f\"List of loss making years: {loss_making_years}\")\n",
    "# print(f\"List of Profit making years: {profit_making_years}\")\n",
    "\n"
   ]
  },
  {
   "cell_type": "code",
   "execution_count": 37,
   "id": "8abe5d67-6d9b-410b-b369-5aa81ad9d3ec",
   "metadata": {},
   "outputs": [
    {
     "ename": "ValueError",
     "evalue": "the number of columns changed from 4 to 1 at row 2; use `usecols` to select a subset and avoid this error",
     "output_type": "error",
     "traceback": [
      "\u001b[1;31m---------------------------------------------------------------------------\u001b[0m",
      "\u001b[1;31mValueError\u001b[0m                                Traceback (most recent call last)",
      "Cell \u001b[1;32mIn[37], line 4\u001b[0m\n\u001b[0;32m      1\u001b[0m \u001b[38;5;28;01mimport\u001b[39;00m \u001b[38;5;21;01mnumpy\u001b[39;00m \u001b[38;5;28;01mas\u001b[39;00m \u001b[38;5;21;01mnp\u001b[39;00m\n\u001b[0;32m      2\u001b[0m \u001b[38;5;28;01mimport\u001b[39;00m \u001b[38;5;21;01mmath\u001b[39;00m\n\u001b[1;32m----> 4\u001b[0m my_file \u001b[38;5;241m=\u001b[39m np\u001b[38;5;241m.\u001b[39mloadtxt(\u001b[38;5;124m\"\u001b[39m\u001b[38;5;124mInvestmentDataset.csv\u001b[39m\u001b[38;5;124m\"\u001b[39m, delimiter\u001b[38;5;241m=\u001b[39m\u001b[38;5;124m\"\u001b[39m\u001b[38;5;124m \u001b[39m\u001b[38;5;124m\"\u001b[39m, dtype\u001b[38;5;241m=\u001b[39m\u001b[38;5;28mstr\u001b[39m)\n\u001b[0;32m      5\u001b[0m features \u001b[38;5;241m=\u001b[39m my_file[\u001b[38;5;241m0\u001b[39m]\n\u001b[0;32m      6\u001b[0m in_invest \u001b[38;5;241m=\u001b[39m \u001b[38;5;241m5000\u001b[39m\n",
      "File \u001b[1;32m~\\anaconda3\\Lib\\site-packages\\numpy\\lib\\npyio.py:1373\u001b[0m, in \u001b[0;36mloadtxt\u001b[1;34m(fname, dtype, comments, delimiter, converters, skiprows, usecols, unpack, ndmin, encoding, max_rows, quotechar, like)\u001b[0m\n\u001b[0;32m   1370\u001b[0m \u001b[38;5;28;01mif\u001b[39;00m \u001b[38;5;28misinstance\u001b[39m(delimiter, \u001b[38;5;28mbytes\u001b[39m):\n\u001b[0;32m   1371\u001b[0m     delimiter \u001b[38;5;241m=\u001b[39m delimiter\u001b[38;5;241m.\u001b[39mdecode(\u001b[38;5;124m'\u001b[39m\u001b[38;5;124mlatin1\u001b[39m\u001b[38;5;124m'\u001b[39m)\n\u001b[1;32m-> 1373\u001b[0m arr \u001b[38;5;241m=\u001b[39m _read(fname, dtype\u001b[38;5;241m=\u001b[39mdtype, comment\u001b[38;5;241m=\u001b[39mcomment, delimiter\u001b[38;5;241m=\u001b[39mdelimiter,\n\u001b[0;32m   1374\u001b[0m             converters\u001b[38;5;241m=\u001b[39mconverters, skiplines\u001b[38;5;241m=\u001b[39mskiprows, usecols\u001b[38;5;241m=\u001b[39musecols,\n\u001b[0;32m   1375\u001b[0m             unpack\u001b[38;5;241m=\u001b[39munpack, ndmin\u001b[38;5;241m=\u001b[39mndmin, encoding\u001b[38;5;241m=\u001b[39mencoding,\n\u001b[0;32m   1376\u001b[0m             max_rows\u001b[38;5;241m=\u001b[39mmax_rows, quote\u001b[38;5;241m=\u001b[39mquotechar)\n\u001b[0;32m   1378\u001b[0m \u001b[38;5;28;01mreturn\u001b[39;00m arr\n",
      "File \u001b[1;32m~\\anaconda3\\Lib\\site-packages\\numpy\\lib\\npyio.py:1043\u001b[0m, in \u001b[0;36m_read\u001b[1;34m(fname, delimiter, comment, quote, imaginary_unit, usecols, skiplines, max_rows, converters, ndmin, unpack, dtype, encoding)\u001b[0m\n\u001b[0;32m   1040\u001b[0m \u001b[38;5;28;01melse\u001b[39;00m:\n\u001b[0;32m   1041\u001b[0m     chunk_size \u001b[38;5;241m=\u001b[39m \u001b[38;5;28mmin\u001b[39m(_loadtxt_chunksize, max_rows)\n\u001b[1;32m-> 1043\u001b[0m next_arr \u001b[38;5;241m=\u001b[39m _load_from_filelike(\n\u001b[0;32m   1044\u001b[0m     data, delimiter\u001b[38;5;241m=\u001b[39mdelimiter, comment\u001b[38;5;241m=\u001b[39mcomment, quote\u001b[38;5;241m=\u001b[39mquote,\n\u001b[0;32m   1045\u001b[0m     imaginary_unit\u001b[38;5;241m=\u001b[39mimaginary_unit,\n\u001b[0;32m   1046\u001b[0m     usecols\u001b[38;5;241m=\u001b[39musecols, skiplines\u001b[38;5;241m=\u001b[39mskiplines, max_rows\u001b[38;5;241m=\u001b[39mmax_rows,\n\u001b[0;32m   1047\u001b[0m     converters\u001b[38;5;241m=\u001b[39mconverters, dtype\u001b[38;5;241m=\u001b[39mdtype,\n\u001b[0;32m   1048\u001b[0m     encoding\u001b[38;5;241m=\u001b[39mencoding, filelike\u001b[38;5;241m=\u001b[39mfilelike,\n\u001b[0;32m   1049\u001b[0m     byte_converters\u001b[38;5;241m=\u001b[39mbyte_converters,\n\u001b[0;32m   1050\u001b[0m     c_byte_converters\u001b[38;5;241m=\u001b[39mc_byte_converters)\n\u001b[0;32m   1051\u001b[0m \u001b[38;5;66;03m# Cast here already.  We hope that this is better even for\u001b[39;00m\n\u001b[0;32m   1052\u001b[0m \u001b[38;5;66;03m# large files because the storage is more compact.  It could\u001b[39;00m\n\u001b[0;32m   1053\u001b[0m \u001b[38;5;66;03m# be adapted (in principle the concatenate could cast).\u001b[39;00m\n\u001b[0;32m   1054\u001b[0m chunks\u001b[38;5;241m.\u001b[39mappend(next_arr\u001b[38;5;241m.\u001b[39mastype(read_dtype_via_object_chunks))\n",
      "\u001b[1;31mValueError\u001b[0m: the number of columns changed from 4 to 1 at row 2; use `usecols` to select a subset and avoid this error"
     ]
    }
   ],
   "source": [
    "import numpy as np\n",
    "import math\n",
    "\n",
    "my_file = np.loadtxt(\"InvestmentDataset.csv\", delimiter=\" \", dtype=str)\n",
    "features = my_file[0]\n",
    "in_invest = 5000\n",
    "print(features)\n",
    "\n",
    "my_file = np.delete(my_file, 0, axis=0)  # remove headers\n",
    "roc = np.array([pro.replace(\"X\", \"\") for pro in my_file[:, 1]]).astype(float)\n",
    "add_invest = my_file[:, 2].astype(float)\n",
    "\n",
    "loss_years = np.where(roc < 0)\n",
    "profit_years = np.where(roc > 0)\n",
    "amean = np.mean(roc / 100)\n",
    "roc = (roc / 100) + 1\n",
    "product = np.prod(roc)\n",
    "gmean = math.pow(product, 1/len(roc)) - 1\n",
    "\n",
    "iloc_AI = np.where(add_invest != 0)\n",
    "print(my_file[iloc_AI[0], 3].astype(float) - add_invest[iloc_AI[0]])\n",
    "\n",
    "print(f\"GMean: {gmean*100}\")\n",
    "print(f\"AMean: {amean}\")\n",
    "print(f\"Total amount in bank: {my_file[-1:,-1]}\")\n",
    "print(f\"Total investment: {in_invest + np.sum(add_invest)}\")\n",
    "print(f\"Loss making Years: {my_file[loss_years[0], 0]} Year\")\n",
    "print(f\"Profit making Years: {my_file[profit_years[0], 0]} Year\")\n",
    "\n",
    "\n",
    "\n",
    "#Task: Find the roc of each year upto the investment and after investment for each years\n"
   ]
  }
 ],
 "metadata": {
  "kernelspec": {
   "display_name": "Python 3 (ipykernel)",
   "language": "python",
   "name": "python3"
  },
  "language_info": {
   "codemirror_mode": {
    "name": "ipython",
    "version": 3
   },
   "file_extension": ".py",
   "mimetype": "text/x-python",
   "name": "python",
   "nbconvert_exporter": "python",
   "pygments_lexer": "ipython3",
   "version": "3.12.7"
  }
 },
 "nbformat": 4,
 "nbformat_minor": 5
}
