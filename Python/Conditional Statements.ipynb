{
 "cells": [
  {
   "cell_type": "code",
   "execution_count": null,
   "id": "b1a43ea5-26f4-4bba-8c4e-113d2c7f6c92",
   "metadata": {},
   "outputs": [],
   "source": [
    "\"\"\" Operators\n",
    "1- Membership operator: In, Not In\n",
    "2- Identity operators: Is, Is not\n",
    "3- bitwise operator: |\n",
    "\n",
    "# -> symbol used for single line comment\n",
    "multi line comment ''' Text''' or \"\"\" \"\"\"\n",
    "\n",
    "\"\"\"\n",
    "\n",
    "# multiplication of two numbers\n",
    "number1=2\n",
    "number2=3\n",
    "multiplication= number1*number2\n",
    "\n",
    "# Conditional statements syntax\n",
    "\"\"\"\n",
    "if condition:\n",
    "   indentation(it is important in python) \n",
    "\"\"\"\n",
    "\n",
    "# Example of if-else statements\n",
    "if number1>number2:\n",
    "   print(number1,\" is greater than \",number2)\n",
    "else:\n",
    "  print(number2,\" is greater than \",number1)    \n"
   ]
  }
 ],
 "metadata": {
  "kernelspec": {
   "display_name": "Python 3 (ipykernel)",
   "language": "python",
   "name": "python3"
  },
  "language_info": {
   "codemirror_mode": {
    "name": "ipython",
    "version": 3
   },
   "file_extension": ".py",
   "mimetype": "text/x-python",
   "name": "python",
   "nbconvert_exporter": "python",
   "pygments_lexer": "ipython3",
   "version": "3.12.7"
  }
 },
 "nbformat": 4,
 "nbformat_minor": 5
}
