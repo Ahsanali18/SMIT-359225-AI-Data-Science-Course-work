{
 "cells": [
  {
   "cell_type": "code",
   "execution_count": 7,
   "id": "c140fb52-ba39-4b59-b9d9-1663649cbd30",
   "metadata": {},
   "outputs": [
    {
     "name": "stdout",
     "output_type": "stream",
     "text": [
      "Value is equals to 6\n",
      "Value is not equals to 6\n"
     ]
    }
   ],
   "source": [
    "value=6\n",
    "# Checks all conditions whether one is true or  not\n",
    "if value==6:\n",
    "    print(\"Value is equals to 6\")\n",
    "if value<6:\n",
    "    print(\"Value is less than 6\")\n",
    "if value>6:\n",
    "    print(\"Value is greater than 6\")\n",
    "else:\n",
    "    print(\"Value is not equals to 6\")"
   ]
  },
  {
   "cell_type": "code",
   "execution_count": 8,
   "id": "12a85e59-8356-4e33-b235-4950029ce26e",
   "metadata": {},
   "outputs": [
    {
     "name": "stdout",
     "output_type": "stream",
     "text": [
      "Value is equals to 6\n"
     ]
    }
   ],
   "source": [
    "# Only check for a specific block\n",
    "value=6\n",
    "\n",
    "if value==6:\n",
    "    print(\"Value is equals to 6\")\n",
    "elif value<6:\n",
    "    print(\"Value is less than 6\")\n",
    "elif value>6:\n",
    "    print(\"Value is greater than 6\")\n",
    "else:\n",
    "    print(\"Value is not equals to 6\")"
   ]
  },
  {
   "cell_type": "code",
   "execution_count": 9,
   "id": "a73cf343-f855-4ac2-929d-06307e7fb7d5",
   "metadata": {},
   "outputs": [
    {
     "name": "stdin",
     "output_type": "stream",
     "text": [
      "Enter your email address:  ahsan@gmail.com\n"
     ]
    },
    {
     "name": "stdout",
     "output_type": "stream",
     "text": [
      "Email is correct, checking for password....\n"
     ]
    },
    {
     "name": "stdin",
     "output_type": "stream",
     "text": [
      "Enter your password:  programming\n"
     ]
    },
    {
     "name": "stdout",
     "output_type": "stream",
     "text": [
      "Name:  Ahsan Ali\n",
      "Phone Number:  03XXXXXXXXX\n",
      "Age:  18\n",
      "Email address:  ahsan@gmail.com\n",
      "Address:  Hyderabad Qasimabad\n"
     ]
    },
    {
     "name": "stdout",
     "output_type": "stream",
     "text": [
      "Name:  Ahsan Ali\n",
      "Phone Number:  0023i2344\n",
      "Age:  18\n",
      "Email address:  ahsanali@gmail.com\n",
      "Address:  Hyderabad Qasimabad\n"
     ]
    }
   ],
   "source": [
    "\"\"\"                                                     Lists\n",
    "List -> collection of items, it can contain different type of data like (int,float,string) and objects, while arrays store\n",
    "        only same type of data\n",
    "It can be accessed through indices starting from 0 to n-1.\n",
    "\n",
    "List_name = [value1, value2,...]  -> list declaration\n",
    "list_name[index]                  -> list item calling/ accessing. \"\"\"\n",
    "\n",
    "# Make use of lists and print the details of user\n",
    "user_details=[\"Ahsan Ali\", \"03XXXXXXXXX\",18,\"ahsan@gmail.com\",\"Hyderabad Qasimabad\",\"programming\"]\n",
    "users_email=input(\"Enter your email address: \")\n",
    "\n",
    "if users_email==user_details[3]:\n",
    "    print(\"Email is correct, checking for password....\")\n",
    "    users_password=input(\"Enter your password: \")\n",
    "    if users_password==user_details[5]:\n",
    "        print(\"Name: \",user_details[0])\n",
    "        print(\"Phone Number: \",user_details[1])\n",
    "        print(\"Age: \",user_details[2])\n",
    "        print(\"Email address: \",user_details[3])\n",
    "        print(\"Address: \",user_details[4])\n",
    "    else:\n",
    "        print(\"Invalid Password (Try again)\")\n",
    "else:\n",
    "    print(\"Invalid Email address.\")"
   ]
  },
  {
   "cell_type": "code",
   "execution_count": 10,
   "id": "60dcab86-2e27-4764-8287-bb9c29bc80ac",
   "metadata": {},
   "outputs": [
    {
     "name": "stdin",
     "output_type": "stream",
     "text": [
      "Enter your email address:  ahsan@gmail.com\n"
     ]
    },
    {
     "name": "stdout",
     "output_type": "stream",
     "text": [
      "Email is correct, checking for password....\n"
     ]
    },
    {
     "name": "stdin",
     "output_type": "stream",
     "text": [
      "Enter your password:  programming\n"
     ]
    },
    {
     "name": "stdout",
     "output_type": "stream",
     "text": [
      "Name:  Ahsan Ali\n",
      "Phone Number:  0023342344\n",
      "Age:  18\n",
      "Email address:  ahsan@gmail.com\n",
      "Address:  Hyderabad Qasimabad\n"
     ]
    },
    {
     "name": "stdout",
     "output_type": "stream",
     "text": [
      "Name:  Ahsan Ali\n",
      "Phone Number:  0023342344\n",
      "Age:  18\n",
      "Email address:  ahsan@gmail.com\n",
      "Address:  Hyderabad Qasimabad\n"
     ]
    }
   ],
   "source": [
    "\"\"\"                                                         Tuples\n",
    "Tuple is same like a list but it's immutable in nature.\n",
    "We use () to define a tuple instead of using square brackets: []\n",
    "tuple_name= (value1, value2,...) -> Tuple declaration\n",
    "tuple_name[index]\n",
    "Important Note: Tuple can not be edited, while list can be edited/modified \"\"\"\n",
    "\n",
    "# Make use of tuple and print the details of user\n",
    "\n",
    "user_details=(\"Ahsan Ali\", \"0023342344\",18,\"ahsan@gmail.com\",\"Hyderabad Qasimabad\",\"programming\")\n",
    "users_email=input(\"Enter your email address: \")\n",
    "\n",
    "if users_email==user_details[3]:\n",
    "    print(\"Email is correct, checking for password....\")\n",
    "    users_password=input(\"Enter your password: \")\n",
    "    if users_password==user_details[5]:\n",
    "        print(\"Name: \",user_details[0])\n",
    "        print(\"Phone Number: \",user_details[1])\n",
    "        print(\"Age: \",user_details[2])\n",
    "        print(\"Email address: \",user_details[3])\n",
    "        print(\"Address: \",user_details[4])\n",
    "    else:\n",
    "        print(\"Invalid Password (Try again)\")\n",
    "else:\n",
    "    print(\"Invalid Email address.\")"
   ]
  },
  {
   "cell_type": "code",
   "execution_count": 11,
   "id": "ebe7c440-4325-4ab5-a463-c12ed12eec80",
   "metadata": {},
   "outputs": [
    {
     "name": "stdin",
     "output_type": "stream",
     "text": [
      "Enter your email address:  ahsan@gmail.com\n"
     ]
    },
    {
     "ename": "TypeError",
     "evalue": "'set' object is not subscriptable",
     "output_type": "error",
     "traceback": [
      "\u001b[1;31m---------------------------------------------------------------------------\u001b[0m",
      "\u001b[1;31mTypeError\u001b[0m                                 Traceback (most recent call last)",
      "Cell \u001b[1;32mIn[11], line 8\u001b[0m\n\u001b[0;32m      5\u001b[0m user_details\u001b[38;5;241m=\u001b[39m{\u001b[38;5;124m\"\u001b[39m\u001b[38;5;124mAhsan Ali\u001b[39m\u001b[38;5;124m\"\u001b[39m, \u001b[38;5;124m\"\u001b[39m\u001b[38;5;124m0023342344\u001b[39m\u001b[38;5;124m\"\u001b[39m,\u001b[38;5;241m18\u001b[39m,\u001b[38;5;124m\"\u001b[39m\u001b[38;5;124mahsan@gmail.com\u001b[39m\u001b[38;5;124m\"\u001b[39m,\u001b[38;5;124m\"\u001b[39m\u001b[38;5;124mHyderabad Qasimabad\u001b[39m\u001b[38;5;124m\"\u001b[39m,\u001b[38;5;124m\"\u001b[39m\u001b[38;5;124mprogramming\u001b[39m\u001b[38;5;124m\"\u001b[39m}\n\u001b[0;32m      6\u001b[0m users_email\u001b[38;5;241m=\u001b[39m\u001b[38;5;28minput\u001b[39m(\u001b[38;5;124m\"\u001b[39m\u001b[38;5;124mEnter your email address: \u001b[39m\u001b[38;5;124m\"\u001b[39m)\n\u001b[1;32m----> 8\u001b[0m \u001b[38;5;28;01mif\u001b[39;00m users_email\u001b[38;5;241m==\u001b[39muser_details[\u001b[38;5;241m3\u001b[39m]:\n\u001b[0;32m      9\u001b[0m     \u001b[38;5;28mprint\u001b[39m(\u001b[38;5;124m\"\u001b[39m\u001b[38;5;124mEmail is correct, checking for password....\u001b[39m\u001b[38;5;124m\"\u001b[39m)\n\u001b[0;32m     10\u001b[0m     users_password\u001b[38;5;241m=\u001b[39m\u001b[38;5;28minput\u001b[39m(\u001b[38;5;124m\"\u001b[39m\u001b[38;5;124mEnter your password: \u001b[39m\u001b[38;5;124m\"\u001b[39m)\n",
      "\u001b[1;31mTypeError\u001b[0m: 'set' object is not subscriptable"
     ]
    }
   ],
   "source": [
    "#                                                       Sets\n",
    "\n",
    "# Make use of sets and print the details of user\n",
    "\n",
    "user_details={\"Ahsan Ali\", \"0023342344\",18,\"ahsan@gmail.com\",\"Hyderabad Qasimabad\",\"programming\"}\n",
    "users_email=input(\"Enter your email address: \")\n",
    "\n",
    "if users_email==user_details[3]:\n",
    "    print(\"Email is correct, checking for password....\")\n",
    "    users_password=input(\"Enter your password: \")\n",
    "    if users_password==user_details[5]:\n",
    "        print(\"Name: \",user_details[0])\n",
    "        print(\"Phone Number: \",user_details[1])\n",
    "        print(\"Age: \",user_details[2])\n",
    "        print(\"Email address: \",user_details[3])\n",
    "        print(\"Address: \",user_details[4])\n",
    "    else:\n",
    "        print(\"Invalid Password (Try again)\")\n",
    "else:\n",
    "    print(\"Invalid Email address.\")\n",
    "\n",
    "# Note: use sets as a collection where you don't need repetition, avoid using it as a database (To store user details)."
   ]
  }
 ],
 "metadata": {
  "kernelspec": {
   "display_name": "Python 3 (ipykernel)",
   "language": "python",
   "name": "python3"
  },
  "language_info": {
   "codemirror_mode": {
    "name": "ipython",
    "version": 3
   },
   "file_extension": ".py",
   "mimetype": "text/x-python",
   "name": "python",
   "nbconvert_exporter": "python",
   "pygments_lexer": "ipython3",
   "version": "3.12.7"
  }
 },
 "nbformat": 4,
 "nbformat_minor": 5
}
