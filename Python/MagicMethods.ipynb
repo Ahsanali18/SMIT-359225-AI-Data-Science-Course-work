{
 "cells": [
  {
   "cell_type": "code",
   "execution_count": 8,
   "id": "5b75e95e-b24d-4842-9392-ab474af21b96",
   "metadata": {},
   "outputs": [
    {
     "name": "stdout",
     "output_type": "stream",
     "text": [
      "Object of String Class containing: Ahmed Nawaz\n",
      "two objects of string are subtracted\n",
      "two objects of string are multipliedd\n"
     ]
    }
   ],
   "source": [
    "class String:\n",
    "    def __init__(self,txt):\n",
    "        self.txt = txt\n",
    "    def __repr__(self):\n",
    "        return f\"Object of String Class containing: {self.txt}\" \n",
    "    def __add__(self,other):\n",
    "        return String(self.txt +\" \"+ other.txt)\n",
    "    def __sub__(self,other):\n",
    "        return \"two objects of string are subtracted\"\n",
    "    def __mul__(self,other):\n",
    "        return \"two objects of string are multipliedd\"\n",
    "    def __div__(self,other):\n",
    "        return \"two objects of string are divided\"\n",
    "\n",
    "s1 = String(\"Ahmed\")\n",
    "s2 = String(\"Nawaz\")\n",
    "print(s1+s2)\n",
    "print(s1-s2)\n",
    "print(s1*s2)"
   ]
  },
  {
   "cell_type": "code",
   "execution_count": 10,
   "id": "c39d8218-7af6-4edd-bfdc-cd3c6e1afd2a",
   "metadata": {},
   "outputs": [
    {
     "name": "stdout",
     "output_type": "stream",
     "text": [
      "15\n"
     ]
    }
   ],
   "source": [
    "class Number:\n",
    "    def __init__(self,num):\n",
    "        self.num = num\n",
    "    def __repr__(self):\n",
    "        return str(self.num) \n",
    "    def __add__(self,other):\n",
    "        return Number(self.num + other.num)\n",
    "    def __sub__(self,other):\n",
    "        return Number(self.num - other.num)\n",
    "    def __mul__(self,other):\n",
    "        return Number(self.num * other.num)\n",
    "    def __trudiv__(self,other):\n",
    "        if other.value ==0:\n",
    "           return \"Divide is not possible by zero\"\n",
    "        return Number(self.num / other.num)\n",
    "    \n",
    "    def __mod__(self, other):\n",
    "        return Number(self.num % other.num)\n",
    "    \n",
    "    def __round__(self, n=None):\n",
    "        return round(self.num)\n",
    "\n",
    "n1 = Number(14.8)\n",
    "n2 = Number(7)\n",
    "print(round(n1))"
   ]
  },
  {
   "cell_type": "code",
   "execution_count": 11,
   "id": "a8c98f76-e435-476b-a87a-9cfb69381ca5",
   "metadata": {},
   "outputs": [
    {
     "name": "stdout",
     "output_type": "stream",
     "text": [
      "SMIT and SMIT-Memon\n",
      "The Book: SMIT is deleted\n"
     ]
    }
   ],
   "source": [
    "class book:\n",
    "    def __init__(self, title, pages, author):\n",
    "        self.title = title\n",
    "        self.pages = pages\n",
    "        self.author = author\n",
    "    def __repr__(self):\n",
    "        return f\"Book Title: {self.title}\\nAuthor: {self.author}\"\n",
    "    def __len__(self):\n",
    "        return self.pages\n",
    "    def __add__(self,other):\n",
    "        return f\"{self.title} and {other.title}\"\n",
    "    \n",
    "    def __del__(self):\n",
    "        print(f\"The Book: {self.title} is deleted\")\n",
    "\n",
    "book1 = book(\"SMIT\",200,\"Yasir Nawaz\")\n",
    "book2 = book(\"SMIT-Memon\",400,\"Yasir Nawaz\")\n",
    "\n",
    "print(book1+book2)\n",
    "del book1"
   ]
  },
  {
   "cell_type": "code",
   "execution_count": 12,
   "id": "b3422d91-b827-4beb-8d6b-e402230208c5",
   "metadata": {},
   "outputs": [
    {
     "name": "stdout",
     "output_type": "stream",
     "text": [
      "vechice(Corolla,Toyota,200)\n"
     ]
    }
   ],
   "source": [
    "class Vehicle:\n",
    "    def __init__(self,brand,model,speed=0):\n",
    "        self.brand = brand\n",
    "        self.model = model\n",
    "        self.speed = speed\n",
    "\n",
    "    def __repr__(self):\n",
    "        return f\"vechice({self.brand},{self.model},{self.speed})\"\n",
    "\n",
    "v1 = Vehicle(\"Corolla\",\"Toyota\",\"200\")   \n",
    "print(repr(v1))"
   ]
  }
 ],
 "metadata": {
  "kernelspec": {
   "display_name": "Python 3 (ipykernel)",
   "language": "python",
   "name": "python3"
  },
  "language_info": {
   "codemirror_mode": {
    "name": "ipython",
    "version": 3
   },
   "file_extension": ".py",
   "mimetype": "text/x-python",
   "name": "python",
   "nbconvert_exporter": "python",
   "pygments_lexer": "ipython3",
   "version": "3.12.7"
  }
 },
 "nbformat": 4,
 "nbformat_minor": 5
}
