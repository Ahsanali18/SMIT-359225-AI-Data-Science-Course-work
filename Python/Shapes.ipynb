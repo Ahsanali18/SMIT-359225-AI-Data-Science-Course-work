{
 "cells": [
  {
   "cell_type": "code",
   "execution_count": 5,
   "id": "88a0d4cb-21e5-4e3f-a97d-5815638d6f41",
   "metadata": {},
   "outputs": [
    {
     "name": "stdout",
     "output_type": "stream",
     "text": [
      "     * \n",
      "    * * \n",
      "   * * * \n",
      "  * * * * \n",
      " * * * * * \n",
      "* * * * * * \n",
      " * * * * * \n",
      "  * * * * \n",
      "   * * * \n",
      "    * * \n",
      "     * \n"
     ]
    }
   ],
   "source": [
    "# Task: Make the Diamond like shape\n",
    "\"\"\"\n",
    "                                     *\n",
    "                                    * *\n",
    "                                   * * *\n",
    "                                  * * * *\n",
    "                                 * * * * *\n",
    "                                 * * * * *\n",
    "                                  * * * *\n",
    "                                   * * *\n",
    "                                    * *\n",
    "                                     *\n",
    "\"\"\"\n",
    "                                \n",
    "\n",
    "for row in range(0,5):\n",
    "    for space in range(6,row+1,-1):\n",
    "        print(\" \",end=\"\")\n",
    "    for star in range(0,row+1):\n",
    "        print(\"* \",end=\"\")\n",
    "    print()\n",
    "\n",
    "\n",
    "for row in range(5,-1,-1):\n",
    "    for star in range(5,row,-1):\n",
    "        print(\" \",end=\"\")\n",
    "    for space in range(0,row+1):\n",
    "        print(\"* \",end=\"\")\n",
    "    print()"
   ]
  }
 ],
 "metadata": {
  "kernelspec": {
   "display_name": "Python 3 (ipykernel)",
   "language": "python",
   "name": "python3"
  },
  "language_info": {
   "codemirror_mode": {
    "name": "ipython",
    "version": 3
   },
   "file_extension": ".py",
   "mimetype": "text/x-python",
   "name": "python",
   "nbconvert_exporter": "python",
   "pygments_lexer": "ipython3",
   "version": "3.12.7"
  }
 },
 "nbformat": 4,
 "nbformat_minor": 5
}
