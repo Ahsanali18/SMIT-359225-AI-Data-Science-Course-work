{
 "cells": [
  {
   "cell_type": "code",
   "execution_count": 5,
   "id": "8af7fe12-a71c-4575-9ca4-92fb967e911f",
   "metadata": {},
   "outputs": [
    {
     "name": "stdout",
     "output_type": "stream",
     "text": [
      "Five Thousand notes: 1\n",
      "Remaining amount: 4870\n",
      "One Thousand notes: 4\n",
      "Remaining amount: 870\n",
      "Five Hundred notes: 1\n",
      "Remaining amount: 370\n",
      "One Hundred notes: 3\n",
      "Remaining amount: 70\n",
      "Fifty Rupees notes: 1\n",
      "Remaining amount: 20\n",
      "twenty Rupees notes: 1\n",
      "Remaining amount: 0\n"
     ]
    }
   ],
   "source": [
    "# Task#01 Write a program to find the total number of differnt notes in a given amount.\n",
    "\"\"\"Example: amount=9870\n",
    "5000 note=1\n",
    "1000 note=4\n",
    "500  note=1\n",
    "100  note=3\n",
    "50   note=1\n",
    "20   note=1 \n",
    "Hint: Use division (/) and modulo (%) operators.\"\"\"\n",
    "\n",
    "amount=9870\n",
    "\n",
    "five_k_note=int(amount/5000)\n",
    "amount=amount%5000\n",
    "print(f\"Five Thousand notes: {five_k_note}\")\n",
    "print(f\"Remaining amount: {amount}\")\n",
    "\n",
    "one_k_note=int(amount/1000)\n",
    "amount=amount%1000\n",
    "print(f\"One Thousand notes: {one_k_note}\")\n",
    "print(f\"Remaining amount: {amount}\")\n",
    "\n",
    "five_hun_note=int(amount/500)\n",
    "amount=amount%500\n",
    "print(f\"Five Hundred notes: {five_hun_note}\")\n",
    "print(f\"Remaining amount: {amount}\")\n",
    "\n",
    "one_hun_note=int(amount/100)\n",
    "amount=amount%100\n",
    "print(f\"One Hundred notes: {one_hun_note}\")\n",
    "print(f\"Remaining amount: {amount}\")\n",
    "\n",
    "fifty_rupee_note=int(amount/50)\n",
    "amount=amount%50\n",
    "print(f\"Fifty Rupees notes: {fifty_rupee_note}\")\n",
    "print(f\"Remaining amount: {amount}\")\n",
    "\n",
    "twenty_rupee_note=int(amount/20)\n",
    "amount=amount%20\n",
    "print(f\"twenty Rupees notes: {twenty_rupee_note}\")\n",
    "print(f\"Remaining amount: {amount}\")"
   ]
  },
  {
   "cell_type": "code",
   "execution_count": 4,
   "id": "68c676ea-6b66-4467-89dd-7c34c5d96ecc",
   "metadata": {},
   "outputs": [
    {
     "name": "stdout",
     "output_type": "stream",
     "text": [
      "Five Thousand notes: 1\n",
      "Remaining amount: 4870\n",
      "One Thousand notes: 4\n",
      "Remaining amount: 870\n",
      "Five Hundred notes: 1\n",
      "Remaining amount: 370\n",
      "One Hundred notes: 3\n",
      "Remaining amount: 70\n",
      "Fifty Rupees notes: 1\n",
      "Remaining amount: 20\n",
      "twenty Rupees notes: 1.\n",
      "Remaining amount: 0\n"
     ]
    }
   ],
   "source": [
    "# 2nd-way\n",
    "\n",
    "amount=9870\n",
    "\n",
    "five_k_note=amount//5000\n",
    "amount=amount%5000\n",
    "print(f\"Five Thousand notes: {five_k_note}\")\n",
    "print(f\"Remaining amount: {amount}\")\n",
    "\n",
    "one_k_note=amount//1000\n",
    "amount=amount%1000\n",
    "print(f\"One Thousand notes: {one_k_note}\")\n",
    "print(f\"Remaining amount: {amount}\")\n",
    "\n",
    "five_hun_note=amount//500\n",
    "amount=amount%500\n",
    "print(f\"Five Hundred notes: {five_hun_note}\")\n",
    "print(f\"Remaining amount: {amount}\")\n",
    "\n",
    "one_hun_note=amount//100\n",
    "amount=amount%100\n",
    "print(f\"One Hundred notes: {one_hun_note}\")\n",
    "print(f\"Remaining amount: {amount}\")\n",
    "\n",
    "fifty_rupee_note=amount//50\n",
    "amount=amount%50\n",
    "print(f\"Fifty Rupees notes: {fifty_rupee_note}\")\n",
    "print(f\"Remaining amount: {amount}\")\n",
    "\n",
    "twenty_rupee_note=amount//20\n",
    "amount=amount%20\n",
    "print(f\"twenty Rupees notes: {twenty_rupee_note}\")\n",
    "print(f\"Remaining amount: {amount}\")"
   ]
  }
 ],
 "metadata": {
  "kernelspec": {
   "display_name": "Python 3 (ipykernel)",
   "language": "python",
   "name": "python3"
  },
  "language_info": {
   "codemirror_mode": {
    "name": "ipython",
    "version": 3
   },
   "file_extension": ".py",
   "mimetype": "text/x-python",
   "name": "python",
   "nbconvert_exporter": "python",
   "pygments_lexer": "ipython3",
   "version": "3.12.7"
  }
 },
 "nbformat": 4,
 "nbformat_minor": 5
}
