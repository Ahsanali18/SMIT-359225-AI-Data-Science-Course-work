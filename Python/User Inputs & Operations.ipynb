{
 "cells": [
  {
   "cell_type": "code",
   "execution_count": 3,
   "id": "7e82743d-ea5e-4d2c-948d-83ba06b0b428",
   "metadata": {},
   "outputs": [
    {
     "name": "stdout",
     "output_type": "stream",
     "text": [
      "Enter any integer value:  12\n"
     ]
    },
    {
     "name": "stdout",
     "output_type": "stream",
     "text": [
      "It's even Bro🙂\n"
     ]
    }
   ],
   "source": [
    "# Task:03 -> Take an integer as an input from the user and print if the integer is even or odd \n",
    "integer_value=int(input(\"Enter any integer value: \"))\n",
    "\n",
    "if integer_value%2==0:\n",
    "    print(\"It's even Bro🙂\")\n",
    "else:\n",
    "    print(\"It's odd Bro😀\")"
   ]
  },
  {
   "cell_type": "code",
   "execution_count": null,
   "id": "91a75642-cc9e-45dd-aa3c-f1b66e614526",
   "metadata": {},
   "outputs": [],
   "source": [
    "# Conditional Statements\n",
    "\n",
    "ahmed_age=18\n",
    "ahsan_age=18\n",
    "\n",
    "if ahmed_age==ahsan_age:\n",
    "    print(\"Ahmed and Ahsan have same age.\")\n",
    "else:\n",
    "    print(\"Ahmed and Ahsan do not have equal age.\")"
   ]
  },
  {
   "cell_type": "code",
   "execution_count": null,
   "id": "0b841296-cbf2-4265-8865-8ce4c14fab3f",
   "metadata": {},
   "outputs": [
    {
     "name": "stdout",
     "output_type": "stream",
     "text": [
      "Enter password:  ahsanali\n",
      "Enter email address:  ahsanali@gmail.com\n"
     ]
    },
    {
     "name": "stdout",
     "output_type": "stream",
     "text": [
      "Your name is: ahsan ali \n",
      "    Your phone number is: 232333334 \n",
      "    Your age is: 19 \n",
      "    Your email address is: ahsanali \n",
      "    Your home address is: Hyderabad Qasimabad Wadhoo wah road\n"
     ]
    }
   ],
   "source": [
    "\"\"\"\n",
    "Task#05: Store user information in variables including password take email and password as an input from the user.\n",
    "If email and password is matched then print complete details in the given format else print password not matched. \"\"\"\n",
    "\n",
    "original_password=\"ahsanali\"\n",
    "original_email=\"ahsanali@gmail.com\"\n",
    "\n",
    "name=\"ahsan ali\"\n",
    "phone_number=232333334\n",
    "age=19\n",
    "email=\"ahsan@gmail.com\"\n",
    "address=\"Hyderabad Qasimabad\"\n",
    "\n",
    "users_password=input(\"Enter password: \")\n",
    "users_email=input(\"Enter email address: \")\n",
    "\n",
    "if users_password==original_password and users_email==original_email:\n",
    "    print(f\"\"\"Your name is: {name} \n",
    "    Your phone number is: {phone_number} \n",
    "    Your age is: {age} \n",
    "    Your email address is: {email} \n",
    "    Your home address is: {address}\"\"\")\n",
    "else:\n",
    "    print(f\"Sorry, Password/Email doesn't match!\")\n"
   ]
  },
  {
   "cell_type": "code",
   "execution_count": null,
   "id": "e04f5d6f-e0f0-47be-ae5f-a1510b71f50b",
   "metadata": {},
   "outputs": [
    {
     "name": "stdout",
     "output_type": "stream",
     "text": [
      "Enter email address:  ahsanali@gmail.com\n",
      "Enter password:  ahsanali\n"
     ]
    },
    {
     "name": "stdout",
     "output_type": "stream",
     "text": [
      "Your name is: ahsan ali \n",
      "        Your phone number is: 232333334 \n",
      "        Your age is: 19 \n",
      "        Your email address is: ahsanali \n",
      "        Your home address is: Hyderabad Qasimabad Wadhoo wah road\n"
     ]
    }
   ],
   "source": [
    "\n",
    "original_password=\"ahsanali\"\n",
    "original_email=\"ahsanali@gmail.com\"\n",
    "\n",
    "name=\"ahsan ali\"\n",
    "phone_number=232333334\n",
    "age=19\n",
    "email=\"ahsanali@gmail.com\"\n",
    "address=\"Hyderabad Qasimabad Wadhoo wah road\"\n",
    "\n",
    "users_email=input(\"Enter email address: \")\n",
    "users_password=input(\"Enter password: \")\n",
    "\n",
    "\n",
    "if users_email==original_email:\n",
    "    if users_password==original_password:\n",
    "        print(f\"\"\"Your name is: {name} \n",
    "        Your phone number is: {phone_number} \n",
    "        Your age is: {age} \n",
    "        Your email address is: {email} \n",
    "        Your home address is: {address}\"\"\")\n",
    "    else:\n",
    "        print(f\"Invalid Password\")\n",
    "else:\n",
    "    print(f\"Invalid Email\")"
   ]
  },
  {
   "cell_type": "code",
   "execution_count": null,
   "id": "d0c7cb72-23a7-40bc-ab86-03db5bc28722",
   "metadata": {},
   "outputs": [],
   "source": [
    "# Take an input value from the user and check if the number is even and it's divisible by 8\n",
    "\n",
    "value=input(\"Enter any value: \")\n",
    "\n",
    "if value%2==0:\n",
    "    if value%8==0:\n",
    "        print(\"It's even and divisible by 8\")\n",
    "    else:\n",
    "        print(\"It's not divisible by 8\")\n",
    "else:\n",
    "    print(\"It's odd\")"
   ]
  }
 ],
 "metadata": {
  "kernelspec": {
   "display_name": "Python 3 (ipykernel)",
   "language": "python",
   "name": "python3"
  },
  "language_info": {
   "codemirror_mode": {
    "name": "ipython",
    "version": 3
   },
   "file_extension": ".py",
   "mimetype": "text/x-python",
   "name": "python",
   "nbconvert_exporter": "python",
   "pygments_lexer": "ipython3",
   "version": "3.12.7"
  }
 },
 "nbformat": 4,
 "nbformat_minor": 5
}
