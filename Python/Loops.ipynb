{
 "cells": [
  {
   "cell_type": "code",
   "execution_count": 9,
   "id": "6f504e71-c32e-4b73-b7b2-9786759bc965",
   "metadata": {},
   "outputs": [
    {
     "name": "stdout",
     "output_type": "stream",
     "text": [
      "0 1 2 3 4 5 6 7 8 9 "
     ]
    }
   ],
   "source": [
    "#Loops\n",
    "\"\"\"Two types of loops (for and while) loop\n",
    "For loop\n",
    "Syntax:\n",
    "    for counter in range(lower,upper): #upper bound=last_range-1\n",
    "        body of for loop\n",
    "\n",
    "while loop\n",
    "        Initialize your counter variable (before the while block)\n",
    "Syntax:\n",
    "        while condition:\n",
    "            body of while\n",
    "            increment or decrement \n",
    "\"\"\"\n",
    "\"\"\"\"\n",
    "characters=[\"a\",\"b\",\"c\",\"d\",\"e\",\"f\"]\n",
    "for character in characters:\n",
    "    print(character)\n",
    "\n",
    "using as a index range() function\n",
    "for count in range(0,3):\n",
    "    print(count)\n",
    "\n",
    "characters=[\"a\",\"b\",\"c\",\"d\",\"e\",\"f\"]\n",
    "for index in range(0,6):\n",
    "    print(characters[index])\n",
    "\"\"\"\n",
    "\n",
    "counter=0\n",
    "while counter<10:\n",
    "    print(counter,end=\" \")\n",
    "    counter+=1\n",
    "    \n",
    "\n",
    "\n",
    "\n"
   ]
  },
  {
   "cell_type": "code",
   "execution_count": 24,
   "id": "5aec0fb9-65e5-4220-914b-491a0d195c77",
   "metadata": {},
   "outputs": [
    {
     "name": "stdout",
     "output_type": "stream",
     "text": [
      "🌟 🌟 🌟 🌟 🌟 \n",
      "🌟 🌟 🌟 🌟 \n",
      "🌟 🌟 🌟 \n",
      "🌟 🌟 \n",
      "🌟 \n"
     ]
    }
   ],
   "source": [
    "for star in range(5,0,-1):\n",
    "    print(\"🌟 \"*star)"
   ]
  },
  {
   "cell_type": "code",
   "execution_count": 25,
   "id": "13b497a9-0902-4781-ac8a-21ecf08cf71d",
   "metadata": {},
   "outputs": [
    {
     "name": "stdout",
     "output_type": "stream",
     "text": [
      "⭐ ⭐ ⭐ ⭐ ⭐ \n",
      "⭐ ⭐ ⭐ ⭐ \n",
      "⭐ ⭐ ⭐ \n",
      "⭐ ⭐ \n",
      "⭐ \n"
     ]
    }
   ],
   "source": [
    "for star in range(5,0,-1):\n",
    "    print(\"⭐ \"*star)"
   ]
  },
  {
   "cell_type": "code",
   "execution_count": 26,
   "id": "aa00fcc1-1b95-4199-86fb-ec731ef7ce37",
   "metadata": {},
   "outputs": [
    {
     "name": "stdout",
     "output_type": "stream",
     "text": [
      "* * * * * \n",
      "* * * * \n",
      "* * * \n",
      "* * \n",
      "* \n"
     ]
    }
   ],
   "source": [
    "for star in range(5,0,-1):\n",
    "    print(\"* \"*star)"
   ]
  },
  {
   "cell_type": "code",
   "execution_count": 21,
   "id": "de9ed8c9-170f-42f0-ab28-798df8aecad1",
   "metadata": {},
   "outputs": [
    {
     "name": "stdout",
     "output_type": "stream",
     "text": [
      "🙄 =  5\n",
      "🙄 =  4\n",
      "🙄 =  3\n",
      "🙄 =  2\n",
      "🙄 =  1\n"
     ]
    }
   ],
   "source": [
    "for count in range(5,0,-1):\n",
    "    print(\"🙄 = \",count)"
   ]
  },
  {
   "cell_type": "code",
   "execution_count": 36,
   "id": "52a54b9e-9b93-456e-bbb6-038b32b110ee",
   "metadata": {},
   "outputs": [
    {
     "name": "stdout",
     "output_type": "stream",
     "text": [
      "a 1 2 3 \n",
      "b a d 4 \n",
      "c apple orange 4 \n",
      "d 100 -20 3 \n"
     ]
    }
   ],
   "source": [
    "\"\"\"\n",
    "Nested loop \n",
    "usages:\n",
    "    1- For traversing the multi-dimensional lists (rows,columns)\n",
    "    2- condition inside a condition (loop inside a loop)\n",
    "\"\"\"\n",
    "\n",
    "my_list=[\n",
    "    [\"a\",1,2,3],\n",
    "    [\"b\",\"a\",\"d\",4],\n",
    "    [\"c\",\"apple\",\"orange\",4],\n",
    "    [\"d\",100,-20,3]\n",
    "]\n",
    "\n",
    "for row in range(0,4):\n",
    "    for column in range(0,4):\n",
    "        print(my_list[row][column],end=\" \")\n",
    "    print()"
   ]
  },
  {
   "cell_type": "code",
   "execution_count": 40,
   "id": "3a84b33d-537f-4d82-bc84-c1f5a7ecb46d",
   "metadata": {},
   "outputs": [
    {
     "name": "stdout",
     "output_type": "stream",
     "text": [
      "* * * * * \n",
      "* * * * * \n",
      "* * * * * \n",
      "* * * * * \n",
      "* * * * * \n"
     ]
    }
   ],
   "source": [
    "# Make box of stars: 5 rows and each row must have 5 stars (overall stars=25)\n",
    "\n",
    "for row in range(1,6):\n",
    "    for column in range(1,6):\n",
    "        print(\"*\",end=\" \")\n",
    "    print()"
   ]
  },
  {
   "cell_type": "code",
   "execution_count": 42,
   "id": "ad2d4fea-097d-4cc8-9425-6a6a0a78536b",
   "metadata": {},
   "outputs": [
    {
     "name": "stdout",
     "output_type": "stream",
     "text": [
      "⭐ ⭐ ⭐ ⭐ ⭐ \n",
      "⭐ ⭐ ⭐ ⭐ ⭐ \n",
      "⭐ ⭐ ⭐ ⭐ ⭐ \n",
      "⭐ ⭐ ⭐ ⭐ ⭐ \n",
      "⭐ ⭐ ⭐ ⭐ ⭐ \n"
     ]
    }
   ],
   "source": [
    "for row in range(1,6):\n",
    "    for column in range(1,6):\n",
    "        print(\"⭐\",end=\" \")\n",
    "    print()"
   ]
  },
  {
   "cell_type": "code",
   "execution_count": 2,
   "id": "49fea0c4-9a20-4d0c-8cdd-d0cf42d3c98d",
   "metadata": {},
   "outputs": [
    {
     "name": "stdout",
     "output_type": "stream",
     "text": [
      "     * \n",
      "    * * \n",
      "   * * * \n",
      "  * * * * \n",
      " * * * * * \n"
     ]
    }
   ],
   "source": [
    "\"\"\"\n",
    "       *\n",
    "      * *\n",
    "    * * * *\n",
    "   * * * * *\n",
    "\"\"\"\n",
    "for row in range(0,5):\n",
    "    for space in range(6,row+1,-1):\n",
    "        print(\"\",end=\" \")\n",
    "    for star in range(0,row+1):\n",
    "        print(\"*\",end=\" \")\n",
    "    print()"
   ]
  }
 ],
 "metadata": {
  "kernelspec": {
   "display_name": "Python 3 (ipykernel)",
   "language": "python",
   "name": "python3"
  },
  "language_info": {
   "codemirror_mode": {
    "name": "ipython",
    "version": 3
   },
   "file_extension": ".py",
   "mimetype": "text/x-python",
   "name": "python",
   "nbconvert_exporter": "python",
   "pygments_lexer": "ipython3",
   "version": "3.12.7"
  }
 },
 "nbformat": 4,
 "nbformat_minor": 5
}
