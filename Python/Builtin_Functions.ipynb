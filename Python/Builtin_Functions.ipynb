{
 "cells": [
  {
   "cell_type": "code",
   "execution_count": 2,
   "id": "62516dda-6f3f-4127-9079-95ab3460a6a4",
   "metadata": {},
   "outputs": [
    {
     "name": "stdout",
     "output_type": "stream",
     "text": [
      "(1, 2, 3, 4, 5, 6, 7, 7, 7, 8, 9)\n",
      "Index method works:  10\n",
      "Count method works:  3\n",
      "=====================================================\n",
      "Set elements: {1, 2, 3, 4, 5, 6, 7, 8, 9, 10}\n",
      "Removing 9 {1, 2, 3, 4, 5, 6, 7, 8, 10}\n",
      "Adding 20 {1, 2, 3, 4, 5, 6, 7, 8, 10, 20}\n",
      "Popping last element: {2, 3, 4, 5, 6, 7, 8, 10, 20}\n",
      "Clear the complete set: set()\n"
     ]
    }
   ],
   "source": [
    "\"\"\"\n",
    "                                                        Functions in python\n",
    "append(value)\n",
    "insert()\n",
    "pop()\n",
    "remove()\n",
    "extend()\n",
    "reverse()\n",
    "sort() \n",
    "count()\n",
    "index() \"\"\"\n",
    "\n",
    "# numbers_list=[1,2,3,4,5,6,7,8,9]\n",
    "# print(numbers_list)\n",
    "# numbers_list.append(10)\n",
    "\n",
    "numbers_tuple=(1,2,3,4,5,6,7,7,7,8,9)\n",
    "print(numbers_tuple)\n",
    "\n",
    "# Tuple method works: index(), count().\n",
    "# Tuple method doesn't works: clear(), insert(), append(), remove(), pop(), sort(), reverse().\n",
    "\n",
    "# Set method works: clear(), add(), remove(), copy(), pop()\n",
    "# Set method doesn't works: append(), insert(), sort(), count(), reverse()\n",
    "\n",
    "# Index works: \n",
    "print(\"Index method works: \", numbers_tuple.index(9))\n",
    "\n",
    "# Count works:\n",
    "print(\"Count method works: \",numbers_tuple.count(7))\n",
    "\n",
    "print(\"=====================================================\")\n",
    "\n",
    "numbers_set={1,2,2,3,4,5,6,7,8,9,10}\n",
    "print(f\"Set elements: {numbers_set}\")\n",
    "\n",
    "# Remove\n",
    "numbers_set.remove(9)\n",
    "print(\"Removing 9\",numbers_set)\n",
    "\n",
    "# Add\n",
    "numbers_set.add(20)\n",
    "print(\"Adding 20\",numbers_set)\n",
    "\n",
    "# Pop \n",
    "numbers_set.pop()\n",
    "print(\"Popping last element:\",numbers_set)\n",
    "\n",
    "# Clear\n",
    "numbers_set.clear()\n",
    "print(\"Clear the complete set:\",numbers_set)"
   ]
  },
  {
   "cell_type": "code",
   "execution_count": 3,
   "id": "fbbc3cba-b2a6-4868-b547-0a74dde7664c",
   "metadata": {},
   "outputs": [
    {
     "name": "stdout",
     "output_type": "stream",
     "text": [
      "Name:  Ahsan ali\n",
      "Age:  19\n",
      "Phone Number:  03XXXXXXXXX\n",
      "Email Address:  ahsanali@gmail.com\n",
      "Address:  Qasimabad Hyderabad\n"
     ]
    }
   ],
   "source": [
    "# Task: Store the user details in dictionary instead of using lists (Make use of key-pair values instead of remembering indexing for each value).\n",
    "user_details={\n",
    "    \"name\":\"Ahsan ali\",\n",
    "    \"age\":19,\n",
    "    \"phone number\":\"03XXXXXXXXX\",\n",
    "    \"email address\":\"ahsanali@gmail.com\",\n",
    "    \"address\":\"Qasimabad Hyderabad\"\n",
    "}\n",
    "\n",
    "print(\"Name: \",user_details[\"name\"])\n",
    "print(\"Age: \",user_details[\"age\"])\n",
    "print(\"Phone Number: \",user_details[\"phone number\"])\n",
    "print(\"Email Address: \",user_details[\"email address\"])\n",
    "print(\"Address: \",user_details[\"address\"])"
   ]
  },
  {
   "cell_type": "code",
   "execution_count": 4,
   "id": "e442ea2e-ef73-414f-9921-c01415547cbb",
   "metadata": {},
   "outputs": [
    {
     "name": "stdin",
     "output_type": "stream",
     "text": [
      "Enter email:  AHSAN\n",
      "enter password:  D\n"
     ]
    },
    {
     "name": "stdout",
     "output_type": "stream",
     "text": [
      "Invalid email or password\n"
     ]
    }
   ],
   "source": [
    "'''\n",
    "Task 4: Store user information in variables including password. Take email and password as an input from the user if email and password is\n",
    "matched than print complete details in the given fromat else print password not matched '''\n",
    "        \n",
    "\n",
    "user_details={\n",
    "    \"password\":\"abc123\",\n",
    "    \"name\":\"Ahsan ali\",\n",
    "    \"age\":19,\n",
    "    \"phone number\":\"03XXXXXXXXX\",\n",
    "    \"email address\":\"ahsanali@gmail.com\",\n",
    "    \"address\":\"Qasimabad Hyderabad\"\n",
    "}\n",
    "\n",
    "email = input(\"Enter email: \")\n",
    "password = input(\"enter password: \")\n",
    "\n",
    "\n",
    "\n",
    "if password == user_details[\"password\"] and email == user_details[\"email address\"]:\n",
    "    print('Passowrd & Email matched!, Here are your details: ')\n",
    "    print(\"Name: \",user_details[\"name\"])\n",
    "    print(\"Phone: \",user_details[\"phone number\"])\n",
    "    print(\"Age: \",user_details[\"age\"])\n",
    "    print(\"Email: \",user_details[\"email address\"])\n",
    "    print(\"Address: \",user_details[\"address\"])\n",
    "else :\n",
    "    print('Invalid email or password')    \n"
   ]
  },
  {
   "cell_type": "code",
   "execution_count": 5,
   "id": "6e7f6085-4c13-4bfd-a88c-4654fa28199d",
   "metadata": {},
   "outputs": [
    {
     "name": "stdout",
     "output_type": "stream",
     "text": [
      "dict_keys(['password', 'name', 'age', 'phone number', 'email address', 'address'])\n",
      "['password', 'name', 'age', 'phone number', 'email address', 'address']\n",
      "dict_values(['abc123', 'Ahsan ali', 19, '03XXXXXXXXX', 'ahsanali@gmail.com', 'Qasimabad Hyderabad'])\n",
      "['abc123', 'Ahsan ali', 19, '03XXXXXXXXX', 'ahsanali@gmail.com', 'Qasimabad Hyderabad']\n",
      "dict_items([('password', 'abc123'), ('name', 'Ahsan ali'), ('age', 19), ('phone number', '03XXXXXXXXX'), ('email address', 'ahsanali@gmail.com'), ('address', 'Qasimabad Hyderabad')])\n",
      "[('password', 'abc123'), ('name', 'Ahsan ali'), ('age', 19), ('phone number', '03XXXXXXXXX'), ('email address', 'ahsanali@gmail.com'), ('address', 'Qasimabad Hyderabad')]\n",
      "7\n"
     ]
    }
   ],
   "source": [
    "# Dictionary methods\n",
    "# Keys():  returns only set of keys\n",
    "# Values(): returns only set of values\n",
    "# Items(): returns both keys and values as key-value pair in the form of tuple (key,value).\n",
    "\n",
    "user_details={\n",
    "    \"password\":\"abc123\",\n",
    "    \"name\":\"Ahsan ali\",\n",
    "    \"age\":19,\n",
    "    \"phone number\":\"03XXXXXXXXX\",\n",
    "    \"email address\":\"ahsanali@gmail.com\",\n",
    "    \"address\":\"Qasimabad Hyderabad\"\n",
    "}\n",
    "\n",
    "\n",
    "print(user_details.keys())\n",
    "# To perform funcitons on keys convert them into lists using type cast\n",
    "print(list(user_details.keys())) #conversion into list\n",
    "\n",
    "print(user_details.values())\n",
    "print(list(user_details.values()))\n",
    "\n",
    "print(user_details.items())\n",
    "print(list(user_details.items()))\n",
    "\n",
    "# length Function: Used to count the total number of elements in non-primitive data types (Lists, tuples, strings).\n",
    "my_list=[2,3,4,5,6,\"A\",\"B\"]\n",
    "print(len(my_list))"
   ]
  }
 ],
 "metadata": {
  "kernelspec": {
   "display_name": "Python 3 (ipykernel)",
   "language": "python",
   "name": "python3"
  },
  "language_info": {
   "codemirror_mode": {
    "name": "ipython",
    "version": 3
   },
   "file_extension": ".py",
   "mimetype": "text/x-python",
   "name": "python",
   "nbconvert_exporter": "python",
   "pygments_lexer": "ipython3",
   "version": "3.12.7"
  }
 },
 "nbformat": 4,
 "nbformat_minor": 5
}
