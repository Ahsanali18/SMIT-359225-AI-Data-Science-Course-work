{
 "cells": [
  {
   "cell_type": "code",
   "execution_count": 2,
   "id": "1499bc3f-98b2-4cb9-98e1-b7f5857884db",
   "metadata": {},
   "outputs": [
    {
     "name": "stdout",
     "output_type": "stream",
     "text": [
      "Ahsan Ali\n",
      "18\n",
      "85.5\n",
      "Software\n",
      "True\n"
     ]
    }
   ],
   "source": [
    "#Task#01: Students details \n",
    "\n",
    "student_name=\"Ahsan Ali\"\n",
    "student_age=18\n",
    "student_marks=85.5\n",
    "student_department=\"Software\"\n",
    "is_developer=True\n",
    "\n",
    "print(student_name)\n",
    "print(student_age)\n",
    "print(student_marks)\n",
    "print(student_department)\n",
    "print(is_developer)"
   ]
  },
  {
   "cell_type": "code",
   "execution_count": 3,
   "id": "63cedcfd-a09e-49f2-9373-9a014a8ca859",
   "metadata": {},
   "outputs": [
    {
     "name": "stdout",
     "output_type": "stream",
     "text": [
      "<class 'str'>\n",
      "<class 'int'>\n",
      "<class 'float'>\n",
      "<class 'str'>\n",
      "<class 'bool'>\n"
     ]
    }
   ],
   "source": [
    "print(type(student_name))\n",
    "print(type(student_age))\n",
    "print(type(student_marks))\n",
    "print(type(student_department))\n",
    "print(type(is_developer))"
   ]
  },
  {
   "cell_type": "code",
   "execution_count": 20,
   "id": "ea1d0e0b-68b1-4a5b-920f-bbbf919fc4f6",
   "metadata": {},
   "outputs": [
    {
     "name": "stdout",
     "output_type": "stream",
     "text": [
      "030384034\n"
     ]
    }
   ],
   "source": [
    "phone_number=\"030384034\"\n",
    "print(phone_number)"
   ]
  },
  {
   "cell_type": "code",
   "execution_count": 22,
   "id": "6f767e8d-9c7f-402e-9eb7-e6f7680f8918",
   "metadata": {},
   "outputs": [
    {
     "name": "stdout",
     "output_type": "stream",
     "text": [
      "Student Name: Ahsan Ali\n",
      "Student Age: 18\n",
      "Student Marks:85.5\n",
      "Student Department: Software\n",
      "Developer: True\n"
     ]
    }
   ],
   "source": [
    "#Task#01: Students details \n",
    "\n",
    "student_name=\"Ahsan Ali\"\n",
    "student_age=18\n",
    "student_marks=85.5\n",
    "student_department=\"Software\"\n",
    "is_developer=True\n",
    "\n",
    "print(f\"Student Name: {student_name}\")\n",
    "print(f\"Student Age: {student_age}\")\n",
    "print(f\"Student Marks:{student_marks}\")\n",
    "print(f\"Student Department: {student_department}\")\n",
    "print(f\"Developer: {is_developer}\")"
   ]
  },
  {
   "cell_type": "code",
   "execution_count": 40,
   "id": "add1f970-5d81-41a3-aaee-3fab3eb439d1",
   "metadata": {},
   "outputs": [
    {
     "name": "stdout",
     "output_type": "stream",
     "text": [
      "Five Hundred Notes:  1\n",
      "Remaining amount:  4870\n",
      "Thousand Notes:  4\n",
      "Remaining amount:  870\n",
      "Five Hundred Notes:  1\n",
      "Remaining amount:  370\n",
      "Hundred Notes:  3\n",
      "Remaining amount:  70\n",
      "Fifty Rupees Notes:  1\n",
      "Remaining amount:  20\n",
      "Twenty Rupees Notes:  1\n",
      "Remaining amount:  0\n"
     ]
    }
   ],
   "source": [
    "# Task: Find out the different notes available in any digit (ATM System)\n",
    "# Example: 9870\n",
    "# 5000 -> 1 note\n",
    "# 1000 -> 4 notes\n",
    "# \n",
    "\n",
    "\n",
    "amount=9870\n",
    "fiveKNote=int(amount/5000)\n",
    "print(\"Five Hundred Notes: \",fiveKNote)\n",
    "amount=amount%5000\n",
    "print(\"Remaining amount: \",amount)\n",
    "thousandKNote=int(amount/1000)\n",
    "print(\"Thousand Notes: \",thousandKNote)\n",
    "amount=amount%1000\n",
    "print(\"Remaining amount: \",amount)\n",
    "fiveHNote=int(amount/500)\n",
    "print(\"Five Hundred Notes: \",fiveHNote)\n",
    "amount=amount%500\n",
    "print(\"Remaining amount: \",amount)\n",
    "hundredNote=int(amount/100)\n",
    "print(\"Hundred Notes: \",hundredNote)\n",
    "amount=amount%100\n",
    "print(\"Remaining amount: \",amount)\n",
    "fiftyNote=int(amount/50)\n",
    "print(\"Fifty Rupees Notes: \",fiftyNote)\n",
    "amount=amount%50\n",
    "print(\"Remaining amount: \",amount)\n",
    "twentyNote=int(amount/20)\n",
    "print(\"Twenty Rupees Notes: \",twentyNote)\n",
    "amount=amount%20\n",
    "print(\"Remaining amount: \",amount)"
   ]
  }
 ],
 "metadata": {
  "kernelspec": {
   "display_name": "Python 3 (ipykernel)",
   "language": "python",
   "name": "python3"
  },
  "language_info": {
   "codemirror_mode": {
    "name": "ipython",
    "version": 3
   },
   "file_extension": ".py",
   "mimetype": "text/x-python",
   "name": "python",
   "nbconvert_exporter": "python",
   "pygments_lexer": "ipython3",
   "version": "3.12.7"
  }
 },
 "nbformat": 4,
 "nbformat_minor": 5
}
