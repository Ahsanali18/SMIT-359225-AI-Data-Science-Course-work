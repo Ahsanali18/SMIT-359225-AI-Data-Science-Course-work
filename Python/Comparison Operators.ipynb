{
 "cells": [
  {
   "cell_type": "code",
   "execution_count": 13,
   "id": "84554cc2-48ed-4431-8ae7-9f31a905bee4",
   "metadata": {},
   "outputs": [
    {
     "name": "stdout",
     "output_type": "stream",
     "text": [
      "True\n"
     ]
    }
   ],
   "source": [
    "# Comparison Operator\n",
    "\n",
    "# Task#01: Ahmed is older than ALI and Rizwan; where Rizwan is younger than Taha and Fareed\n",
    "# Ahmed's age=30\n",
    "\n",
    "ahmed_age=30\n",
    "ali_age=25\n",
    "rizwan_age=20\n",
    "\n",
    "taha_age=15\n",
    "fareed_age=10\n",
    "\n",
    "print((ahmed_age>ali_age and ahmed_age>rizwan_age) and (rizwan_age>taha_age and rizwan_age>fareed_age))"
   ]
  }
 ],
 "metadata": {
  "kernelspec": {
   "display_name": "Python 3 (ipykernel)",
   "language": "python",
   "name": "python3"
  },
  "language_info": {
   "codemirror_mode": {
    "name": "ipython",
    "version": 3
   },
   "file_extension": ".py",
   "mimetype": "text/x-python",
   "name": "python",
   "nbconvert_exporter": "python",
   "pygments_lexer": "ipython3",
   "version": "3.12.7"
  }
 },
 "nbformat": 4,
 "nbformat_minor": 5
}
