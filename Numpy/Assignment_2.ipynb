{
 "cells": [
  {
   "cell_type": "code",
   "execution_count": null,
   "id": "b1c28c9e-8bfa-4ae9-a48c-ce224a7e18d0",
   "metadata": {},
   "outputs": [],
   "source": [
    "\"\"\" \n",
    "Basic Array Tasks\n",
    "    Create a 1D array of numbers from 0 to 9.\n",
    "    Create a 3x3 array of all zeros and another of all ones \n",
    "    Generate a 4x4 identity matrix.\n",
    "    Create an array of 10 linearly spaced values between 0 and 5.\n",
    "Array operations\n",
    "    Perform element-wise addition, subtraction, and multiplication on two arrays.\n",
    "    Calculate the sum, mean, standard deviation, and max value of an array.\n",
    "    Reshape a 1D array of 12 elements into a 3x4 matrix.\n",
    "Indexing and Masking\n",
    "    Extract all elements greater than 5 from an array.\n",
    "    Replace all negative numbers in an array with 0 using boolean indexing.\n",
    "    Slice a 5x5 array to extract a 3x3 center block.\"\"\""
   ]
  },
  {
   "cell_type": "code",
   "execution_count": 3,
   "id": "179287ef-7278-4807-9485-8faeaf800701",
   "metadata": {},
   "outputs": [],
   "source": [
    "import numpy as np"
   ]
  },
  {
   "cell_type": "code",
   "execution_count": 12,
   "id": "6ea96646-632a-4870-89a0-75cb31d78216",
   "metadata": {},
   "outputs": [
    {
     "name": "stdout",
     "output_type": "stream",
     "text": [
      "[0 1 2 3 4 5 6 7 8 9]\n"
     ]
    }
   ],
   "source": [
    "array=np.arange(10)\n",
    "print(array)"
   ]
  },
  {
   "cell_type": "code",
   "execution_count": 19,
   "id": "e5a9661a-56f5-42ad-8e55-b35c4c300733",
   "metadata": {},
   "outputs": [
    {
     "name": "stdout",
     "output_type": "stream",
     "text": [
      "[[0 0 0]\n",
      " [0 0 0]\n",
      " [0 0 0]]\n"
     ]
    }
   ],
   "source": [
    "zeros_array=np.zeros((3,3),int)\n",
    "print(zeros_array)"
   ]
  },
  {
   "cell_type": "code",
   "execution_count": 23,
   "id": "638b39ec-6b8e-4963-81ba-b9c9bb10bcab",
   "metadata": {},
   "outputs": [
    {
     "name": "stdout",
     "output_type": "stream",
     "text": [
      "[[1 1 1]\n",
      " [1 1 1]\n",
      " [1 1 1]]\n"
     ]
    }
   ],
   "source": [
    "ones_array=np.ones((3,3),int)\n",
    "print(ones_array)"
   ]
  },
  {
   "cell_type": "code",
   "execution_count": 27,
   "id": "04dcd387-e9ac-49c0-becc-5cbf583073de",
   "metadata": {},
   "outputs": [
    {
     "name": "stdout",
     "output_type": "stream",
     "text": [
      "[[1 0 0]\n",
      " [0 1 0]\n",
      " [0 0 1]]\n"
     ]
    }
   ],
   "source": [
    "identitiy_matrix=np.identity((3),int)\n",
    "print(identitiy_matrix)"
   ]
  },
  {
   "cell_type": "code",
   "execution_count": null,
   "id": "4c4ce2ae-a788-48e5-9f66-0c8d703e60e4",
   "metadata": {},
   "outputs": [],
   "source": []
  },
  {
   "cell_type": "code",
   "execution_count": null,
   "id": "71168bb6-6f63-4947-9f79-f4f42c0959fd",
   "metadata": {},
   "outputs": [],
   "source": [
    "\"\"\"\n",
    "The assignment is to create a multi dimensional dictionary of students with a dictionary of subjects containing obtain marks.\n",
    "1. Create a numpy array from the bove dictionary.\n",
    "2. Find out wich student gets more marks in what subject.\n",
    "3. Create a ranking sequence based on their marks.\"\"\""
   ]
  },
  {
   "cell_type": "code",
   "execution_count": 5,
   "id": "0ff73be7-0ef9-4f37-9726-e7b125425000",
   "metadata": {},
   "outputs": [
    {
     "name": "stdout",
     "output_type": "stream",
     "text": [
      "**********\n",
      "Rank:0\n",
      "Student Id: st-3\n",
      "Subject with high score: Maths\n",
      "Score: 85\n",
      "**********\n",
      "**********\n",
      "Rank:1\n",
      "Student Id: st-2\n",
      "Subject with high score: Physics\n",
      "Score: 90\n",
      "**********\n",
      "**********\n",
      "Rank:2\n",
      "Student Id: st-1\n",
      "Subject with high score: Maths\n",
      "Score: 80\n",
      "**********\n"
     ]
    }
   ],
   "source": [
    "student_data={\"st-1\":{\"Maths\":80, \"Urdu\":70, \"Sindhi\":40, \"Chemistry\":50, \"Physics\":60},\n",
    "              \"st-2\":{\"Maths\":70, \"Urdu\":60, \"Sindhi\":30, \"Chemistry\":80, \"Physics\":90},\n",
    "              \"st-3\":{\"Maths\":85, \"Urdu\":70, \"Sindhi\":40, \"Chemistry\":80, \"Physics\":60},\n",
    "             }\n",
    "\n",
    "student_ids=np.array([key for key in student_data.keys()])\n",
    "subjects=np.array([list(key.keys()) for key in student_data.values()])[0]\n",
    "marks=np.array([list(value.values()) for value in student_data.values()])\n",
    "\n",
    "total_marks=marks.sum(axis=1)\n",
    "ranking=sorted(enumerate(total_marks),key=lambda x:x[1], reverse=True)\n",
    "\n",
    "for rank, (index,total) in enumerate(ranking):\n",
    "    highest_subject_index=np.argmax(marks[index])\n",
    "    print(\"**********\")\n",
    "    print(f\"Rank:{rank}\")\n",
    "    print(f\"Student Id: {student_ids[index]}\")\n",
    "    print(f\"Subject with high score: {subjects[highest_subject_index]}\")\n",
    "    print(f\"Score: {marks[index][highest_subject_index]}\")\n",
    "    print(\"**********\")"
   ]
  },
  {
   "cell_type": "code",
   "execution_count": 5,
   "id": "e0326311-015b-4e76-aec6-77a096ac85c5",
   "metadata": {
    "scrolled": true
   },
   "outputs": [
    {
     "name": "stdout",
     "output_type": "stream",
     "text": [
      "['st-1' 'st-2' 'st-3' 'st-4' 'st-5']\n",
      "[[80 70 40 90 60]\n",
      " [80 70 40 90 60]\n",
      " [80 70 95 90 60]\n",
      " [80 70 40 90 60]\n",
      " [80 70 40 90 60]]\n",
      "['Maths' 'Urdu' 'Sindhi' 'Chemistry' 'Physics']\n",
      "[340 340 395 340 340]\n",
      "[2 0 1 3 4]\n",
      "Rank:1\n",
      "Student ID: st-3\n",
      "High Score: 395\n",
      "Maths: 80\n",
      "Urdu: 70\n",
      "Sindhi: 95\n",
      "Chemistry: 90\n",
      "Physics: 60\n",
      "Rank:2\n",
      "Student ID: st-1\n",
      "High Score: 340\n",
      "Maths: 80\n",
      "Urdu: 70\n",
      "Sindhi: 40\n",
      "Chemistry: 90\n",
      "Physics: 60\n",
      "Rank:3\n",
      "Student ID: st-2\n",
      "High Score: 340\n",
      "Maths: 80\n",
      "Urdu: 70\n",
      "Sindhi: 40\n",
      "Chemistry: 90\n",
      "Physics: 60\n",
      "Rank:4\n",
      "Student ID: st-4\n",
      "High Score: 340\n",
      "Maths: 80\n",
      "Urdu: 70\n",
      "Sindhi: 40\n",
      "Chemistry: 90\n",
      "Physics: 60\n",
      "Rank:5\n",
      "Student ID: st-5\n",
      "High Score: 340\n",
      "Maths: 80\n",
      "Urdu: 70\n",
      "Sindhi: 40\n",
      "Chemistry: 90\n",
      "Physics: 60\n",
      "['Maths' 'Urdu' 'Sindhi' 'Chemistry' 'Physics']\n",
      "[[80 70 40 90 60]\n",
      " [80 70 40 90 60]\n",
      " [80 70 95 90 60]\n",
      " [80 70 40 90 60]\n",
      " [80 70 40 90 60]]\n"
     ]
    }
   ],
   "source": [
    "student_data={\"st-1\":{\"Maths\":80, \"Urdu\":70, \"Sindhi\":40, \"Chemistry\":90, \"Physics\":60},\n",
    "              \"st-2\":{\"Maths\":80, \"Urdu\":70, \"Sindhi\":40, \"Chemistry\":90, \"Physics\":60},\n",
    "              \"st-3\":{\"Maths\":80, \"Urdu\":70, \"Sindhi\":95, \"Chemistry\":90, \"Physics\":60},\n",
    "              \"st-4\":{\"Maths\":80, \"Urdu\":70, \"Sindhi\":40, \"Chemistry\":90, \"Physics\":60},\n",
    "              \"st-5\":{\"Maths\":80, \"Urdu\":70, \"Sindhi\":40, \"Chemistry\":90, \"Physics\":60},\n",
    "             }\n",
    "\n",
    "student_ids=np.array([key for key in student_data.keys()])\n",
    "student_array=np.array([list(std.values()) for std in student_data.values()])\n",
    "subjects=np.array([list(key.keys()) for key in student_data.values()])[0]\n",
    "\n",
    "\n",
    "print(student_ids)\n",
    "print(student_array)\n",
    "print(subjects)\n",
    "\n",
    "# total_marks=marks.sum(axis=1)\n",
    "\n",
    "# high_score=np.argmax(student_array,axis=1)\n",
    "# print(high_score)\n",
    "# high_score=np.array([int(student_array[index,value]) for index,value in enumerate(high_score)])\n",
    "# print(high_score)\n",
    "# top_students=np.argsort(-high_score)\n",
    "# print(top_students)\n",
    "\n",
    "\n",
    "# Ranking by total sum of marks\n",
    "\n",
    "total_marks=np.sum(student_array,axis=1)\n",
    "print(total_marks)\n",
    "top_students=np.argsort(-total_marks)\n",
    "print(top_students)\n",
    "\n",
    "for rank,location in enumerate(top_students):\n",
    "    print(f\"Rank:{rank+1}\\nStudent ID: {student_ids[location]}\\nHigh Score: {total_marks[location]}\")\n",
    "    for subject, marks in zip(subjects,student_array[location]):  #zip function merges two lists and provide one by one values stored in it.\n",
    "        print(f\"{subject}: {marks}\")\n",
    "\n",
    "print(subjects)\n",
    "print(student_array)\n",
    "# for rank in top_students:\n",
    "\n",
    "#     h_score=high_score[rank]\n",
    "#     print(\"*\"*10)\n",
    "#     print(f\"Rank:{np.where(top_students==rank)[0][0]+1}\\nStudent ID: {student_ids[rank]}\\nSubject with High score: {subjects[h_score]} Score:{student_array[rank,h_score]}\")\n"
   ]
  }
 ],
 "metadata": {
  "kernelspec": {
   "display_name": "Python 3 (ipykernel)",
   "language": "python",
   "name": "python3"
  },
  "language_info": {
   "codemirror_mode": {
    "name": "ipython",
    "version": 3
   },
   "file_extension": ".py",
   "mimetype": "text/x-python",
   "name": "python",
   "nbconvert_exporter": "python",
   "pygments_lexer": "ipython3",
   "version": "3.12.7"
  }
 },
 "nbformat": 4,
 "nbformat_minor": 5
}
