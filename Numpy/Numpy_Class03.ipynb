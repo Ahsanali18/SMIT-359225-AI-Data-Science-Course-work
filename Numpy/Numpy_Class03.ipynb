{
 "cells": [
  {
   "cell_type": "code",
   "execution_count": 1,
   "id": "0c03bd3f-50d8-4d0e-b4e7-5086b7baad88",
   "metadata": {},
   "outputs": [],
   "source": [
    "import numpy as np\n",
    "from numpy import random"
   ]
  },
  {
   "cell_type": "markdown",
   "id": "73bc5723-dc99-4108-8e6a-a083f9713937",
   "metadata": {},
   "source": [
    "### linspace\n",
    "#### Used to give values between two integers in a fixed range including decimals."
   ]
  },
  {
   "cell_type": "code",
   "execution_count": 2,
   "id": "7b6328a3-6915-4dcf-95b7-a1bb01afe863",
   "metadata": {},
   "outputs": [
    {
     "name": "stdout",
     "output_type": "stream",
     "text": [
      "[1.         1.11111111 1.22222222 1.33333333 1.44444444 1.55555556\n",
      " 1.66666667 1.77777778 1.88888889 2.        ]\n"
     ]
    }
   ],
   "source": [
    "print(np.linspace(1,2,10))"
   ]
  },
  {
   "cell_type": "markdown",
   "id": "b098927e-8f18-4efa-92fa-b0a4001e21f0",
   "metadata": {},
   "source": [
    "### Unique Elements"
   ]
  },
  {
   "cell_type": "code",
   "execution_count": 4,
   "id": "039be9e3-e77c-43af-8405-b76c4863f476",
   "metadata": {},
   "outputs": [
    {
     "name": "stdout",
     "output_type": "stream",
     "text": [
      "[2 3 4 5 6 8 8 8 9]\n",
      "[2 3 4 5 6 8 9]\n"
     ]
    }
   ],
   "source": [
    "numbers_list=[2,3,4,5,6,8,8,8,9]\n",
    "numbers_array=np.array(numbers_list)\n",
    "print(numbers_array)\n",
    "print(np.unique(numbers_array))"
   ]
  },
  {
   "cell_type": "markdown",
   "id": "16755899-3383-49af-827f-c27f896ed1ef",
   "metadata": {},
   "source": [
    "### Reshaping arrays"
   ]
  },
  {
   "cell_type": "code",
   "execution_count": 5,
   "id": "7a23b6c9-07cf-423e-8d3f-49391db02ce7",
   "metadata": {},
   "outputs": [
    {
     "name": "stdout",
     "output_type": "stream",
     "text": [
      "[[1 6 0 4 2 7 7 2 5 7]\n",
      " [2 7 3 3 5 2 9 5 7 4]\n",
      " [5 3 4 2 3 9 2 3 2 1]\n",
      " [5 3 4 0 4 8 7 4 4 6]\n",
      " [9 8 3 8 9 8 9 2 7 2]\n",
      " [8 5 5 8 9 7 5 9 4 8]\n",
      " [1 6 0 1 0 6 9 9 9 2]\n",
      " [4 7 4 2 9 2 1 9 0 3]\n",
      " [9 0 1 3 5 5 4 1 8 1]\n",
      " [5 6 1 6 7 2 1 4 6 5]]\n",
      "=====================================\n",
      "[[[1 6 0 4 2 7 7 2 5 7 2 7 3 3 5 2 9 5 7 4 5 3 4 2 3]\n",
      "  [9 2 3 2 1 5 3 4 0 4 8 7 4 4 6 9 8 3 8 9 8 9 2 7 2]]\n",
      "\n",
      " [[8 5 5 8 9 7 5 9 4 8 1 6 0 1 0 6 9 9 9 2 4 7 4 2 9]\n",
      "  [2 1 9 0 3 9 0 1 3 5 5 4 1 8 1 5 6 1 6 7 2 1 4 6 5]]]\n"
     ]
    }
   ],
   "source": [
    "matrix=np.random.randint(0,10,size=(10,10))\n",
    "print(matrix)\n",
    "print(\"=====================================\")\n",
    "print(matrix.reshape(2,2,25)) #reshape() temporary provides view of our array not permanenly changes it"
   ]
  },
  {
   "cell_type": "code",
   "execution_count": 6,
   "id": "c892f1ef-1e0c-4579-b05d-dc4b403e0187",
   "metadata": {},
   "outputs": [
    {
     "data": {
      "text/plain": [
       "array([[1, 6, 0, 4, 2, 7, 7, 2, 5, 7, 2, 7, 3, 3, 5, 2, 9, 5, 7, 4, 5, 3,\n",
       "        4, 2, 3],\n",
       "       [9, 2, 3, 2, 1, 5, 3, 4, 0, 4, 8, 7, 4, 4, 6, 9, 8, 3, 8, 9, 8, 9,\n",
       "        2, 7, 2],\n",
       "       [8, 5, 5, 8, 9, 7, 5, 9, 4, 8, 1, 6, 0, 1, 0, 6, 9, 9, 9, 2, 4, 7,\n",
       "        4, 2, 9],\n",
       "       [2, 1, 9, 0, 3, 9, 0, 1, 3, 5, 5, 4, 1, 8, 1, 5, 6, 1, 6, 7, 2, 1,\n",
       "        4, 6, 5]])"
      ]
     },
     "execution_count": 6,
     "metadata": {},
     "output_type": "execute_result"
    }
   ],
   "source": [
    "matrix.resize(4,25) #Changes the actual array\n",
    "matrix"
   ]
  },
  {
   "cell_type": "markdown",
   "id": "e02df335-7ae7-4cfb-9ce7-77730613d758",
   "metadata": {},
   "source": [
    "### Stacking and splitting"
   ]
  },
  {
   "cell_type": "code",
   "execution_count": 8,
   "id": "f2645d86-d827-41bd-8671-54a8285e80dd",
   "metadata": {},
   "outputs": [
    {
     "name": "stdout",
     "output_type": "stream",
     "text": [
      "array-1:  [[1 5 3 1 5]\n",
      " [6 1 1 7 3]\n",
      " [0 5 4 9 9]\n",
      " [7 5 5 4 0]]\n",
      "array-2:  [[3 4 6 1 2]\n",
      " [9 3 9 8 4]\n",
      " [2 2 8 4 5]\n",
      " [0 7 6 6 1]]\n",
      "=====\n",
      "[array([[1, 5, 3],\n",
      "       [6, 1, 1],\n",
      "       [0, 5, 4],\n",
      "       [7, 5, 5]]), array([], shape=(4, 0), dtype=int32), array([[1, 5],\n",
      "       [7, 3],\n",
      "       [9, 9],\n",
      "       [4, 0]])]\n"
     ]
    }
   ],
   "source": [
    "array_1=np.random.randint(0,10,size=(4,5))\n",
    "print(\"array-1: \",array_1)\n",
    "\n",
    "array_2=np.random.randint(0,10,size=(4,5))\n",
    "print(\"array-2: \",array_2)\n",
    "\n",
    "np.vstack((array_1,array_2))   # vertically stacks (No.of columns matters here i.e should be same)\n",
    "np.hstack((array_1,array_2))   # horizontally stacks (No.of rows matters)\n",
    "\n",
    "# np.delete(array_name, index of row/column,axis) # axis=0 (for row) and axis=1 (for column)\n",
    "\n",
    "#np.column_stack(array_1,array_2) does stacking column wise but performs column wise not vertical axis wise (same as hstack)\n",
    "#np.row_stack(array_1,array_2) does stacking row wise but performs row wise not horizontal axis wise  (same as vstack)\n",
    "print(\"=====\")\n",
    "print(np.hsplit(array_1,(3,3)))"
   ]
  },
  {
   "cell_type": "markdown",
   "id": "391a237b-5c0f-49ed-9b41-1e22d6bec269",
   "metadata": {},
   "source": [
    "### Mathametical Operations"
   ]
  },
  {
   "cell_type": "code",
   "execution_count": 9,
   "id": "e3244b89-46a0-4341-8248-a5e80b5399cb",
   "metadata": {},
   "outputs": [
    {
     "name": "stdout",
     "output_type": "stream",
     "text": [
      "[ 3  6  8 10]\n",
      "4\n",
      "10\n",
      "[[31 24 95]\n",
      " [16 55 39]\n",
      " [86 23 97]]\n",
      "[[ 31  24  95]\n",
      " [ 47  79 134]\n",
      " [133 102 231]]\n"
     ]
    },
    {
     "data": {
      "text/plain": [
       "array([1.        , 1.25992105, 1.44224957, 1.58740105])"
      ]
     },
     "execution_count": 9,
     "metadata": {},
     "output_type": "execute_result"
    }
   ],
   "source": [
    "arr_1=np.array([1,2,3,4])\n",
    "arr_2=np.array([2,4,5,6])\n",
    "\n",
    "print(arr_1+arr_2)\n",
    "# print(arr_1-arr_2)\n",
    "# print(arr_1*arr_2)\n",
    "# print(arr_1/arr_2)\n",
    "# print(arr_1%arr_2)\n",
    "\n",
    "#To choose the random number from the array\n",
    "print(random.choice(arr_1))  \n",
    "\n",
    "#To sum all the elements of array\n",
    "print(arr_1.sum())  # returns sum of all the elements present in the array\n",
    "\n",
    "arr_3=random.randint(100,size=(3,3))\n",
    "print(arr_3)\n",
    "\n",
    "print(arr_3.cumsum(axis=0))  # does sum row or column wise (add's the elements one by one from row/colum) axis=1 (for columns)\n",
    "\n",
    "arr_3.min()\n",
    "arr_3.max()\n",
    "\n",
    "np.argmax(arr_3)  # returns index of largest number present in the array\n",
    "\n",
    "np.add(arr_1,arr_2)  # adds elements of both arr_1 and arr_3\n",
    "np.add(arr_1,2)  # adds value:2 to the all elements of arr_1\n",
    "np.cbrt(arr_1) # for cube root"
   ]
  },
  {
   "cell_type": "code",
   "execution_count": 10,
   "id": "ba1bcb44-12c7-4531-a22c-a7b1c9a40676",
   "metadata": {},
   "outputs": [
    {
     "data": {
      "text/plain": [
       "array([[5]])"
      ]
     },
     "execution_count": 10,
     "metadata": {},
     "output_type": "execute_result"
    }
   ],
   "source": [
    "array=np.random.randint(0,9, size=(1,1))\n",
    "array"
   ]
  }
 ],
 "metadata": {
  "kernelspec": {
   "display_name": "Python 3 (ipykernel)",
   "language": "python",
   "name": "python3"
  },
  "language_info": {
   "codemirror_mode": {
    "name": "ipython",
    "version": 3
   },
   "file_extension": ".py",
   "mimetype": "text/x-python",
   "name": "python",
   "nbconvert_exporter": "python",
   "pygments_lexer": "ipython3",
   "version": "3.12.7"
  }
 },
 "nbformat": 4,
 "nbformat_minor": 5
}
