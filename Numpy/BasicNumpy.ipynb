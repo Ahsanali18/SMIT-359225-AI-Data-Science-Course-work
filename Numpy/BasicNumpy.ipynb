{
 "cells": [
  {
   "cell_type": "code",
   "execution_count": 53,
   "id": "504d4b29-3e80-4e34-8d16-14e6cb775ef9",
   "metadata": {},
   "outputs": [],
   "source": [
    "import numpy as np"
   ]
  },
  {
   "cell_type": "code",
   "execution_count": 54,
   "id": "7be20bf4-5888-4514-8baf-3e993c04dac9",
   "metadata": {},
   "outputs": [],
   "source": [
    "array_1 = np.array([1,2,3,4,5])  #passing list to the array function"
   ]
  },
  {
   "cell_type": "code",
   "execution_count": 55,
   "id": "a4b5ffc7-5e94-4221-98a4-134fac0bac6d",
   "metadata": {},
   "outputs": [
    {
     "name": "stdout",
     "output_type": "stream",
     "text": [
      "[1 2 3 4 5]\n",
      "<class 'numpy.ndarray'>\n"
     ]
    }
   ],
   "source": [
    "print(array_1)\n",
    "print(type(array_1))   # ndarray"
   ]
  },
  {
   "cell_type": "code",
   "execution_count": 56,
   "id": "f748b929-2a07-4bd9-b630-f85012637f59",
   "metadata": {},
   "outputs": [],
   "source": [
    "array_2 = np.array((1,2,3,4,5))  #passing tuple to the array function"
   ]
  },
  {
   "cell_type": "code",
   "execution_count": 57,
   "id": "81021b62-d59b-453a-a55f-6a2b6c81f3ba",
   "metadata": {},
   "outputs": [
    {
     "name": "stdout",
     "output_type": "stream",
     "text": [
      "[1 2 3 4 5]\n",
      "<class 'numpy.ndarray'>\n"
     ]
    }
   ],
   "source": [
    "print(array_2)\n",
    "print(type(array_2))"
   ]
  },
  {
   "cell_type": "code",
   "execution_count": 58,
   "id": "953cbe2f-42f8-476f-a3dc-e73e21bfca2b",
   "metadata": {},
   "outputs": [
    {
     "name": "stdout",
     "output_type": "stream",
     "text": [
      "2\n"
     ]
    }
   ],
   "source": [
    "#Creating 0_d array\n",
    "x = np.array(2)  #0-d array np list or tuple specified just value passed to array() function\n",
    "print(x)"
   ]
  },
  {
   "cell_type": "code",
   "execution_count": 59,
   "id": "de8746f3-128a-4f3f-9f6a-10388988a646",
   "metadata": {},
   "outputs": [
    {
     "name": "stdout",
     "output_type": "stream",
     "text": [
      "Number of dimension: 0\n"
     ]
    }
   ],
   "source": [
    "print(f\"Number of dimension: {x.ndim}\") #to check the dimension of array"
   ]
  },
  {
   "cell_type": "code",
   "execution_count": 60,
   "id": "1ffbf60c-9655-4a01-96a4-5d776eecab2c",
   "metadata": {},
   "outputs": [
    {
     "name": "stdout",
     "output_type": "stream",
     "text": [
      "[1 2 3 4 5 6]\n"
     ]
    }
   ],
   "source": [
    "# Creating 1-D array\n",
    "array_1d = np.array([1,2,3,4,5,6])\n",
    "print(array_1d)"
   ]
  },
  {
   "cell_type": "code",
   "execution_count": 61,
   "id": "74e268a9-9ce8-496c-af35-8ea7fccd0a0f",
   "metadata": {},
   "outputs": [
    {
     "name": "stdout",
     "output_type": "stream",
     "text": [
      "Number of dimensions: 1\n"
     ]
    }
   ],
   "source": [
    "print(f\"Number of dimensions: {array_1d.ndim}\")"
   ]
  },
  {
   "cell_type": "code",
   "execution_count": 62,
   "id": "c0a0523d-87fc-4da1-b8b7-146ffeb5bb7b",
   "metadata": {},
   "outputs": [
    {
     "name": "stdout",
     "output_type": "stream",
     "text": [
      "[[1 2 3]\n",
      " [4 5 6]]\n"
     ]
    }
   ],
   "source": [
    "# Creating 2-D array\n",
    "array_2d = np.array([[1,2,3],[4,5,6]])\n",
    "print(array_2d)"
   ]
  },
  {
   "cell_type": "code",
   "execution_count": 63,
   "id": "8ba3e3fd-6308-4718-9e26-03645c36dfbd",
   "metadata": {},
   "outputs": [
    {
     "name": "stdout",
     "output_type": "stream",
     "text": [
      "Number of dimensions: 2\n"
     ]
    }
   ],
   "source": [
    "print(f\"Number of dimensions: {array_2d.ndim}\")"
   ]
  },
  {
   "cell_type": "code",
   "execution_count": 64,
   "id": "253d35d8-0b6e-4610-854f-61afe8884b79",
   "metadata": {},
   "outputs": [
    {
     "name": "stdout",
     "output_type": "stream",
     "text": [
      "[[[1 2 3]\n",
      "  [4 5 6]]\n",
      "\n",
      " [[2 2 2]\n",
      "  [3 3 3]]]\n"
     ]
    }
   ],
   "source": [
    "# Creating 3-D array\n",
    "array_3d = np.array([\n",
    "                    [[1,2,3],[4,5,6]],  #creating first   2-d\n",
    "                    [[2,2,2],[3,3,3]]   #creating another 2-d\n",
    "])\n",
    "print(array_3d)"
   ]
  },
  {
   "cell_type": "code",
   "execution_count": 65,
   "id": "5a6267c7-c6bc-4b9f-913f-685feb63e742",
   "metadata": {},
   "outputs": [
    {
     "name": "stdout",
     "output_type": "stream",
     "text": [
      "Number of dimensions: 3\n"
     ]
    }
   ],
   "source": [
    "print(f\"Number of dimensions: {array_3d.ndim}\")"
   ]
  },
  {
   "cell_type": "code",
   "execution_count": 66,
   "id": "c93edeac-5098-4656-b8eb-08ab18f2885c",
   "metadata": {},
   "outputs": [
    {
     "name": "stdout",
     "output_type": "stream",
     "text": [
      "[[[[[1 2 3 4 5]]]]]\n",
      "Number of dimensions: 5\n"
     ]
    }
   ],
   "source": [
    "# Creating 5-D array\n",
    "array_5d = np.array([1,2,3,4,5],ndmin=5)\n",
    "print(array_5d)\n",
    "print(f\"Number of dimensions: {array_5d.ndim}\")"
   ]
  },
  {
   "cell_type": "code",
   "execution_count": null,
   "id": "d2cf32cd-d3fe-455d-ab4b-6a3c48a03e7f",
   "metadata": {},
   "outputs": [],
   "source": []
  }
 ],
 "metadata": {
  "kernelspec": {
   "display_name": "Python 3 (ipykernel)",
   "language": "python",
   "name": "python3"
  },
  "language_info": {
   "codemirror_mode": {
    "name": "ipython",
    "version": 3
   },
   "file_extension": ".py",
   "mimetype": "text/x-python",
   "name": "python",
   "nbconvert_exporter": "python",
   "pygments_lexer": "ipython3",
   "version": "3.12.7"
  }
 },
 "nbformat": 4,
 "nbformat_minor": 5
}
