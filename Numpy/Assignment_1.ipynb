{
 "cells": [
  {
   "cell_type": "markdown",
   "id": "a4ae95e8-6d70-46f6-97c4-fa4d05fc2e32",
   "metadata": {},
   "source": [
    "### Task: Generate random list of 10/10 from 0-10.\n",
    "#### Make 10/10 matrix multiply it by 3 and separate even and odd numbers and make 2 by m matrices."
   ]
  },
  {
   "cell_type": "code",
   "execution_count": 1,
   "id": "2af55ccb-6cae-49a7-8aff-373e84bcb737",
   "metadata": {},
   "outputs": [
    {
     "name": "stdout",
     "output_type": "stream",
     "text": [
      "[[24 21  0 15  3 18 12 21 24  3]\n",
      " [ 6  3  6  6  3  6 27 27 18 27]\n",
      " [12 18  6 15 18  3 15  6 24  0]\n",
      " [15 15  9 15 27 12 24  9 24 21]\n",
      " [ 6  3  6 21 18  6 12 27 27 18]\n",
      " [ 9  9 27 24 24 12 18 12  9 21]\n",
      " [18  3  6 24  9 15 15 21 27 27]\n",
      " [ 9 15  6  0  3 12 21 18 24 12]\n",
      " [15 18 15  9 18  0 21 21 15  9]\n",
      " [15 27  3 12 15  9 18 12  6  9]]\n"
     ]
    }
   ],
   "source": [
    "import numpy as np\n",
    "\n",
    "# Step#01: Generate a 10x10 matrix of random integers from 0 to 9, then multiply by 3\n",
    "random_numbers=np.random.randint(0,10, size=(10,10))*3\n",
    "print(random_numbers)"
   ]
  },
  {
   "cell_type": "code",
   "execution_count": 2,
   "id": "f64562bb-98ad-4b67-9927-ae3809713fcc",
   "metadata": {},
   "outputs": [
    {
     "name": "stdout",
     "output_type": "stream",
     "text": [
      "[24  0 18 12 24  6  6  6  6 18 12 18  6 18  6 24  0 12 24 24  6  6 18  6\n",
      " 12 18 24 24 12 18 12 18  6 24  6  0 12 18 24 12 18 18  0 12 18 12  6]\n"
     ]
    }
   ],
   "source": [
    "evens= random_numbers[random_numbers%2==0]\n",
    "print(evens)"
   ]
  },
  {
   "cell_type": "code",
   "execution_count": 3,
   "id": "73c30b1d-439b-4501-a8e8-b0d910f9ac05",
   "metadata": {},
   "outputs": [
    {
     "name": "stdout",
     "output_type": "stream",
     "text": [
      "[21 15  3 21  3  3  3 27 27 27 15  3 15 15 15  9 15 27  9 21  3 21 27 27\n",
      "  9  9 27  9 21  3  9 15 15 21 27 27  9 15  3 21 15 15  9 21 21 15  9 15\n",
      " 27  3 15  9  9]\n"
     ]
    }
   ],
   "source": [
    "odds= random_numbers[random_numbers%2!=0]\n",
    "print(odds)"
   ]
  },
  {
   "cell_type": "code",
   "execution_count": 4,
   "id": "a3633012-bf07-45ea-91ce-57c21b33050b",
   "metadata": {},
   "outputs": [],
   "source": [
    "# Ensure each array can be reshaped into 2xm by trimming last element if needed\n",
    "if evens.size%2!=0:\n",
    "    evens=evens[:-1]\n",
    "if odds.size%2!=0:\n",
    "    odds=odds[:-1]"
   ]
  },
  {
   "cell_type": "code",
   "execution_count": 5,
   "id": "b56cad3c-02e1-40c0-b0bf-0dd2b83521f4",
   "metadata": {},
   "outputs": [
    {
     "name": "stdout",
     "output_type": "stream",
     "text": [
      "[[24  0 18 12 24  6  6  6  6 18 12 18  6 18  6 24  0 12 24 24  6  6 18]\n",
      " [ 6 12 18 24 24 12 18 12 18  6 24  6  0 12 18 24 12 18 18  0 12 18 12]]\n"
     ]
    }
   ],
   "source": [
    "# Reshape into 2xm matrices\n",
    "evens_2xm=evens.reshape(2,-1)\n",
    "print(evens_2xm)"
   ]
  },
  {
   "cell_type": "code",
   "execution_count": 6,
   "id": "4832b899-2381-4d45-bff9-c25706958ffe",
   "metadata": {},
   "outputs": [
    {
     "name": "stdout",
     "output_type": "stream",
     "text": [
      "[[21 15  3 21  3  3  3 27 27 27 15  3 15 15 15  9 15 27  9 21  3 21 27 27\n",
      "   9  9]\n",
      " [27  9 21  3  9 15 15 21 27 27  9 15  3 21 15 15  9 21 21 15  9 15 27  3\n",
      "  15  9]]\n"
     ]
    }
   ],
   "source": [
    "# Reshape into 2xm matrices\n",
    "odds_2xm=odds.reshape(2,-1)\n",
    "print(odds_2xm)"
   ]
  }
 ],
 "metadata": {
  "kernelspec": {
   "display_name": "Python 3 (ipykernel)",
   "language": "python",
   "name": "python3"
  },
  "language_info": {
   "codemirror_mode": {
    "name": "ipython",
    "version": 3
   },
   "file_extension": ".py",
   "mimetype": "text/x-python",
   "name": "python",
   "nbconvert_exporter": "python",
   "pygments_lexer": "ipython3",
   "version": "3.12.7"
  }
 },
 "nbformat": 4,
 "nbformat_minor": 5
}
