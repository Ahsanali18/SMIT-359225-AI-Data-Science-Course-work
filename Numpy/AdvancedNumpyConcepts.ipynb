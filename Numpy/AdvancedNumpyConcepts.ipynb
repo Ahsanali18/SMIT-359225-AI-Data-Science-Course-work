{
 "cells": [
  {
   "cell_type": "code",
   "execution_count": 1,
   "id": "21d173d1-585e-4dd0-8ca9-499c528eea59",
   "metadata": {},
   "outputs": [],
   "source": [
    "import numpy as np"
   ]
  },
  {
   "cell_type": "code",
   "execution_count": null,
   "id": "fbf53567-5753-485c-ac63-2523c864d087",
   "metadata": {},
   "outputs": [],
   "source": [
    "# insert(array, index, value, axis=None)\n",
    "# array - original array\n",
    "# index - position number\n",
    "# value - data\n",
    "# axis - None (faltten-array), 0 (row-wise), 1(column-wise)."
   ]
  },
  {
   "cell_type": "code",
   "execution_count": 50,
   "id": "9040de72-e526-4b24-80de-e66ccb8e5498",
   "metadata": {},
   "outputs": [],
   "source": [
    "array = np.array([10,20,30,40,50,60])\n",
    "new_array = np.insert(array,2,100)"
   ]
  },
  {
   "cell_type": "code",
   "execution_count": 6,
   "id": "b615f712-cfc4-4fc6-beba-3e92f6058b92",
   "metadata": {},
   "outputs": [
    {
     "name": "stdout",
     "output_type": "stream",
     "text": [
      "[10 20 30 40 50 60]\n",
      "[ 10  20 100  30  40  50  60]\n"
     ]
    }
   ],
   "source": [
    "print(array)\n",
    "print(new_array)"
   ]
  },
  {
   "cell_type": "code",
   "execution_count": 14,
   "id": "22d5003b-666a-49cc-96b0-77ff7e4dbcbf",
   "metadata": {},
   "outputs": [],
   "source": [
    "arr_2d = np.array([[1,2],[3,4]])\n",
    "new_arr = np.insert(arr_2d,2,[5,6],axis=1)  #axis = 1 (column-wise)"
   ]
  },
  {
   "cell_type": "code",
   "execution_count": 15,
   "id": "0b9fb5be-32da-4d99-80c2-3c3c414e844d",
   "metadata": {},
   "outputs": [
    {
     "name": "stdout",
     "output_type": "stream",
     "text": [
      "[[1 2 5]\n",
      " [3 4 6]]\n"
     ]
    }
   ],
   "source": [
    "print(new_arr)"
   ]
  },
  {
   "cell_type": "code",
   "execution_count": 16,
   "id": "20d5f3b6-ca58-41a3-b7c6-5d89c74a1789",
   "metadata": {},
   "outputs": [],
   "source": [
    "arr_2d = np.array([[1,2],[3,4]])\n",
    "new_arr = np.insert(arr_2d,2,[5,6],axis=0)  #axis = 1 (row-wise)"
   ]
  },
  {
   "cell_type": "code",
   "execution_count": 17,
   "id": "1be67bb9-cb9d-49e8-9170-1ecfb6d3f228",
   "metadata": {},
   "outputs": [
    {
     "name": "stdout",
     "output_type": "stream",
     "text": [
      "[[1 2]\n",
      " [3 4]\n",
      " [5 6]]\n"
     ]
    }
   ],
   "source": [
    "print(new_arr)"
   ]
  },
  {
   "cell_type": "code",
   "execution_count": 18,
   "id": "811f4340-ad61-402e-8d20-1d6e264efdc1",
   "metadata": {},
   "outputs": [],
   "source": [
    "arr_2d = np.array([[1,2],[3,4]])\n",
    "new_arr = np.insert(arr_2d,2,[5,6],axis=None)  #axis = None (flatten array)"
   ]
  },
  {
   "cell_type": "code",
   "execution_count": 19,
   "id": "8c787c04-b8db-4eba-bf80-1728e0bb7743",
   "metadata": {},
   "outputs": [
    {
     "name": "stdout",
     "output_type": "stream",
     "text": [
      "[1 2 5 6 3 4]\n"
     ]
    }
   ],
   "source": [
    "print(new_arr)"
   ]
  },
  {
   "cell_type": "code",
   "execution_count": 20,
   "id": "57a6278c-aabc-4ddc-97c8-58e89df7b988",
   "metadata": {},
   "outputs": [],
   "source": [
    "# append(): inserts elements at the end of an array"
   ]
  },
  {
   "cell_type": "code",
   "execution_count": 24,
   "id": "94261e7d-b458-462c-8e4b-ad8f9149e6c9",
   "metadata": {},
   "outputs": [],
   "source": [
    "arr = np.array([10,20,30])\n",
    "newArray = np.append(arr,[40,50,60])"
   ]
  },
  {
   "cell_type": "code",
   "execution_count": 25,
   "id": "cb65340d-e53d-4bb5-9f03-b2e44f2a0aad",
   "metadata": {},
   "outputs": [
    {
     "name": "stdout",
     "output_type": "stream",
     "text": [
      "[10 20 30 40 50 60]\n"
     ]
    }
   ],
   "source": [
    "print(newArray)"
   ]
  },
  {
   "cell_type": "code",
   "execution_count": 26,
   "id": "ccc8305b-c330-414f-a726-a28dd976cca7",
   "metadata": {},
   "outputs": [],
   "source": [
    "# concatenate((array_1,array_2),axis): to join the arrays together (returns tuple as a result)\n",
    "# axis = 0    - Vertical stack (row-wise)      Note: To join arrays vertically their no.of columns must be same/equal.\n",
    "# axis = 1    - Horizontal stack (column-wise) Note: To join arrays horizontally their no.of rows must be same/equal.\n",
    "# axis = None - Flatten"
   ]
  },
  {
   "cell_type": "code",
   "execution_count": 28,
   "id": "d9b1b918-5ac5-4e48-bce9-4305a25ef8fc",
   "metadata": {},
   "outputs": [],
   "source": [
    "arr1 = np.array([1,2,3])\n",
    "arr2 = np.array([4,5,6])\n",
    "\n",
    "new_arr2 = np.concatenate((arr1,arr2))"
   ]
  },
  {
   "cell_type": "code",
   "execution_count": 29,
   "id": "3591f6a3-4a99-4a64-a679-8c2c0296140f",
   "metadata": {},
   "outputs": [
    {
     "name": "stdout",
     "output_type": "stream",
     "text": [
      "[1 2 3 4 5 6]\n"
     ]
    }
   ],
   "source": [
    "print(new_arr2)"
   ]
  },
  {
   "cell_type": "code",
   "execution_count": 34,
   "id": "bc9be2ef-ff55-4287-8932-0098f96cacee",
   "metadata": {},
   "outputs": [
    {
     "name": "stdout",
     "output_type": "stream",
     "text": [
      "[1 2 3 4 5 6]\n"
     ]
    }
   ],
   "source": [
    "new_arr3 = np.concatenate((arr1,arr2),axis=0)\n",
    "print(new_arr3)"
   ]
  },
  {
   "cell_type": "code",
   "execution_count": 41,
   "id": "3a9fc340-a1b6-41bd-b796-0a4f03ca30b3",
   "metadata": {},
   "outputs": [],
   "source": [
    "arr3 = np.array([[1,2,3],\n",
    "                 [4,5,6]])\n",
    "arr4 = np.array([[7,8,9],\n",
    "                 [0,2,1]])"
   ]
  },
  {
   "cell_type": "code",
   "execution_count": 46,
   "id": "1c4c52bd-401c-467b-840b-a6b590a338c4",
   "metadata": {},
   "outputs": [],
   "source": [
    "new_arr3 = np.concatenate((arr3,arr4),axis=1)  #Join arr4 after to the arr3 and column-wise"
   ]
  },
  {
   "cell_type": "code",
   "execution_count": 47,
   "id": "513f3cca-079f-45aa-8107-36da98c3ae38",
   "metadata": {},
   "outputs": [
    {
     "name": "stdout",
     "output_type": "stream",
     "text": [
      "[[1 2 3 7 8 9]\n",
      " [4 5 6 0 2 1]]\n"
     ]
    }
   ],
   "source": [
    "print(new_arr3)"
   ]
  },
  {
   "cell_type": "code",
   "execution_count": 48,
   "id": "b11f11cf-8c66-4d03-a160-71e7439f66bf",
   "metadata": {},
   "outputs": [],
   "source": [
    "new_arr4 = np.concatenate((arr3,arr4))"
   ]
  },
  {
   "cell_type": "code",
   "execution_count": 49,
   "id": "c75dd544-0d3c-465d-98e4-b32c7dcc3fef",
   "metadata": {},
   "outputs": [
    {
     "name": "stdout",
     "output_type": "stream",
     "text": [
      "[[1 2 3]\n",
      " [4 5 6]\n",
      " [7 8 9]\n",
      " [0 2 1]]\n"
     ]
    }
   ],
   "source": [
    "print(new_arr4)"
   ]
  },
  {
   "cell_type": "code",
   "execution_count": 51,
   "id": "c3766f87-0b33-42be-8097-4a9fc286b4b8",
   "metadata": {},
   "outputs": [],
   "source": [
    "# delete(array, index, axis=None): deletes the particular element from an array "
   ]
  },
  {
   "cell_type": "code",
   "execution_count": 52,
   "id": "6277826e-9c55-49d8-87e8-ea96daa3c74f",
   "metadata": {},
   "outputs": [
    {
     "name": "stdout",
     "output_type": "stream",
     "text": [
      "[10 20 30 40 50 60]\n"
     ]
    }
   ],
   "source": [
    "ar = np.array([10,20,30,40,50,60])\n",
    "print(ar)"
   ]
  },
  {
   "cell_type": "code",
   "execution_count": 54,
   "id": "a4dc30ff-f4b9-42e3-9bef-776f28bfa233",
   "metadata": {},
   "outputs": [],
   "source": [
    "del_arr = np.delete(ar,3)"
   ]
  },
  {
   "cell_type": "code",
   "execution_count": 55,
   "id": "e089e880-84dc-423f-9823-292141fa054e",
   "metadata": {},
   "outputs": [
    {
     "name": "stdout",
     "output_type": "stream",
     "text": [
      "[10 20 30 50 60]\n"
     ]
    }
   ],
   "source": [
    "print(del_arr)"
   ]
  },
  {
   "cell_type": "code",
   "execution_count": 61,
   "id": "384c161e-ae06-4b73-8ad1-9a3095d8ad50",
   "metadata": {},
   "outputs": [],
   "source": [
    "A = np.array([[1,2],\n",
    "              [3,4]])\n",
    "\n",
    "B = np.array([[5,6],\n",
    "              [7,8]])"
   ]
  },
  {
   "cell_type": "code",
   "execution_count": 60,
   "id": "1c50288c-12fe-4cea-97d7-5c49a0d8e1de",
   "metadata": {},
   "outputs": [
    {
     "name": "stdout",
     "output_type": "stream",
     "text": [
      "[[1 2]\n",
      " [3 4]]\n"
     ]
    }
   ],
   "source": [
    "print(A)"
   ]
  },
  {
   "cell_type": "code",
   "execution_count": 62,
   "id": "893d3739-5edc-4c8e-a718-2a3de15d151f",
   "metadata": {},
   "outputs": [
    {
     "name": "stdout",
     "output_type": "stream",
     "text": [
      "[[5 6]\n",
      " [7 8]]\n"
     ]
    }
   ],
   "source": [
    "print(B)"
   ]
  },
  {
   "cell_type": "code",
   "execution_count": 65,
   "id": "3693238c-3669-4f3b-b57d-0f538d19573f",
   "metadata": {},
   "outputs": [],
   "source": [
    "C = np.hstack((A,B))  #Joins elements as side-by-side (horizontally): Requirement: No.of rows must be same"
   ]
  },
  {
   "cell_type": "code",
   "execution_count": 66,
   "id": "2ccb7701-9d1b-4959-ae69-b33eed823f35",
   "metadata": {},
   "outputs": [
    {
     "name": "stdout",
     "output_type": "stream",
     "text": [
      "[[1 2 5 6]\n",
      " [3 4 7 8]]\n"
     ]
    }
   ],
   "source": [
    "print(C)"
   ]
  },
  {
   "cell_type": "code",
   "execution_count": 67,
   "id": "d134f659-4ccf-4ba4-a781-8b3af90c735c",
   "metadata": {},
   "outputs": [],
   "source": [
    "D = np.vstack((A,B))  #Joins as one element is on top of other (vertically) : Requirement: No.of columns must be same"
   ]
  },
  {
   "cell_type": "code",
   "execution_count": 68,
   "id": "81b1b75d-d0da-4368-85d8-667f793aa2ed",
   "metadata": {},
   "outputs": [
    {
     "name": "stdout",
     "output_type": "stream",
     "text": [
      "[[1 2]\n",
      " [3 4]\n",
      " [5 6]\n",
      " [7 8]]\n"
     ]
    }
   ],
   "source": [
    "print(D)"
   ]
  },
  {
   "cell_type": "code",
   "execution_count": 83,
   "id": "70d8b9a0-072d-4ec5-b12f-fd208786a06f",
   "metadata": {},
   "outputs": [],
   "source": [
    "employee_ids = [[101],\n",
    "                [102],\n",
    "                [103],\n",
    "                [104],\n",
    "                [105]]\n",
    "\n",
    "\n",
    "employee_salaries = [[2000],\n",
    "                     [3000],\n",
    "                     [4000],\n",
    "                     [5000],\n",
    "                     [6000]]\n",
    "\n",
    "result = np.hstack((employee_ids, employee_salaries))"
   ]
  },
  {
   "cell_type": "code",
   "execution_count": 84,
   "id": "9e5e25aa-f614-4d48-8eaf-7fd7d5a82393",
   "metadata": {},
   "outputs": [
    {
     "name": "stdout",
     "output_type": "stream",
     "text": [
      "[[ 101 2000]\n",
      " [ 102 3000]\n",
      " [ 103 4000]\n",
      " [ 104 5000]\n",
      " [ 105 6000]]\n"
     ]
    }
   ],
   "source": [
    "print(result)"
   ]
  },
  {
   "cell_type": "code",
   "execution_count": 81,
   "id": "23b9b10c-0d7e-4fc1-a00c-95395acede33",
   "metadata": {},
   "outputs": [],
   "source": [
    "# Adding new-employee to the list of result using a vstack()\n",
    "new_employee_id = [[106]]\n",
    "new_employee_salary = [[7000]]\n",
    "new_employee = np.hstack((new_employee_id, new_employee_salary))\n",
    "\n",
    "result = np.vstack((result,new_employee))"
   ]
  },
  {
   "cell_type": "code",
   "execution_count": 82,
   "id": "2b59dd28-f175-4196-a183-a2ac362a64b0",
   "metadata": {},
   "outputs": [
    {
     "name": "stdout",
     "output_type": "stream",
     "text": [
      "[[ 101 2000]\n",
      " [ 102 3000]\n",
      " [ 103 4000]\n",
      " [ 104 5000]\n",
      " [ 105 6000]\n",
      " [ 106 7000]\n",
      " [ 106 7000]]\n"
     ]
    }
   ],
   "source": [
    "print(result)"
   ]
  }
 ],
 "metadata": {
  "kernelspec": {
   "display_name": "Python 3 (ipykernel)",
   "language": "python",
   "name": "python3"
  },
  "language_info": {
   "codemirror_mode": {
    "name": "ipython",
    "version": 3
   },
   "file_extension": ".py",
   "mimetype": "text/x-python",
   "name": "python",
   "nbconvert_exporter": "python",
   "pygments_lexer": "ipython3",
   "version": "3.12.7"
  }
 },
 "nbformat": 4,
 "nbformat_minor": 5
}
