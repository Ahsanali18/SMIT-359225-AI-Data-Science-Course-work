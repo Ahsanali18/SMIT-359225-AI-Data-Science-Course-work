{
 "cells": [
  {
   "cell_type": "code",
   "execution_count": 1,
   "id": "9dad56f2-778a-4980-bbc8-77e198cbc109",
   "metadata": {},
   "outputs": [],
   "source": [
    "import numpy as np"
   ]
  },
  {
   "cell_type": "code",
   "execution_count": 3,
   "id": "22cb63d3-095c-4f36-b136-9c7bce92f753",
   "metadata": {},
   "outputs": [
    {
     "name": "stdout",
     "output_type": "stream",
     "text": [
      "2\n"
     ]
    }
   ],
   "source": [
    "array_1d = np.array([1,2,3,4,5])\n",
    "print(array_1d[1])"
   ]
  },
  {
   "cell_type": "code",
   "execution_count": 5,
   "id": "d75daf01-ef0a-4a9a-a222-a4b0ea1065c5",
   "metadata": {},
   "outputs": [
    {
     "name": "stdout",
     "output_type": "stream",
     "text": [
      "2\n"
     ]
    }
   ],
   "source": [
    "array_2d = np.array([[1,2,3,4,5],\n",
    "                     [6,7,8,9,0]])\n"
   ]
  },
  {
   "cell_type": "code",
   "execution_count": 6,
   "id": "4ff7064c-ea93-4bda-aa6d-a1f16b06dbd8",
   "metadata": {},
   "outputs": [
    {
     "name": "stdout",
     "output_type": "stream",
     "text": [
      "2\n"
     ]
    }
   ],
   "source": [
    "# 1. arr[row, col] — Tuple indexing (Fast)\n",
    "print(array_2d[0,1])  #accessing the 2nd element from first row: [row,column]"
   ]
  },
  {
   "cell_type": "code",
   "execution_count": 7,
   "id": "066d2a87-5d17-4689-8275-18bfebf14423",
   "metadata": {},
   "outputs": [
    {
     "name": "stdout",
     "output_type": "stream",
     "text": [
      "2\n"
     ]
    }
   ],
   "source": [
    "# 2. arr[row][col] — Chained indexing (Slow)\n",
    "print(array_2d[0][1])"
   ]
  },
  {
   "cell_type": "code",
   "execution_count": 10,
   "id": "097fefe1-18d8-4fed-986e-5fdb6378f947",
   "metadata": {},
   "outputs": [
    {
     "name": "stdout",
     "output_type": "stream",
     "text": [
      "5\n"
     ]
    }
   ],
   "source": [
    "array_3d = np.array([[[1,2,3],[4,5,6]],\n",
    "                     [[0,2,2],[6,8,9]]])\n",
    "print(array_3d[0,1,1])"
   ]
  }
 ],
 "metadata": {
  "kernelspec": {
   "display_name": "Python 3 (ipykernel)",
   "language": "python",
   "name": "python3"
  },
  "language_info": {
   "codemirror_mode": {
    "name": "ipython",
    "version": 3
   },
   "file_extension": ".py",
   "mimetype": "text/x-python",
   "name": "python",
   "nbconvert_exporter": "python",
   "pygments_lexer": "ipython3",
   "version": "3.12.7"
  }
 },
 "nbformat": 4,
 "nbformat_minor": 5
}
