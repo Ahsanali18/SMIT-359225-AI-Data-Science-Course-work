{
 "cells": [
  {
   "cell_type": "code",
   "execution_count": 74,
   "id": "9fee54f4-fdfe-457f-9f56-d5db2b433c63",
   "metadata": {},
   "outputs": [],
   "source": [
    "import numpy as np"
   ]
  },
  {
   "cell_type": "code",
   "execution_count": 75,
   "id": "11f2e72f-3d5c-493b-a2b7-0d271f1e8e89",
   "metadata": {},
   "outputs": [],
   "source": [
    "array = np.array([1,2,3,4,5,6,7,8,9,10])"
   ]
  },
  {
   "cell_type": "code",
   "execution_count": 76,
   "id": "b4385f20-43dc-4e49-862a-a47c719abe62",
   "metadata": {},
   "outputs": [],
   "source": [
    "# Syntax for slicing operation: identifier[start_index, end_index-1, steps]"
   ]
  },
  {
   "cell_type": "code",
   "execution_count": 77,
   "id": "d5bdb2a9-527d-49c1-98e5-6c4d60e7cd7f",
   "metadata": {},
   "outputs": [
    {
     "name": "stdout",
     "output_type": "stream",
     "text": [
      "[3 4]\n"
     ]
    }
   ],
   "source": [
    "print(array[2:4])"
   ]
  },
  {
   "cell_type": "code",
   "execution_count": 78,
   "id": "1872f385-698b-4a79-9a78-01483b0ee11f",
   "metadata": {},
   "outputs": [
    {
     "name": "stdout",
     "output_type": "stream",
     "text": [
      "[1 2 3 4 5 6 7 8]\n"
     ]
    }
   ],
   "source": [
    "print(array[:8]) #starts from zero till to the specified index"
   ]
  },
  {
   "cell_type": "code",
   "execution_count": 79,
   "id": "1552f626-3179-4e17-b2c4-4521929884b5",
   "metadata": {},
   "outputs": [
    {
     "name": "stdout",
     "output_type": "stream",
     "text": [
      "[ 1  2  3  4  5  6  7  8  9 10]\n"
     ]
    }
   ],
   "source": [
    "print(array[::]) #starts from zero till to the end"
   ]
  },
  {
   "cell_type": "code",
   "execution_count": 80,
   "id": "702f06b5-f2e0-4fde-922c-f10af71f340a",
   "metadata": {},
   "outputs": [
    {
     "name": "stdout",
     "output_type": "stream",
     "text": [
      "[1 3 5 7 9]\n"
     ]
    }
   ],
   "source": [
    "print(array[::2]) #prints every second element of an array"
   ]
  },
  {
   "cell_type": "code",
   "execution_count": 81,
   "id": "dcfa7dcb-a937-4379-acae-0afc7272bd93",
   "metadata": {},
   "outputs": [
    {
     "name": "stdout",
     "output_type": "stream",
     "text": [
      "[10  9  8  7  6  5  4  3  2  1]\n"
     ]
    }
   ],
   "source": [
    "print(array[::-1]) #prints complete array in a reverse order"
   ]
  },
  {
   "cell_type": "code",
   "execution_count": 82,
   "id": "87007349-e188-40da-a375-d7e7ea3a3a63",
   "metadata": {},
   "outputs": [
    {
     "name": "stdout",
     "output_type": "stream",
     "text": [
      "10\n"
     ]
    }
   ],
   "source": [
    "print(array[-1])  #prints the last element of an array"
   ]
  },
  {
   "cell_type": "markdown",
   "id": "adaa518d-d8bf-4d59-8d79-dff0e2e3d1a4",
   "metadata": {},
   "source": [
    "### Slicing of 2-D arrays"
   ]
  },
  {
   "cell_type": "code",
   "execution_count": 83,
   "id": "7aa06418-ff37-48b1-b660-4f9ab6444245",
   "metadata": {},
   "outputs": [
    {
     "name": "stdout",
     "output_type": "stream",
     "text": [
      "[7 8 9]\n"
     ]
    }
   ],
   "source": [
    "array_2d = np.array([[1,2,3,4,5],\n",
    "                     [6,7,8,9,10]])\n",
    "\n",
    "print(array_2d[1,1:4])  #[row_num,element_slicing]"
   ]
  },
  {
   "cell_type": "code",
   "execution_count": 84,
   "id": "e8ab52e3-8b40-48d4-945d-be0ec5c2dca0",
   "metadata": {},
   "outputs": [
    {
     "name": "stdout",
     "output_type": "stream",
     "text": [
      "[[ 1  3  5]\n",
      " [ 6  8 10]]\n"
     ]
    }
   ],
   "source": [
    "print(array_2d[0:2,::2])  #prints 2nd element from each array inside the one large 2-D array"
   ]
  },
  {
   "cell_type": "code",
   "execution_count": 85,
   "id": "cbbe9a43-68d7-4223-9dac-97cf4e118489",
   "metadata": {},
   "outputs": [
    {
     "name": "stdout",
     "output_type": "stream",
     "text": [
      "[[2 3 4]\n",
      " [7 8 9]]\n"
     ]
    }
   ],
   "source": [
    "print(array_2d[0:2,1:4])"
   ]
  },
  {
   "cell_type": "code",
   "execution_count": 86,
   "id": "92ba0ba7-3a49-4971-9602-fbc904b3be40",
   "metadata": {},
   "outputs": [
    {
     "name": "stdout",
     "output_type": "stream",
     "text": [
      "[3 5 8]\n"
     ]
    }
   ],
   "source": [
    "array_2d = np.array([[1,2,3,4,5],\n",
    "                     [9,8,5,6,3],\n",
    "                     [6,7,8,9,0]])\n",
    "print(array_2d[0:3,2])"
   ]
  },
  {
   "cell_type": "markdown",
   "id": "fce1c5ac-5cbd-4496-a2bc-99d47bcc70e8",
   "metadata": {},
   "source": [
    "### Fancy indexing: Selecing multiple elements at once (instead of one by one)."
   ]
  },
  {
   "cell_type": "code",
   "execution_count": 87,
   "id": "e7449203-8447-4065-bb67-6d94c63dd70d",
   "metadata": {},
   "outputs": [
    {
     "name": "stdout",
     "output_type": "stream",
     "text": [
      "[ 2 10  4]\n"
     ]
    }
   ],
   "source": [
    "print(array[[1,9,3]])  #prints the elements available at the specified indices"
   ]
  },
  {
   "cell_type": "markdown",
   "id": "c953805b-6020-4cbf-804a-86229bc63402",
   "metadata": {},
   "source": [
    "### Boolean Masking: Pick elements from an array based on certain condition (Machine learning usage)"
   ]
  },
  {
   "cell_type": "code",
   "execution_count": 88,
   "id": "3c7a1b87-7134-4a1a-9b4a-0313654b8f73",
   "metadata": {},
   "outputs": [
    {
     "name": "stdout",
     "output_type": "stream",
     "text": [
      "[ 6  7  8  9 10]\n"
     ]
    }
   ],
   "source": [
    "print(array[array>5]) #prints the elements that are greather than the five "
   ]
  },
  {
   "cell_type": "code",
   "execution_count": 89,
   "id": "925d9393-28de-4c7c-b43a-33fb2bbc024a",
   "metadata": {},
   "outputs": [],
   "source": [
    "evens = array[array%2==0]"
   ]
  },
  {
   "cell_type": "code",
   "execution_count": 90,
   "id": "e926b20a-8cbf-4dfc-a9fd-052140cbb834",
   "metadata": {},
   "outputs": [
    {
     "name": "stdout",
     "output_type": "stream",
     "text": [
      "Even elements are: [ 2  4  6  8 10]\n"
     ]
    }
   ],
   "source": [
    "print(f\"Even elements are: {evens}\")"
   ]
  },
  {
   "cell_type": "code",
   "execution_count": 91,
   "id": "3dea07e6-4b9f-4f87-8a6b-1d817baabc2b",
   "metadata": {},
   "outputs": [],
   "source": [
    "odds = array[array%2!=0]"
   ]
  },
  {
   "cell_type": "code",
   "execution_count": 92,
   "id": "b7e1792e-ccf4-467e-b55e-c9fbd7002857",
   "metadata": {},
   "outputs": [
    {
     "name": "stdout",
     "output_type": "stream",
     "text": [
      "Odd elements are: [1 3 5 7 9]\n"
     ]
    }
   ],
   "source": [
    "print(f\"Odd elements are: {odds}\")"
   ]
  },
  {
   "cell_type": "code",
   "execution_count": 93,
   "id": "b63fc618-fd16-4caf-b9e5-ea9bba090152",
   "metadata": {},
   "outputs": [],
   "source": [
    "negative_ones = array[array%2==0]= -1"
   ]
  },
  {
   "cell_type": "code",
   "execution_count": 94,
   "id": "a580136d-8e7f-4e9c-a110-e7068c98bc16",
   "metadata": {},
   "outputs": [
    {
     "name": "stdout",
     "output_type": "stream",
     "text": [
      "[-1 -1 -1 -1 -1]\n"
     ]
    }
   ],
   "source": [
    "print(array[array==-1])   #print all the -1 elements stored in the array"
   ]
  },
  {
   "cell_type": "code",
   "execution_count": 95,
   "id": "53f4e6c1-b3c3-4c2d-a922-1fd4cc4a5eb4",
   "metadata": {},
   "outputs": [
    {
     "name": "stdout",
     "output_type": "stream",
     "text": [
      "[ 1 -1  3 -1  5 -1  7 -1  9 -1]\n"
     ]
    }
   ],
   "source": [
    "print(array)"
   ]
  },
  {
   "cell_type": "code",
   "execution_count": 96,
   "id": "9ff43365-1a1a-4c3c-8a69-dc6e66db8890",
   "metadata": {},
   "outputs": [],
   "source": [
    "indices = np.where(array==-1)[0]"
   ]
  },
  {
   "cell_type": "code",
   "execution_count": 97,
   "id": "fc05bd5c-accc-4cfb-8fc4-ed0a8a9ad8d8",
   "metadata": {},
   "outputs": [
    {
     "name": "stdout",
     "output_type": "stream",
     "text": [
      "Indices of -1 elements stored in array: [1 3 5 7 9]\n"
     ]
    }
   ],
   "source": [
    "print(f\"Indices of -1 elements stored in array: {indices}\")"
   ]
  },
  {
   "cell_type": "code",
   "execution_count": 98,
   "id": "bd055a4e-f2a2-4e9a-a639-bb6f61d467b6",
   "metadata": {},
   "outputs": [],
   "source": [
    "indices_2 = [index for index, value in enumerate(array) if value == -1]"
   ]
  },
  {
   "cell_type": "code",
   "execution_count": 99,
   "id": "b910f140-bc35-4651-a10a-5e77580aad05",
   "metadata": {},
   "outputs": [
    {
     "name": "stdout",
     "output_type": "stream",
     "text": [
      "Indices of -1 elements stored in array: [1, 3, 5, 7, 9]\n"
     ]
    }
   ],
   "source": [
    "print(f\"Indices of -1 elements stored in array: {indices_2}\")"
   ]
  },
  {
   "cell_type": "code",
   "execution_count": 100,
   "id": "177b4c8a-23d7-41b4-9f49-08d5ba7596f9",
   "metadata": {},
   "outputs": [],
   "source": [
    "# numbers = [1,2,3,4,5]\n",
    "# print(numbers)"
   ]
  },
  {
   "cell_type": "code",
   "execution_count": 101,
   "id": "703605b5-7545-428a-9093-d4bd7900a498",
   "metadata": {},
   "outputs": [],
   "source": [
    "# numbers = numbers+22 #These operations couldn't work with lists directly, rather they only work with arrays"
   ]
  },
  {
   "cell_type": "code",
   "execution_count": 102,
   "id": "6b60f133-5c72-4587-9ecb-beee3f5df5e6",
   "metadata": {},
   "outputs": [
    {
     "name": "stdout",
     "output_type": "stream",
     "text": [
      "[ 3  1  5  1  7  1  9  1 11  1]\n"
     ]
    }
   ],
   "source": [
    "print(array+2)"
   ]
  },
  {
   "cell_type": "code",
   "execution_count": 103,
   "id": "4dcbce7e-b06e-4902-ab4d-fc22e13aa494",
   "metadata": {},
   "outputs": [
    {
     "name": "stdout",
     "output_type": "stream",
     "text": [
      "[-1 -3  1 -3  3 -3  5 -3  7 -3]\n"
     ]
    }
   ],
   "source": [
    "print(array-2)"
   ]
  },
  {
   "cell_type": "code",
   "execution_count": 104,
   "id": "cb7c26de-1b25-4176-85eb-36f23b4cf6e8",
   "metadata": {},
   "outputs": [
    {
     "name": "stdout",
     "output_type": "stream",
     "text": [
      "[ 2 -2  6 -2 10 -2 14 -2 18 -2]\n"
     ]
    }
   ],
   "source": [
    "print(array*2)"
   ]
  },
  {
   "cell_type": "code",
   "execution_count": 105,
   "id": "84550872-d1c5-4177-82c2-3ba813d1e2d4",
   "metadata": {},
   "outputs": [
    {
     "name": "stdout",
     "output_type": "stream",
     "text": [
      "[ 0.5 -0.5  1.5 -0.5  2.5 -0.5  3.5 -0.5  4.5 -0.5]\n"
     ]
    }
   ],
   "source": [
    "print(array/2)"
   ]
  },
  {
   "cell_type": "code",
   "execution_count": 106,
   "id": "ed19bd2b-36b2-40ff-a5d4-4fafec9a913a",
   "metadata": {},
   "outputs": [
    {
     "name": "stdout",
     "output_type": "stream",
     "text": [
      "[ 1  1  9  1 25  1 49  1 81  1]\n"
     ]
    }
   ],
   "source": [
    "print(array**2)"
   ]
  },
  {
   "cell_type": "code",
   "execution_count": 107,
   "id": "a7194775-e6f7-438f-9c9d-1de2fc681461",
   "metadata": {},
   "outputs": [
    {
     "name": "stdout",
     "output_type": "stream",
     "text": [
      "[ 0 -1  1 -1  2 -1  3 -1  4 -1]\n"
     ]
    }
   ],
   "source": [
    "print(array//2)"
   ]
  }
 ],
 "metadata": {
  "kernelspec": {
   "display_name": "Python 3 (ipykernel)",
   "language": "python",
   "name": "python3"
  },
  "language_info": {
   "codemirror_mode": {
    "name": "ipython",
    "version": 3
   },
   "file_extension": ".py",
   "mimetype": "text/x-python",
   "name": "python",
   "nbconvert_exporter": "python",
   "pygments_lexer": "ipython3",
   "version": "3.12.7"
  }
 },
 "nbformat": 4,
 "nbformat_minor": 5
}
