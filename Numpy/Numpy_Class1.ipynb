{
 "cells": [
  {
   "cell_type": "code",
   "execution_count": 4,
   "id": "373ff49c-fdda-4302-9507-eee4e260d00a",
   "metadata": {},
   "outputs": [
    {
     "name": "stdout",
     "output_type": "stream",
     "text": [
      "Hello\n"
     ]
    }
   ],
   "source": [
    "print(\"Hello\")"
   ]
  },
  {
   "cell_type": "markdown",
   "id": "74705b50-730b-469d-9f1f-e54b61f8205a",
   "metadata": {},
   "source": [
    "## Hello, This is top heading\n",
    "# Hi\n",
    "SDNFDNFDF"
   ]
  },
  {
   "cell_type": "markdown",
   "id": "8c2d4e2e-7ab7-465e-8691-a701c6d56bd0",
   "metadata": {},
   "source": [
    "# Hello, This is Heading\n",
    "## This is sub-heading\n",
    "### *It's Italic Now*\n",
    "#### **It's Bold Now**\n",
    "##### ***It's both Bold and Italic***\n",
    "###### > Hello\n",
    "`Hi`, Iam Ahsan Ali\n"
   ]
  },
  {
   "cell_type": "code",
   "execution_count": 6,
   "id": "69dd7bac-b2f6-4c55-a481-5f4fb5eb705c",
   "metadata": {},
   "outputs": [
    {
     "name": "stdout",
     "output_type": "stream",
     "text": [
      "Requirement already satisfied: numpy in c:\\users\\lenovo\\anaconda3\\lib\\site-packages (1.26.4)\n",
      "Note: you may need to restart the kernel to use updated packages.\n"
     ]
    }
   ],
   "source": [
    "pip install numpy"
   ]
  },
  {
   "cell_type": "code",
   "execution_count": 11,
   "id": "0e4d3c16-2b67-4aa3-bfd5-dff4bd9f7f8e",
   "metadata": {},
   "outputs": [
    {
     "name": "stdout",
     "output_type": "stream",
     "text": [
      "[[1, 2, 3, 4], [3, 4, 5, 6]]\n",
      "<class 'list'>\n"
     ]
    }
   ],
   "source": [
    "my_list=[[1,2,3,4],[3,4,5,6]]\n",
    "print(my_list)\n",
    "print(type(my_list))"
   ]
  },
  {
   "cell_type": "markdown",
   "id": "05d7dd83-a495-4a6b-bb69-c2d0006eab60",
   "metadata": {},
   "source": [
    "# Starting with Numpy"
   ]
  },
  {
   "cell_type": "code",
   "execution_count": 26,
   "id": "2ab1b177-0553-44a8-a1cc-9dafcf77bb01",
   "metadata": {},
   "outputs": [
    {
     "name": "stdout",
     "output_type": "stream",
     "text": [
      "[[1 2 3 4]\n",
      " [3 4 5 6]]\n",
      "<class 'numpy.ndarray'>\n",
      "2\n"
     ]
    }
   ],
   "source": [
    "import numpy as np\n",
    "my_array=[[1,2,3,4],[3,4,5,6]]\n",
    "my_array=np.array(my_array)\n",
    "print(my_array)\n",
    "print(type(my_array))\n",
    "print(np.ndim(my_array)) # Tells the number of dimensions of our array"
   ]
  },
  {
   "cell_type": "code",
   "execution_count": 22,
   "id": "0f3c50ea-a56d-4a80-a38c-f7229df61cfe",
   "metadata": {},
   "outputs": [
    {
     "data": {
      "text/plain": [
       "array([[[[1.17655750e-311, 1.17655857e-311, 1.17655857e-311,\n",
       "          1.17655857e-311],\n",
       "         [1.17655857e-311, 1.17655857e-311, 1.17655857e-311,\n",
       "          1.17655857e-311],\n",
       "         [1.17655857e-311, 1.17655857e-311, 1.17655857e-311,\n",
       "          1.17655857e-311]],\n",
       "\n",
       "        [[1.17655857e-311, 1.17655857e-311, 1.17655857e-311,\n",
       "          1.17655857e-311],\n",
       "         [1.17655857e-311, 1.17655857e-311, 1.17655857e-311,\n",
       "          1.17655857e-311],\n",
       "         [1.17655857e-311, 1.17655857e-311, 1.17655857e-311,\n",
       "          1.17655857e-311]]]])"
      ]
     },
     "execution_count": 22,
     "metadata": {},
     "output_type": "execute_result"
    }
   ],
   "source": [
    "import numpy as np\n",
    "my_array=np.ndarray([1,2,3,4])\n",
    "my_array"
   ]
  },
  {
   "cell_type": "code",
   "execution_count": 25,
   "id": "86ece201-e0a3-4e21-9980-abfbb3003b71",
   "metadata": {},
   "outputs": [
    {
     "data": {
      "text/plain": [
       "array(['2', '3', '4', '5', 'a'], dtype='<U11')"
      ]
     },
     "execution_count": 25,
     "metadata": {},
     "output_type": "execute_result"
    }
   ],
   "source": [
    "array=np.array([2,3,4,5,\"a\"])\n",
    "array"
   ]
  },
  {
   "cell_type": "markdown",
   "id": "78dd3354-d241-48d7-914e-79e8ee6f4bdd",
   "metadata": {},
   "source": [
    "# Numpy Functions"
   ]
  },
  {
   "cell_type": "code",
   "execution_count": 46,
   "id": "97a5dc58-74cd-4f55-8563-21cb805a633c",
   "metadata": {},
   "outputs": [
    {
     "name": "stdout",
     "output_type": "stream",
     "text": [
      "[[[ 2  4]\n",
      "  [ 4  6]\n",
      "  [ 8 10]]\n",
      "\n",
      " [[12 14]\n",
      "  [18 20]\n",
      "  [22 24]]]\n",
      "3\n",
      "(2, 3, 2)\n",
      "Rows: 2 Columns: 3\n"
     ]
    }
   ],
   "source": [
    "my_array=np.array([\n",
    "    [[1,2],[2,3],[4,5]],\n",
    "    [[6,7],[9,10],[11,12]]\n",
    "])*2\n",
    "print(my_array)\n",
    "print(np.ndim(my_array))\n",
    "print(np.shape(my_array))\n",
    "print(\"Rows:\",np.shape(my_array)[0],\"Columns:\",np.shape(my_array)[1])\n",
    "# print(np.reshape(my_array))"
   ]
  },
  {
   "cell_type": "code",
   "execution_count": 51,
   "id": "c2760d39-a77a-4f45-9013-43d2e0425337",
   "metadata": {},
   "outputs": [
    {
     "name": "stdout",
     "output_type": "stream",
     "text": [
      "[0 1 2 3 4 5 6 7 8 9]\n"
     ]
    }
   ],
   "source": [
    "array=[[1,2,3],[4,5,6],[7,8,9]]\n",
    "\n",
    "numbers=np.arange(10)\n",
    "print(numbers)"
   ]
  },
  {
   "cell_type": "code",
   "execution_count": 56,
   "id": "6ecb54a3-892e-43b8-8a7e-931ed8b0570e",
   "metadata": {},
   "outputs": [
    {
     "data": {
      "text/plain": [
       "array([[ 0,  1,  2,  3,  4],\n",
       "       [ 5,  6,  7,  8,  9],\n",
       "       [10, 11, 12, 13, 14],\n",
       "       [15, 16, 17, 18, 19],\n",
       "       [20, 21, 22, 23, 24],\n",
       "       [25, 26, 27, 28, 29],\n",
       "       [30, 31, 32, 33, 34],\n",
       "       [35, 36, 37, 38, 39],\n",
       "       [40, 41, 42, 43, 44],\n",
       "       [45, 46, 47, 48, 49]])"
      ]
     },
     "execution_count": 56,
     "metadata": {},
     "output_type": "execute_result"
    }
   ],
   "source": [
    "array=np.arange(50).reshape(10,5)\n",
    "array"
   ]
  },
  {
   "cell_type": "code",
   "execution_count": 73,
   "id": "83a913d4-f4f7-4a45-b82a-3b77873e88c8",
   "metadata": {},
   "outputs": [
    {
     "name": "stdout",
     "output_type": "stream",
     "text": [
      "21\n",
      "[[20 21 22 23 24]\n",
      " [25 26 27 28 29]\n",
      " [30 31 32 33 34]\n",
      " [35 36 37 38 39]\n",
      " [40 41 42 43 44]\n",
      " [45 46 47 48 49]]\n",
      "[[ 0  1  2  3  4]\n",
      " [ 5  6  7  8  9]\n",
      " [10 11 12 13 14]]\n"
     ]
    }
   ],
   "source": [
    "numbers=np.arange(0,200,10).reshape(4,5)\n",
    "numbers\n",
    "print(array[4,1])\n",
    "print(array[4:])\n",
    "print(array[0:3])"
   ]
  },
  {
   "cell_type": "code",
   "execution_count": 74,
   "id": "940f75d3-f163-4309-876c-f7ed8bb1322e",
   "metadata": {},
   "outputs": [
    {
     "name": "stdout",
     "output_type": "stream",
     "text": [
      "[[15 16 17]\n",
      " [20 21 22]\n",
      " [25 26 27]\n",
      " [30 31 32]\n",
      " [35 36 37]\n",
      " [40 41 42]\n",
      " [45 46 47]]\n"
     ]
    }
   ],
   "source": [
    "print(array[3:,:3])  #(elements in complete row, total number of rows)"
   ]
  },
  {
   "cell_type": "code",
   "execution_count": 65,
   "id": "5d4aeb4f-99a8-4294-9157-3c2232ed248f",
   "metadata": {},
   "outputs": [
    {
     "data": {
      "text/plain": [
       "numpy.ndarray"
      ]
     },
     "execution_count": 65,
     "metadata": {},
     "output_type": "execute_result"
    }
   ],
   "source": [
    "type(numbers)"
   ]
  },
  {
   "cell_type": "code",
   "execution_count": 67,
   "id": "b9a7fa85-34a1-401b-bea9-47039d830fca",
   "metadata": {},
   "outputs": [
    {
     "data": {
      "text/plain": [
       "dtype('int32')"
      ]
     },
     "execution_count": 67,
     "metadata": {},
     "output_type": "execute_result"
    }
   ],
   "source": [
    "numbers.dtype   #used to detect/know the type of data stored in a particular column"
   ]
  },
  {
   "cell_type": "code",
   "execution_count": 85,
   "id": "8d103ba4-cbbf-4a04-a64b-41e4ef0e6de3",
   "metadata": {},
   "outputs": [
    {
     "data": {
      "text/plain": [
       "array([[ 0, 10],\n",
       "       [20, 30],\n",
       "       [40, 50],\n",
       "       [60, 70],\n",
       "       [80, 90]])"
      ]
     },
     "execution_count": 85,
     "metadata": {},
     "output_type": "execute_result"
    }
   ],
   "source": [
    "nums=np.arange(0,100,10).reshape(5,2)\n",
    "nums"
   ]
  },
  {
   "cell_type": "code",
   "execution_count": 83,
   "id": "d2457f70-b1db-4ee3-93c7-6b0c87b18043",
   "metadata": {},
   "outputs": [
    {
     "name": "stdout",
     "output_type": "stream",
     "text": [
      "[[60 70]\n",
      " [80 90]]\n"
     ]
    }
   ],
   "source": [
    "print(nums[3:,:3])"
   ]
  },
  {
   "cell_type": "code",
   "execution_count": 91,
   "id": "155150ce-d292-4474-ae62-d459b2024a48",
   "metadata": {},
   "outputs": [
    {
     "data": {
      "text/plain": [
       "array([[0, 0, 0, 0, 0, 0],\n",
       "       [0, 0, 0, 0, 0, 0],\n",
       "       [0, 0, 0, 0, 0, 0]])"
      ]
     },
     "execution_count": 91,
     "metadata": {},
     "output_type": "execute_result"
    }
   ],
   "source": [
    "zeros_array=np.zeros((3,6),int)  # by default float\n",
    "zeros_array"
   ]
  },
  {
   "cell_type": "code",
   "execution_count": 93,
   "id": "bfac6460-f240-48ba-ad30-358a724f2105",
   "metadata": {},
   "outputs": [
    {
     "data": {
      "text/plain": [
       "dtype('int32')"
      ]
     },
     "execution_count": 93,
     "metadata": {},
     "output_type": "execute_result"
    }
   ],
   "source": [
    "zeros_array.dtype"
   ]
  },
  {
   "cell_type": "code",
   "execution_count": 98,
   "id": "fbd3e980-b93d-4a4e-9ff2-0dd4b6fa880d",
   "metadata": {},
   "outputs": [
    {
     "data": {
      "text/plain": [
       "array([[1, 1, 1, 1],\n",
       "       [1, 1, 1, 1],\n",
       "       [1, 1, 1, 1]])"
      ]
     },
     "execution_count": 98,
     "metadata": {},
     "output_type": "execute_result"
    }
   ],
   "source": [
    "ones_array=np.ones((3,4),int)\n",
    "ones_array"
   ]
  },
  {
   "cell_type": "code",
   "execution_count": 103,
   "id": "ff9c252e-1a29-4ffe-8d54-e65aed8927c6",
   "metadata": {},
   "outputs": [
    {
     "name": "stdout",
     "output_type": "stream",
     "text": [
      "[2. 3. 4. 5. 6.]\n"
     ]
    },
    {
     "data": {
      "text/plain": [
       "dtype('float64')"
      ]
     },
     "execution_count": 103,
     "metadata": {},
     "output_type": "execute_result"
    }
   ],
   "source": [
    "array=np.array([2,3,4,5,6],dtype=float)\n",
    "print(array)\n",
    "array.dtype"
   ]
  },
  {
   "cell_type": "markdown",
   "id": "aed66271-01e3-482a-800f-5042d586f1c9",
   "metadata": {},
   "source": []
  }
 ],
 "metadata": {
  "kernelspec": {
   "display_name": "Python 3 (ipykernel)",
   "language": "python",
   "name": "python3"
  },
  "language_info": {
   "codemirror_mode": {
    "name": "ipython",
    "version": 3
   },
   "file_extension": ".py",
   "mimetype": "text/x-python",
   "name": "python",
   "nbconvert_exporter": "python",
   "pygments_lexer": "ipython3",
   "version": "3.12.7"
  }
 },
 "nbformat": 4,
 "nbformat_minor": 5
}
