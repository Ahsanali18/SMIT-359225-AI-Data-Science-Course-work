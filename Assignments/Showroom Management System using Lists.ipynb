{
 "cells": [
  {
   "cell_type": "code",
   "execution_count": 38,
   "id": "5a0330a6-0f47-44c2-bb9b-19cf5fd4f5d1",
   "metadata": {},
   "outputs": [
    {
     "name": "stdout",
     "output_type": "stream",
     "text": [
      "------------ Welcome to Prince Showroom ------------\n",
      "Available Companies\n",
      "1. Honda\n",
      "2. Toyota\n",
      "3. Suzuki\n",
      "====================================================\n"
     ]
    },
    {
     "name": "stdin",
     "output_type": "stream",
     "text": [
      "Enter company name:  Honda\n"
     ]
    },
    {
     "name": "stdout",
     "output_type": "stream",
     "text": [
      "Available cars of Honda company\n",
      "Civic\n",
      "City\n",
      "CR-V\n"
     ]
    },
    {
     "name": "stdin",
     "output_type": "stream",
     "text": [
      "Enter car name to view it's details:  CR-V\n"
     ]
    },
    {
     "name": "stdout",
     "output_type": "stream",
     "text": [
      "Car Name:  CR-V\n",
      "Model Name:  AWD Touring\n",
      "Year:  2023\n",
      "Price:  $3400\n"
     ]
    }
   ],
   "source": [
    "\"\"\"\n",
    "Task#:5\n",
    "Create a console based vehicle showroom application in whyich at least 3 vehicle companies are registered and every company have 3 cars and \n",
    "every car has details (price, name, model, year).\n",
    "Create an applicaton who takes company as an input and shows it's cars as a menu then it ask for the car name as an input and shows the \n",
    "complete details as an ouput.\n",
    "                                                    Note: Make use of multi dimensional list \"\"\"\n",
    "\n",
    "showroom=[\n",
    "    [\"Honda\",[\n",
    "      [\"Civic\",\"Rs Turbo\",2023,\"$29,000\"],\n",
    "      [\"City\",\"Aspire 1.5\",2022,\"$21,000\"],\n",
    "      [\"CR-V\",\"AWD Touring\",2023,\"$3400\"]\n",
    "    ]],\n",
    "    [\"Toyota\",[\n",
    "      [\"Corolla\",\"Altis Grande\",2023,\"$24,000\"],\n",
    "      [\"Yaris\",\"ATIV X\",2022,\"$19,000\"],\n",
    "      [\"Hilux\",\"Revo V\",2023,\"$40,000\"]\n",
    "    ]],\n",
    "    [\"Suzuki\",[\n",
    "      [\"Swift\",\"GLX CTV\",2023,\"$16,000\"],\n",
    "      [\"Alto\",\"VXR\",2022,\"$10,000\"],\n",
    "      [\"Cultus\",\"VXL\",2023,\"14,0000\"]\n",
    "    ]]\n",
    "]\n",
    "# Menu to show company names\n",
    "print(\"------------ Welcome to Prince Showroom ------------\")\n",
    "print(\"Available Companies\")\n",
    "print(\"1.\",showroom[0][0])\n",
    "print(\"2.\",showroom[1][0])\n",
    "print(\"3.\",showroom[2][0])\n",
    "print(\"====================================================\")\n",
    "\n",
    "selected_company=input(\"Enter company name: \")\n",
    "\n",
    "# Honda Company\n",
    "if selected_company==showroom[0][0]:\n",
    "    print(\"Available cars of Honda company\")\n",
    "    print(showroom[0][1][0][0])\n",
    "    print(showroom[0][1][1][0])\n",
    "    print(showroom[0][1][2][0])\n",
    "    selected_car=input(\"Enter car name to view it's details: \")\n",
    "    if selected_car==showroom[0][1][0][0]:\n",
    "        print(\"Car Name: \",showroom[0][1][0][0])\n",
    "        print(\"Model Name: \",showroom[0][1][0][1])\n",
    "        print(\"Year: \",showroom[0][1][0][2])\n",
    "        print(\"Price: \",showroom[0][1][0][3])\n",
    "    elif selected_car==showroom[0][1][1][0]:\n",
    "        print(\"Car Name: \",showroom[0][1][1][0])\n",
    "        print(\"Model Name: \",showroom[0][1][1][1])\n",
    "        print(\"Year: \",showroom[0][1][1][2])\n",
    "        print(\"Price: \",showroom[0][1][1][3])\n",
    "    elif selected_car==showroom[0][1][2][0]:\n",
    "        print(\"Car Name: \",showroom[0][1][2][0])\n",
    "        print(\"Model Name: \",showroom[0][1][2][1])\n",
    "        print(\"Year: \",showroom[0][1][2][2])\n",
    "        print(\"Price: \",showroom[0][1][2][3])\n",
    "    else:\n",
    "        print(\"Invalid Car name!\")\n",
    "# Toyota Company\n",
    "elif selected_company==showroom[1][0]:\n",
    "    print(\"Available cars of Toyota company\")\n",
    "    print(showroom[1][1][0][0])\n",
    "    print(showroom[1][1][1][0])\n",
    "    print(showroom[1][1][2][0])\n",
    "    selected_car=input(\"Enter car name to view it's details: \")\n",
    "    if selected_car==showroom[1][1][0][0]:\n",
    "        print(\"Car Name: \",showroom[1][1][0][0])\n",
    "        print(\"Model Name: \",showroom[1][1][0][1])\n",
    "        print(\"Year: \",showroom[1][1][0][2])\n",
    "        print(\"Price: \",showroom[1][1][0][3])\n",
    "    elif selected_car==showroom[1][1][1][0]:\n",
    "        print(\"Car Name: \",showroom[1][1][1][0])\n",
    "        print(\"Model Name: \",showroom[1][1][1][1])\n",
    "        print(\"Year: \",showroom[1][1][1][2])\n",
    "        print(\"Price: \",showroom[1][1][1][3])\n",
    "    elif selected_car==showroom[1][1][2][0]:\n",
    "        print(\"Car Name: \",showroom[1][1][2][0])\n",
    "        print(\"Model Name: \",showroom[1][1][2][1])\n",
    "        print(\"Year: \",showroom[1][1][2][2])\n",
    "        print(\"Price: \",showroom[1][1][2][3])\n",
    "    else:\n",
    "        print(\"Invalid Car name!\")\n",
    "# Suzuki Company\n",
    "elif selected_company==showroom[2][0]:\n",
    "    print(\"Available cars of Suzuki company\")\n",
    "    print(showroom[2][1][0][0])\n",
    "    print(showroom[2][1][1][0])\n",
    "    print(showroom[2][1][2][0])\n",
    "    selected_car=input(\"Enter car name to view it's details: \")\n",
    "    if selected_car==showroom[2][1][0][0]:\n",
    "        print(\"Car Name: \",showroom[2][1][0][0])\n",
    "        print(\"Model Name: \",showroom[2][1][0][1])\n",
    "        print(\"Year: \",showroom[2][1][0][2])\n",
    "        print(\"Price: \",showroom[2][1][0][3])\n",
    "    elif selected_car==showroom[2][1][1][0]:\n",
    "        print(\"Car Name: \",showroom[2][1][1][0])\n",
    "        print(\"Model Name: \",showroom[2][1][1][1])\n",
    "        print(\"Year: \",showroom[2][1][1][2])\n",
    "        print(\"Price: \",showroom[2][1][1][3])\n",
    "    elif selected_car==showroom[2][1][2][0]:\n",
    "        print(\"Car Name: \",showroom[2][1][2][0])\n",
    "        print(\"Model Name: \",showroom[2][1][2][1])\n",
    "        print(\"Year: \",showroom[2][1][2][2])\n",
    "        print(\"Price: \",showroom[2][1][2][3])\n",
    "    else:\n",
    "        print(\"Invalid Car name!\")\n",
    "else:\n",
    "    print(\"Sorry, This company is not available at our showroom.\")"
   ]
  }
 ],
 "metadata": {
  "kernelspec": {
   "display_name": "Python 3 (ipykernel)",
   "language": "python",
   "name": "python3"
  },
  "language_info": {
   "codemirror_mode": {
    "name": "ipython",
    "version": 3
   },
   "file_extension": ".py",
   "mimetype": "text/x-python",
   "name": "python",
   "nbconvert_exporter": "python",
   "pygments_lexer": "ipython3",
   "version": "3.12.7"
  }
 },
 "nbformat": 4,
 "nbformat_minor": 5
}
