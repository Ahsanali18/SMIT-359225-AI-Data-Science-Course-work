{
 "cells": [
  {
   "cell_type": "markdown",
   "id": "2036b6c4-df8c-4b20-a9d3-ffca1cbf99b7",
   "metadata": {},
   "source": [
    "### Assignment Task: Analyze my ecommerce webstore on given information of customers, products and orders.\n",
    "##### Analysis Questions:\n",
    "* Find how many customers are repeating on my store.\n",
    "* Find which product is top selling product on the basis of repeated orders.\n",
    "* Find which product should be discontinued as it is the least sold product on my store.\n",
    "* Find which customer should get more discount as he/she keep visiting my store more than 5 times.\n",
    "* What is my total income till end.\n",
    "* Write me a full report on monthly sale."
   ]
  },
  {
   "cell_type": "code",
   "execution_count": 2,
   "id": "5c03e552-ef4c-4975-9735-ab923db85819",
   "metadata": {},
   "outputs": [],
   "source": [
    "import numpy as np"
   ]
  },
  {
   "cell_type": "code",
   "execution_count": 3,
   "id": "911a3aec-05ce-4bd4-aeea-67f7b3ea1cd5",
   "metadata": {},
   "outputs": [],
   "source": [
    "# Loading data from all the csv files\n",
    "customer_details=np.loadtxt(\"customer.csv\",delimiter=\",\",dtype=str)\n",
    "order_details= np.loadtxt(\"order.csv\",delimiter=\",\",dtype=str)\n",
    "product_details=np.loadtxt(\"product.csv\",delimiter=\",\",dtype=str)\n",
    "\n",
    "order_headers=order_details[0,:]  #to get the headers/features \n",
    "order_details=np.delete(order_details,0,axis=0) #to remove the features from order.csv\n",
    "\n",
    "customer_headers=customer_details[0,:] #to get the headers/features\n",
    "customer_details=np.delete(customer_details,0,axis=0) #to remove the features from customer.csv\n",
    "\n",
    "product_headers=product_details[0,:] #to get the headers/features\n",
    "product_details=np.delete(product_details,0,axis=0) #to remove the features from product.csv"
   ]
  },
  {
   "cell_type": "code",
   "execution_count": 9,
   "id": "812f916f-4151-4808-9370-b376ef4ff7a0",
   "metadata": {},
   "outputs": [
    {
     "name": "stdout",
     "output_type": "stream",
     "text": [
      "Repeating Customer IDs: ['cid-001', 'cid-002', 'cid-003', 'cid-004', 'cid-005', 'cid-006', 'cid-007', 'cid-008', 'cid-009', 'cid-010', 'cid-011', 'cid-012', 'cid-013', 'cid-014', 'cid-015', 'cid-016', 'cid-017', 'cid-018', 'cid-019', 'cid-020']\n",
      "Total no.of repeating customers are: 20\n"
     ]
    }
   ],
   "source": [
    "# Question#01: Find how many customers are repeating on my store\n",
    "\n",
    "unique_customers,customer_count=np.unique(order_details[:,1],return_counts=True) # unique_customers\n",
    "\n",
    "repeated_customers=list(zip(unique_customers,customer_count))\n",
    "repeating_customers=[cid for cid, count in repeated_customers if count>1]\n",
    "print(\"Repeating Customer IDs:\",repeating_customers)\n",
    "print(\"Total no.of repeating customers are:\",len(repeating_customers))"
   ]
  },
  {
   "cell_type": "code",
   "execution_count": 5,
   "id": "69e746ac-a216-4844-9c5b-b1639ca7aeaf",
   "metadata": {},
   "outputs": [
    {
     "name": "stdout",
     "output_type": "stream",
     "text": [
      "Top selling Product: Product_3\n"
     ]
    }
   ],
   "source": [
    "# Question#02: Find the Top Selling Product on the basis of repeated orders\n",
    "\n",
    "product_ids, product_counts=np.unique(order_details[:,2], return_counts=True)\n",
    "top_selling_product_id=product_ids[np.argmax(product_counts)]\n",
    "top_selling_product_name=product_details[np.where(product_details[:,0]==top_selling_product_id)][0][1]\n",
    "print(\"Top selling Product:\",top_selling_product_name)"
   ]
  },
  {
   "cell_type": "code",
   "execution_count": 10,
   "id": "6986067f-ea1a-41b1-9acd-75be7eda03cc",
   "metadata": {},
   "outputs": [
    {
     "name": "stdout",
     "output_type": "stream",
     "text": [
      "Least selling Product: Product_6\n"
     ]
    }
   ],
   "source": [
    "# Question#03: Find the Least Sold Product\n",
    "\n",
    "least_selling_product_id=product_ids[np.argmin(product_counts)]\n",
    "least_selling_product_name=product_details[np.where(product_details[:,0]==least_selling_product_id)][0][1]\n",
    "print(\"Least selling Product:\",least_selling_product_name)"
   ]
  },
  {
   "cell_type": "code",
   "execution_count": 11,
   "id": "c3b37530-b0d3-40eb-a4a2-e4cba66f4875",
   "metadata": {},
   "outputs": [
    {
     "name": "stdout",
     "output_type": "stream",
     "text": [
      "Customers Eligible for discount:  ['cid-005', 'cid-008', 'cid-009', 'cid-013', 'cid-014', 'cid-015', 'cid-018']\n",
      "Discount eligible customer names: ['Customer_5', 'Customer_8', 'Customer_9', 'Customer_13', 'Customer_14', 'Customer_15', 'Customer_18']\n"
     ]
    }
   ],
   "source": [
    "# Question#04: Find Customers Eligible for Discount (visited more than 5 times)\n",
    "\n",
    "discount_eligible_customers=[customer_id for (customer_id,count) in repeated_customers if count>=10]\n",
    "print(\"Customers Eligible for discount: \",discount_eligible_customers) \n",
    "\n",
    "discounted_customers=[name for cid,name in customer_details[:,:2] if cid in discount_eligible_customers]\n",
    "print(\"Discount eligible customer names:\",discounted_customers)"
   ]
  },
  {
   "cell_type": "code",
   "execution_count": 12,
   "id": "02b7c49b-ddf2-437d-b595-25d64ff5e49d",
   "metadata": {},
   "outputs": [
    {
     "name": "stdout",
     "output_type": "stream",
     "text": [
      "Total income upto the end: 25604.17\n"
     ]
    }
   ],
   "source": [
    "# Question#05: Total income upto the end \n",
    "\n",
    "total_order_price=[(quantity.astype(float)*price.astype(float)) for quantity, price in order_details[:,3:5]] #Also work with [:,-2]\n",
    "total_income=np.sum(total_order_price)\n",
    "print(\"Total income upto the end:\",total_income)"
   ]
  }
 ],
 "metadata": {
  "kernelspec": {
   "display_name": "Python 3 (ipykernel)",
   "language": "python",
   "name": "python3"
  },
  "language_info": {
   "codemirror_mode": {
    "name": "ipython",
    "version": 3
   },
   "file_extension": ".py",
   "mimetype": "text/x-python",
   "name": "python",
   "nbconvert_exporter": "python",
   "pygments_lexer": "ipython3",
   "version": "3.12.7"
  }
 },
 "nbformat": 4,
 "nbformat_minor": 5
}
