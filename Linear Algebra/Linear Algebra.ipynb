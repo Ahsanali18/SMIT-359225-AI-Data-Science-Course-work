{
 "cells": [
  {
   "cell_type": "code",
   "execution_count": 2,
   "id": "c0c0f98c-e84f-4cff-ac24-459002a3de21",
   "metadata": {},
   "outputs": [],
   "source": [
    "import numpy as np"
   ]
  },
  {
   "cell_type": "code",
   "execution_count": 14,
   "id": "4670e879-fdd4-40fd-b9c2-27defedb741d",
   "metadata": {},
   "outputs": [
    {
     "name": "stdout",
     "output_type": "stream",
     "text": [
      "[[1 2]\n",
      " [3 4]]\n",
      "X\n",
      "[[1 2]\n",
      " [3 4]]\n",
      "61\n"
     ]
    }
   ],
   "source": [
    "array_1=np.array([[1,2],[3,4]])\n",
    "array_2=np.array([5,6])\n",
    "print(array_1)\n",
    "print(\"X\")\n",
    "print(array_1)\n",
    "\n",
    "# np.dot(array_1,array_1)\n",
    "print(np.dot(array_2,array_2))"
   ]
  },
  {
   "cell_type": "code",
   "execution_count": 17,
   "id": "2ac015d8-14c3-4ecb-8f89-ef0c747de63c",
   "metadata": {},
   "outputs": [
    {
     "name": "stdout",
     "output_type": "stream",
     "text": [
      "[[1 2]\n",
      " [3 4]]\n",
      "X\n",
      "[[1 2]\n",
      " [3 4]]\n",
      "X\n",
      "[5 6]\n"
     ]
    },
    {
     "data": {
      "text/plain": [
       "array([ 95, 207])"
      ]
     },
     "execution_count": 17,
     "metadata": {},
     "output_type": "execute_result"
    }
   ],
   "source": [
    "# np.linalg.multi_dot()\n",
    "from numpy import linalg as la\n",
    "\n",
    "array_1=np.array([[1,2],[3,4]])\n",
    "array_2=np.array([5,6])\n",
    "print(array_1)\n",
    "print(\"X\")\n",
    "print(array_1)\n",
    "print(\"X\")\n",
    "print(array_2)\n",
    "\n",
    "la.multi_dot([array_1,array_1,array_2])  #used to multiply the multiple matrices "
   ]
  },
  {
   "cell_type": "code",
   "execution_count": null,
   "id": "181834a7-469f-44c6-8073-8ad0472db2f4",
   "metadata": {},
   "outputs": [],
   "source": []
  },
  {
   "cell_type": "code",
   "execution_count": 20,
   "id": "179490c5-10dc-4a2f-b957-83347e62284f",
   "metadata": {},
   "outputs": [
    {
     "data": {
      "text/plain": [
       "array([[ 5, 11],\n",
       "       [11, 25]])"
      ]
     },
     "execution_count": 20,
     "metadata": {},
     "output_type": "execute_result"
    }
   ],
   "source": [
    "np.inner(array_1,array_1)   # performs calculation like: a1*b1+a2*b2 (row-row) multiplication of matrices"
   ]
  },
  {
   "cell_type": "code",
   "execution_count": 22,
   "id": "ce008314-6884-45e2-87d9-932de635eb52",
   "metadata": {},
   "outputs": [
    {
     "data": {
      "text/plain": [
       "array([[ 7, 10],\n",
       "       [15, 22]])"
      ]
     },
     "execution_count": 22,
     "metadata": {},
     "output_type": "execute_result"
    }
   ],
   "source": [
    "la.matrix_power(array_1,2)  #matrix is multiplied with itself if power=2 then A²=A*A"
   ]
  },
  {
   "cell_type": "code",
   "execution_count": 29,
   "id": "946a9786-bab4-4332-a916-8d9beeda4ccd",
   "metadata": {},
   "outputs": [
    {
     "data": {
      "text/plain": [
       "array([[-2. ,  1. ],\n",
       "       [ 1.5, -0.5]])"
      ]
     },
     "execution_count": 29,
     "metadata": {},
     "output_type": "execute_result"
    }
   ],
   "source": [
    "la.inv(array_1)     # A-¹ = AdjA / |A|\n"
   ]
  },
  {
   "cell_type": "code",
   "execution_count": 39,
   "id": "7f41db22-5278-415e-80dc-8195e3212d38",
   "metadata": {},
   "outputs": [
    {
     "name": "stdout",
     "output_type": "stream",
     "text": [
      "[[14 -7]\n",
      " [ 9 12]]\n",
      "============\n",
      "[[ 6]\n",
      " [-9]]\n",
      "============\n",
      "=====Inverse of A matrix=======\n",
      "[[ 0.05194805  0.03030303]\n",
      " [-0.03896104  0.06060606]]\n",
      "======Dot Product of A and B (A.B)======\n",
      "[[147]\n",
      " [-54]]\n",
      "=====A power 4=======\n",
      "[[-24899 -38948]\n",
      " [ 50076 -36027]]\n"
     ]
    }
   ],
   "source": [
    "# Task:\n",
    "A= np.array([[14,-7],[9,12]])\n",
    "B= np.array([[6],[-9]])\n",
    "\n",
    "print(A)\n",
    "print(\"============\")\n",
    "print(B)\n",
    "print(\"============\")\n",
    "\n",
    "inverseA=la.inv(A)\n",
    "A_dot_B=np.dot(A,B)\n",
    "A_power_4=la.matrix_power(A,4)\n",
    "print(\"=====Inverse of A matrix=======\")\n",
    "print(inverseA)\n",
    "print(\"======Dot Product of A and B: (A.B)======\")\n",
    "print(A_dot_B)\n",
    "print(\"=====A power 4=======\")\n",
    "print(A_power_4)"
   ]
  },
  {
   "cell_type": "code",
   "execution_count": 42,
   "id": "8f759102-5a80-4a70-b3ec-58cbfd7797a0",
   "metadata": {},
   "outputs": [
    {
     "data": {
      "text/plain": [
       "21.6794833886788"
      ]
     },
     "execution_count": 42,
     "metadata": {},
     "output_type": "execute_result"
    }
   ],
   "source": [
    "la.det(A) # to calculate the determinant of matrix\n",
    "la.norm(A) # to calculate the norm form of matrix"
   ]
  },
  {
   "cell_type": "code",
   "execution_count": 47,
   "id": "d86e185a-6381-4775-9689-1bcf65265293",
   "metadata": {},
   "outputs": [
    {
     "data": {
      "text/plain": [
       "array([['SquareFeet', 'Bedrooms', 'Bathrooms', 'Neighborhood',\n",
       "        'YearBuilt', 'Price'],\n",
       "       ['2126', '4', '1', 'Rural', '1969', '215355.28361820139'],\n",
       "       ['2459', '3', '2', 'Rural', '1980', '195014.22162584803'],\n",
       "       ...,\n",
       "       ['2979', '5', '3', 'Suburb', '1962', '384110.55559035065'],\n",
       "       ['2596', '5', '2', 'Rural', '1984', '380512.68595683837'],\n",
       "       ['1572', '5', '3', 'Rural', '2011', '221618.58321806978']],\n",
       "      dtype=object)"
      ]
     },
     "execution_count": 47,
     "metadata": {},
     "output_type": "execute_result"
    }
   ],
   "source": [
    "from numpy import genfromtxt\n",
    "#first way to load the csv file\n",
    "house_price=genfromtxt(\"housing_price_dataset.csv\",delimiter=\",\")  #doesn't give the headers of csv as an output (Here: Strings are considered as None values)\n",
    "house_price\n",
    "# another way to load the csv file\n",
    "my_file=np.loadtxt(\"housing_price_dataset.csv\",delimiter=\",\", dtype=object) #dtype: consider all the values as an string\n",
    "my_file"
   ]
  },
  {
   "cell_type": "code",
   "execution_count": null,
   "id": "6314c51d-7ec8-43f4-9850-335f540ce535",
   "metadata": {},
   "outputs": [],
   "source": [
    "features=my_file[0] #stores all the headers from the file (Not useful for performing calculations)\n",
    "features"
   ]
  },
  {
   "cell_type": "code",
   "execution_count": 54,
   "id": "9a293b48-bde5-43ba-aa22-b2ad38d14da7",
   "metadata": {},
   "outputs": [],
   "source": [
    "my_file = np.delete(my_file,0,axis=0)   # to delete the headers from the csv\n"
   ]
  },
  {
   "cell_type": "code",
   "execution_count": 55,
   "id": "3d24bbd9-f5a0-4145-9db7-72f8dfb028e7",
   "metadata": {},
   "outputs": [
    {
     "data": {
      "text/plain": [
       "(49999, 6)"
      ]
     },
     "execution_count": 55,
     "metadata": {},
     "output_type": "execute_result"
    }
   ],
   "source": [
    "my_file.shape  # to count the total number of rows present in our dataset"
   ]
  },
  {
   "cell_type": "code",
   "execution_count": 49,
   "id": "2696cb9f-e928-4f88-b6bf-fc6bb93824b7",
   "metadata": {},
   "outputs": [],
   "source": [
    "my_file=np.where(my_file=='', '0',my_file) #where is used to provide default values like: '0' is the default value for any column having the null value"
   ]
  },
  {
   "cell_type": "code",
   "execution_count": 51,
   "id": "f5431f44-37fb-48fa-82cb-f632b0a166c9",
   "metadata": {},
   "outputs": [
    {
     "data": {
      "text/plain": [
       "array([], dtype=object)"
      ]
     },
     "execution_count": 51,
     "metadata": {},
     "output_type": "execute_result"
    }
   ],
   "source": [
    "my_file[my_file=='0']  #returns where the null values present in the complete dataset"
   ]
  },
  {
   "cell_type": "code",
   "execution_count": 64,
   "id": "aa5ab053-189b-4478-81e3-b1da91b83e5d",
   "metadata": {},
   "outputs": [
    {
     "name": "stdout",
     "output_type": "stream",
     "text": [
      "Average value:  224827.51459560997\n",
      "Mean value: 224827.51459560997\n",
      "Standard deviation:  76141.83118235963\n",
      "Variance: 5797578455.802954\n"
     ]
    }
   ],
   "source": [
    "prices= my_file[:,5].astype(float)  #returns the complete price column \n",
    "print(\"Average value: \",np.average(prices))\n",
    "print(\"Mean value:\",np.mean(prices))  \n",
    "print(\"Standard deviation: \",np.std(prices)) #standard deviation: diff between mean point and end point \n",
    "print(\"Variance:\",np.var(prices)) "
   ]
  },
  {
   "cell_type": "code",
   "execution_count": 70,
   "id": "14a1ea38-a24b-42f4-adaf-ca9804e84001",
   "metadata": {},
   "outputs": [
    {
     "name": "stdout",
     "output_type": "stream",
     "text": [
      "4.0\n",
      "4.0\n",
      "2.0\n",
      "1.4142135623730951\n"
     ]
    }
   ],
   "source": [
    "array=np.array([4,6,3,5,2])\n",
    "print(np.average(array))\n",
    "print(np.mean(array))\n",
    "print(np.var(array))\n",
    "print(np.std(array))"
   ]
  },
  {
   "cell_type": "code",
   "execution_count": null,
   "id": "f9bb0130-1c1d-4b4f-a495-8a08b4960ca0",
   "metadata": {},
   "outputs": [],
   "source": []
  },
  {
   "cell_type": "code",
   "execution_count": null,
   "id": "ef9cf900-3739-4bc3-bf7a-5cd955189444",
   "metadata": {},
   "outputs": [],
   "source": []
  }
 ],
 "metadata": {
  "kernelspec": {
   "display_name": "Python 3 (ipykernel)",
   "language": "python",
   "name": "python3"
  },
  "language_info": {
   "codemirror_mode": {
    "name": "ipython",
    "version": 3
   },
   "file_extension": ".py",
   "mimetype": "text/x-python",
   "name": "python",
   "nbconvert_exporter": "python",
   "pygments_lexer": "ipython3",
   "version": "3.12.7"
  }
 },
 "nbformat": 4,
 "nbformat_minor": 5
}
